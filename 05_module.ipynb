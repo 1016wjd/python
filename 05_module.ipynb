{
 "cells": [
  {
   "cell_type": "markdown",
   "id": "210a2d35-cee5-476f-97fa-3a816581d67b",
   "metadata": {},
   "source": [
    "# 1. 모듈"
   ]
  },
  {
   "cell_type": "code",
   "execution_count": 1,
   "id": "7a7b12a6-5bf5-4397-81f4-da6ebf8706ea",
   "metadata": {},
   "outputs": [],
   "source": [
    "import fibo "
   ]
  },
  {
   "cell_type": "code",
   "execution_count": 2,
   "id": "44da0c68-eb24-4dc7-b199-1637e2f03b21",
   "metadata": {},
   "outputs": [
    {
     "name": "stdout",
     "output_type": "stream",
     "text": [
      "<module 'fibo' from 'C:\\\\Users\\\\user\\\\Desktop\\\\camp29\\\\python\\\\fibo.py'>\n"
     ]
    }
   ],
   "source": [
    "print(fibo)"
   ]
  },
  {
   "cell_type": "code",
   "execution_count": 5,
   "id": "cc42b826-4a8b-41d6-90a6-5d83d74f0251",
   "metadata": {},
   "outputs": [
    {
     "data": {
      "text/plain": [
       "5"
      ]
     },
     "execution_count": 5,
     "metadata": {},
     "output_type": "execute_result"
    }
   ],
   "source": [
    "fibo.fib_loop(4)"
   ]
  },
  {
   "cell_type": "code",
   "execution_count": 6,
   "id": "ea10194b-0598-4429-9786-e8ad0df61e5d",
   "metadata": {},
   "outputs": [
    {
     "data": {
      "text/plain": [
       "3"
      ]
     },
     "execution_count": 6,
     "metadata": {},
     "output_type": "execute_result"
    }
   ],
   "source": [
    "fibo.fib_rec(3)"
   ]
  },
  {
   "cell_type": "markdown",
   "id": "136a38e1-aece-45d3-8e71-2768e1fba8cd",
   "metadata": {},
   "source": [
    "# 2. 패키지\n",
    "\n",
    "```\n",
    "myPackage/\n",
    "    __init__.py\n",
    "    math/\n",
    "\n",
    "        __init__.py\n",
    "        fibo.py\n",
    "        formula.py\n",
    "```\n",
    "\n",
    "패키지 안에 __init__.py 파일이 있어야 패키지로 인식"
   ]
  },
  {
   "cell_type": "code",
   "execution_count": 19,
   "id": "40d2d8cf-cb43-432c-9e04-694e8f3d276e",
   "metadata": {},
   "outputs": [],
   "source": [
    "#패키지 폴더를 전체 추가\n",
    "import myPackage"
   ]
  },
  {
   "cell_type": "code",
   "execution_count": 20,
   "id": "eaa3e037-7bf4-41bf-98f9-450fc420b780",
   "metadata": {},
   "outputs": [
    {
     "name": "stdout",
     "output_type": "stream",
     "text": [
      "<module 'myPackage' from 'C:\\\\Users\\\\user\\\\Desktop\\\\camp29\\\\python\\\\myPackage\\\\__init__.py'>\n"
     ]
    }
   ],
   "source": [
    "print(myPackage)"
   ]
  },
  {
   "cell_type": "code",
   "execution_count": 21,
   "id": "be9941d8-bbea-4950-a715-5b545c195a60",
   "metadata": {},
   "outputs": [],
   "source": [
    "#패키지에서 필요한 모듈을 꺼내오는 코드\n",
    "from myPackage.math import formula\n"
   ]
  },
  {
   "cell_type": "code",
   "execution_count": 22,
   "id": "2585fefd-5148-4353-b072-170a2c8e9b07",
   "metadata": {},
   "outputs": [
    {
     "data": {
      "text/plain": [
       "3.14"
      ]
     },
     "execution_count": 22,
     "metadata": {},
     "output_type": "execute_result"
    }
   ],
   "source": [
    "formula.pi"
   ]
  },
  {
   "cell_type": "code",
   "execution_count": 23,
   "id": "e6b7a96f-7a65-4ab4-acc5-ec332d6e24a1",
   "metadata": {},
   "outputs": [
    {
     "data": {
      "text/plain": [
       "2"
      ]
     },
     "execution_count": 23,
     "metadata": {},
     "output_type": "execute_result"
    }
   ],
   "source": [
    "formula.my_max(1,2)"
   ]
  },
  {
   "cell_type": "code",
   "execution_count": 24,
   "id": "f7282dc1-6410-4eb9-a680-8a017bad2c9a",
   "metadata": {},
   "outputs": [],
   "source": [
    "#경로에 있는 모듈이 가지고 있는 변수, 함수 추가\n",
    "from myPackage.math.fibo import *"
   ]
  },
  {
   "cell_type": "code",
   "execution_count": 25,
   "id": "4e8174e0-2203-487a-9172-89641cb63c52",
   "metadata": {},
   "outputs": [
    {
     "data": {
      "text/plain": [
       "89"
      ]
     },
     "execution_count": 25,
     "metadata": {},
     "output_type": "execute_result"
    }
   ],
   "source": [
    "fib_loop(10)"
   ]
  },
  {
   "cell_type": "code",
   "execution_count": 26,
   "id": "884466db-2cbb-4dc0-9422-801eec62e00b",
   "metadata": {},
   "outputs": [
    {
     "name": "stdout",
     "output_type": "stream",
     "text": [
      "1234\n"
     ]
    }
   ],
   "source": [
    "#이름이 겹치는 상황\n",
    "formula = 1234\n",
    "from myPackage.math import formula as f # as를 통해 다른 이름이로 불러오기 가능\n",
    "print(formula)\n"
   ]
  },
  {
   "cell_type": "markdown",
   "id": "b530fdb3-591d-4ee6-91bd-05250b66caee",
   "metadata": {},
   "source": [
    "# 3. 파이썬 내장 패키지"
   ]
  },
  {
   "cell_type": "markdown",
   "id": "3c940627-8b2a-4ecb-832b-b75f7cc0ca9e",
   "metadata": {},
   "source": [
    "## 3 .1 math"
   ]
  },
  {
   "cell_type": "code",
   "execution_count": 32,
   "id": "f725707a-437e-4738-a870-340a05088171",
   "metadata": {},
   "outputs": [],
   "source": [
    "import math"
   ]
  },
  {
   "cell_type": "code",
   "execution_count": 33,
   "id": "acd3d3b5-1599-492a-bcc1-e6fbe61efbb7",
   "metadata": {},
   "outputs": [
    {
     "data": {
      "text/plain": [
       "3.141592653589793"
      ]
     },
     "execution_count": 33,
     "metadata": {},
     "output_type": "execute_result"
    }
   ],
   "source": [
    "math.pi"
   ]
  },
  {
   "cell_type": "code",
   "execution_count": 34,
   "id": "dddd6a5a-a129-4328-8690-c4552cf6c48b",
   "metadata": {},
   "outputs": [
    {
     "data": {
      "text/plain": [
       "2.718281828459045"
      ]
     },
     "execution_count": 34,
     "metadata": {},
     "output_type": "execute_result"
    }
   ],
   "source": [
    "math.e"
   ]
  },
  {
   "cell_type": "code",
   "execution_count": 35,
   "id": "ec736f2c-5d88-470e-98bb-7d920f47c719",
   "metadata": {},
   "outputs": [],
   "source": [
    "pi = 3.141592"
   ]
  },
  {
   "cell_type": "code",
   "execution_count": 37,
   "id": "67d1dd1e-b1bb-4f6d-af90-e358965ca80c",
   "metadata": {},
   "outputs": [
    {
     "data": {
      "text/plain": [
       "4"
      ]
     },
     "execution_count": 37,
     "metadata": {},
     "output_type": "execute_result"
    }
   ],
   "source": [
    "math.ceil(pi)"
   ]
  },
  {
   "cell_type": "code",
   "execution_count": 38,
   "id": "87a8913a-374a-4159-a3db-c7ed3ffefacf",
   "metadata": {},
   "outputs": [
    {
     "data": {
      "text/plain": [
       "3"
      ]
     },
     "execution_count": 38,
     "metadata": {},
     "output_type": "execute_result"
    }
   ],
   "source": [
    "math.floor(pi)"
   ]
  },
  {
   "cell_type": "code",
   "execution_count": 39,
   "id": "b1d6cf20-2149-447a-8e7f-359bc2fa6f80",
   "metadata": {},
   "outputs": [
    {
     "data": {
      "text/plain": [
       "3.0"
      ]
     },
     "execution_count": 39,
     "metadata": {},
     "output_type": "execute_result"
    }
   ],
   "source": [
    "math.sqrt(9)"
   ]
  },
  {
   "cell_type": "markdown",
   "id": "8be1f225-9438-4800-bc48-a2441a4f769e",
   "metadata": {},
   "source": [
    "## 3.2 random"
   ]
  },
  {
   "cell_type": "code",
   "execution_count": 42,
   "id": "afcabe2c-5367-4bda-8904-43e42c1e24ad",
   "metadata": {},
   "outputs": [],
   "source": [
    "import random"
   ]
  },
  {
   "cell_type": "code",
   "execution_count": 44,
   "id": "4d9f98c5-4f8d-46a5-9b45-9c4be2b77175",
   "metadata": {},
   "outputs": [
    {
     "data": {
      "text/plain": [
       "<function Random.random()>"
      ]
     },
     "execution_count": 44,
     "metadata": {},
     "output_type": "execute_result"
    }
   ],
   "source": [
    "random.random #0에서 1사이의 랜덤 데이터 출력"
   ]
  },
  {
   "cell_type": "code",
   "execution_count": 46,
   "id": "1dbe9b22-7217-485c-80d6-791405884359",
   "metadata": {},
   "outputs": [
    {
     "data": {
      "text/plain": [
       "7"
      ]
     },
     "execution_count": 46,
     "metadata": {},
     "output_type": "execute_result"
    }
   ],
   "source": [
    "random.randint(1,10)"
   ]
  },
  {
   "cell_type": "code",
   "execution_count": 51,
   "id": "464d5a89-80a9-4f06-9435-cfd1a97f4482",
   "metadata": {},
   "outputs": [
    {
     "data": {
      "text/plain": [
       "0.13436424411240122"
      ]
     },
     "execution_count": 51,
     "metadata": {},
     "output_type": "execute_result"
    }
   ],
   "source": [
    "# seed \n",
    "random.seed(1) # 임의의 난수 \n",
    "random.random()"
   ]
  },
  {
   "cell_type": "code",
   "execution_count": 54,
   "id": "190503ca-8c43-4478-af91-87ff65437c26",
   "metadata": {},
   "outputs": [
    {
     "name": "stdout",
     "output_type": "stream",
     "text": [
      "[1, 2, 3, 5, 4]\n"
     ]
    }
   ],
   "source": [
    "# shuffle 데이터 섞을 때 사용\n",
    "a = [1, 2, 3, 4, 5]\n",
    "random.shuffle(a)\n",
    "print(a)"
   ]
  },
  {
   "cell_type": "code",
   "execution_count": 57,
   "id": "74306f0e-f86a-4277-ada9-58073a78ef1c",
   "metadata": {},
   "outputs": [
    {
     "name": "stdout",
     "output_type": "stream",
     "text": [
      "바위\n"
     ]
    }
   ],
   "source": [
    "# choice\n",
    "a = ['가위', '바위', '보']\n",
    "print(random.choice(a))"
   ]
  },
  {
   "cell_type": "code",
   "execution_count": 58,
   "id": "81348709-1a9b-4ec4-9c56-d320eb2d1044",
   "metadata": {},
   "outputs": [
    {
     "data": {
      "text/plain": [
       "[2, 25, 28, 39, 1, 29]"
      ]
     },
     "execution_count": 58,
     "metadata": {},
     "output_type": "execute_result"
    }
   ],
   "source": [
    "# sample\n",
    "a = range(1,46)\n",
    "random.sample(a,6)"
   ]
  },
  {
   "cell_type": "markdown",
   "id": "daff5f26-34aa-4e1c-b9e8-6d75126511ed",
   "metadata": {},
   "source": [
    "## 3.3 datetime"
   ]
  },
  {
   "cell_type": "code",
   "execution_count": 60,
   "id": "57a64b4b-9bac-42cb-ae52-469428c7fed0",
   "metadata": {},
   "outputs": [],
   "source": [
    "from datetime import datetime"
   ]
  },
  {
   "cell_type": "code",
   "execution_count": 61,
   "id": "aff0a9e9-2063-4b29-98ad-736550989040",
   "metadata": {},
   "outputs": [
    {
     "name": "stdout",
     "output_type": "stream",
     "text": [
      "2023-07-31 16:21:01.652524\n"
     ]
    }
   ],
   "source": [
    "now = datetime.now()\n",
    "print(now)"
   ]
  },
  {
   "cell_type": "code",
   "execution_count": 63,
   "id": "c50a9479-c1e9-416c-af1d-5288279c8753",
   "metadata": {},
   "outputs": [
    {
     "name": "stdout",
     "output_type": "stream",
     "text": [
      "2023-07-31 07:23:11.357404\n"
     ]
    }
   ],
   "source": [
    "utc = datetime.utcnow()\n",
    "print(utc)"
   ]
  },
  {
   "cell_type": "code",
   "execution_count": 64,
   "id": "16eaaf4e-a78d-4f7c-bbdd-6fc886034d46",
   "metadata": {},
   "outputs": [
    {
     "data": {
      "text/plain": [
       "'2023년 07월 31일'"
      ]
     },
     "execution_count": 64,
     "metadata": {},
     "output_type": "execute_result"
    }
   ],
   "source": [
    "now.strftime('%Y년 %m월 %d일')"
   ]
  },
  {
   "cell_type": "code",
   "execution_count": 65,
   "id": "7ab7bf44-44ee-4520-81bf-46d4154a1505",
   "metadata": {},
   "outputs": [
    {
     "data": {
      "text/plain": [
       "2023"
      ]
     },
     "execution_count": 65,
     "metadata": {},
     "output_type": "execute_result"
    }
   ],
   "source": [
    "now.year"
   ]
  },
  {
   "cell_type": "code",
   "execution_count": 66,
   "id": "a9de1ef5-9b95-4f54-8c34-1019b2c5af87",
   "metadata": {},
   "outputs": [
    {
     "data": {
      "text/plain": [
       "31"
      ]
     },
     "execution_count": 66,
     "metadata": {},
     "output_type": "execute_result"
    }
   ],
   "source": [
    "now.day"
   ]
  },
  {
   "cell_type": "code",
   "execution_count": 67,
   "id": "0f3ae0b3-6153-4e20-9fae-bbc6eae76118",
   "metadata": {},
   "outputs": [
    {
     "data": {
      "text/plain": [
       "0"
      ]
     },
     "execution_count": 67,
     "metadata": {},
     "output_type": "execute_result"
    }
   ],
   "source": [
    "# weekday >0~6 월~일\n",
    "now.weekday()"
   ]
  },
  {
   "cell_type": "code",
   "execution_count": 79,
   "id": "72face9a-9663-419b-bdb4-0091412171a6",
   "metadata": {},
   "outputs": [
    {
     "name": "stdout",
     "output_type": "stream",
     "text": [
      "2023-01-01 00:00:00\n"
     ]
    }
   ],
   "source": [
    "birth = datetime(2023,1,1)\n",
    "print(birth)"
   ]
  },
  {
   "cell_type": "code",
   "execution_count": 80,
   "id": "27d8721a-4755-465a-9234-8dddc4d9bbfc",
   "metadata": {},
   "outputs": [],
   "source": [
    "from datetime import timedelta"
   ]
  },
  {
   "cell_type": "code",
   "execution_count": 81,
   "id": "d63ac157-5929-4bd9-90e8-c98adf8b2348",
   "metadata": {},
   "outputs": [
    {
     "name": "stdout",
     "output_type": "stream",
     "text": [
      "3 days, 0:00:00\n"
     ]
    }
   ],
   "source": [
    "future = timedelta(days = 3)\n",
    "print(future)"
   ]
  },
  {
   "cell_type": "code",
   "execution_count": 82,
   "id": "57414842-0e3c-46f1-a4c4-18f10d5138f4",
   "metadata": {},
   "outputs": [
    {
     "data": {
      "text/plain": [
       "datetime.datetime(2023, 1, 4, 0, 0)"
      ]
     },
     "execution_count": 82,
     "metadata": {},
     "output_type": "execute_result"
    }
   ],
   "source": [
    "birth + future"
   ]
  },
  {
   "cell_type": "code",
   "execution_count": 83,
   "id": "fd6a50cf-24a2-4972-b913-e19afb708a30",
   "metadata": {},
   "outputs": [],
   "source": [
    "christmas = datetime(2023,12,25)"
   ]
  },
  {
   "cell_type": "code",
   "execution_count": 84,
   "id": "d5dee962-ca23-47f2-a3cd-4cead0fbd8c8",
   "metadata": {},
   "outputs": [
    {
     "data": {
      "text/plain": [
       "datetime.timedelta(days=146, seconds=27538, microseconds=347476)"
      ]
     },
     "execution_count": 84,
     "metadata": {},
     "output_type": "execute_result"
    }
   ],
   "source": [
    "christmas - now"
   ]
  },
  {
   "cell_type": "code",
   "execution_count": null,
   "id": "8fb3e976-4523-4eb2-b45d-630db988dea8",
   "metadata": {},
   "outputs": [],
   "source": []
  }
 ],
 "metadata": {
  "kernelspec": {
   "display_name": "Python 3 (ipykernel)",
   "language": "python",
   "name": "python3"
  },
  "language_info": {
   "codemirror_mode": {
    "name": "ipython",
    "version": 3
   },
   "file_extension": ".py",
   "mimetype": "text/x-python",
   "name": "python",
   "nbconvert_exporter": "python",
   "pygments_lexer": "ipython3",
   "version": "3.11.4"
  }
 },
 "nbformat": 4,
 "nbformat_minor": 5
}
