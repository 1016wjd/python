{
 "cells": [
  {
   "cell_type": "markdown",
   "id": "7831e1d6-f811-4e48-addb-be6abff918d7",
   "metadata": {},
   "source": [
    "# 함수(function)"
   ]
  },
  {
   "cell_type": "code",
   "execution_count": null,
   "id": "de9f1d35-60d7-4ba6-8597-cd9877455ca7",
   "metadata": {},
   "outputs": [],
   "source": []
  },
  {
   "cell_type": "code",
   "execution_count": 9,
   "id": "b9867f2e-4727-4d0d-8ded-5b2137e51b71",
   "metadata": {},
   "outputs": [
    {
     "name": "stdout",
     "output_type": "stream",
     "text": [
      "직사각형의 둘레는 60, 면적은 200입니다.\n",
      "직사각형의 둘레는 260, 면적은 4000입니다.\n"
     ]
    }
   ],
   "source": [
    "height = 10\n",
    "width = 20\n",
    "\n",
    "height2 = 50\n",
    "width2 = 80\n",
    "#직사각형의 둘레는 ***, 면적은 *** 입니다.\n",
    "\n",
    "\n",
    "area = height * width\n",
    "perimeter = (height + width) * 2\n",
    "print(f'직사각형의 둘레는 {perimeter}, 면적은 {area}입니다.')\n",
    "\n",
    "area = height2 * width2\n",
    "perimeter = (height2 + width2) * 2\n",
    "print(f'직사각형의 둘레는 {perimeter}, 면적은 {area}입니다.')\n"
   ]
  },
  {
   "cell_type": "markdown",
   "id": "c237049c-0f3b-4eb6-8d2a-0b6060c3868d",
   "metadata": {},
   "source": [
    "## 함수의 선언과 호출\n",
    "\n",
    "```python\n",
    "def func_name(parameter1, parameter2...):\n",
    "    code1\n",
    "    code2\n",
    "    ...\n",
    "    return value\n",
    "```\n",
    "- 함수의 호출(실행)\n",
    "\n",
    "```\n",
    "func_name(parameter1, parameter2)\n",
    "```\n"
   ]
  },
  {
   "cell_type": "code",
   "execution_count": 10,
   "id": "8c7487ec-819c-40df-b340-98cb0c50c6fb",
   "metadata": {},
   "outputs": [],
   "source": [
    "# 선언부분\n",
    "def rectangle(height, width):\n",
    "    area = height * width\n",
    "    perimeter = (height + width) * 2\n",
    "    print(f'직사각형의 둘레는 {perimeter}, 면적은 {area}입니다.')"
   ]
  },
  {
   "cell_type": "code",
   "execution_count": 11,
   "id": "c769c104-ee6c-43d4-be7b-0d2cd7535389",
   "metadata": {},
   "outputs": [
    {
     "name": "stdout",
     "output_type": "stream",
     "text": [
      "직사각형의 둘레는 60, 면적은 200입니다.\n"
     ]
    }
   ],
   "source": [
    "# 실행부분\n",
    "rectangle(10,20)"
   ]
  },
  {
   "cell_type": "code",
   "execution_count": 13,
   "id": "38854d65-3ad0-46ef-a83b-821e0d1166bc",
   "metadata": {},
   "outputs": [
    {
     "data": {
      "text/plain": [
       "['ArithmeticError',\n",
       " 'AssertionError',\n",
       " 'AttributeError',\n",
       " 'BaseException',\n",
       " 'BaseExceptionGroup',\n",
       " 'BlockingIOError',\n",
       " 'BrokenPipeError',\n",
       " 'BufferError',\n",
       " 'BytesWarning',\n",
       " 'ChildProcessError',\n",
       " 'ConnectionAbortedError',\n",
       " 'ConnectionError',\n",
       " 'ConnectionRefusedError',\n",
       " 'ConnectionResetError',\n",
       " 'DeprecationWarning',\n",
       " 'EOFError',\n",
       " 'Ellipsis',\n",
       " 'EncodingWarning',\n",
       " 'EnvironmentError',\n",
       " 'Exception',\n",
       " 'ExceptionGroup',\n",
       " 'False',\n",
       " 'FileExistsError',\n",
       " 'FileNotFoundError',\n",
       " 'FloatingPointError',\n",
       " 'FutureWarning',\n",
       " 'GeneratorExit',\n",
       " 'IOError',\n",
       " 'ImportError',\n",
       " 'ImportWarning',\n",
       " 'IndentationError',\n",
       " 'IndexError',\n",
       " 'InterruptedError',\n",
       " 'IsADirectoryError',\n",
       " 'KeyError',\n",
       " 'KeyboardInterrupt',\n",
       " 'LookupError',\n",
       " 'MemoryError',\n",
       " 'ModuleNotFoundError',\n",
       " 'NameError',\n",
       " 'None',\n",
       " 'NotADirectoryError',\n",
       " 'NotImplemented',\n",
       " 'NotImplementedError',\n",
       " 'OSError',\n",
       " 'OverflowError',\n",
       " 'PendingDeprecationWarning',\n",
       " 'PermissionError',\n",
       " 'ProcessLookupError',\n",
       " 'RecursionError',\n",
       " 'ReferenceError',\n",
       " 'ResourceWarning',\n",
       " 'RuntimeError',\n",
       " 'RuntimeWarning',\n",
       " 'StopAsyncIteration',\n",
       " 'StopIteration',\n",
       " 'SyntaxError',\n",
       " 'SyntaxWarning',\n",
       " 'SystemError',\n",
       " 'SystemExit',\n",
       " 'TabError',\n",
       " 'TimeoutError',\n",
       " 'True',\n",
       " 'TypeError',\n",
       " 'UnboundLocalError',\n",
       " 'UnicodeDecodeError',\n",
       " 'UnicodeEncodeError',\n",
       " 'UnicodeError',\n",
       " 'UnicodeTranslateError',\n",
       " 'UnicodeWarning',\n",
       " 'UserWarning',\n",
       " 'ValueError',\n",
       " 'Warning',\n",
       " 'WindowsError',\n",
       " 'ZeroDivisionError',\n",
       " '__IPYTHON__',\n",
       " '__build_class__',\n",
       " '__debug__',\n",
       " '__doc__',\n",
       " '__import__',\n",
       " '__loader__',\n",
       " '__name__',\n",
       " '__package__',\n",
       " '__spec__',\n",
       " 'abs',\n",
       " 'aiter',\n",
       " 'all',\n",
       " 'anext',\n",
       " 'any',\n",
       " 'ascii',\n",
       " 'bin',\n",
       " 'bool',\n",
       " 'breakpoint',\n",
       " 'bytearray',\n",
       " 'bytes',\n",
       " 'callable',\n",
       " 'chr',\n",
       " 'classmethod',\n",
       " 'compile',\n",
       " 'complex',\n",
       " 'copyright',\n",
       " 'credits',\n",
       " 'delattr',\n",
       " 'dict',\n",
       " 'dir',\n",
       " 'display',\n",
       " 'divmod',\n",
       " 'enumerate',\n",
       " 'eval',\n",
       " 'exec',\n",
       " 'execfile',\n",
       " 'filter',\n",
       " 'float',\n",
       " 'format',\n",
       " 'frozenset',\n",
       " 'get_ipython',\n",
       " 'getattr',\n",
       " 'globals',\n",
       " 'hasattr',\n",
       " 'hash',\n",
       " 'help',\n",
       " 'hex',\n",
       " 'id',\n",
       " 'input',\n",
       " 'int',\n",
       " 'isinstance',\n",
       " 'issubclass',\n",
       " 'iter',\n",
       " 'len',\n",
       " 'license',\n",
       " 'list',\n",
       " 'locals',\n",
       " 'map',\n",
       " 'max',\n",
       " 'memoryview',\n",
       " 'min',\n",
       " 'next',\n",
       " 'object',\n",
       " 'oct',\n",
       " 'open',\n",
       " 'ord',\n",
       " 'pow',\n",
       " 'print',\n",
       " 'property',\n",
       " 'range',\n",
       " 'repr',\n",
       " 'reversed',\n",
       " 'round',\n",
       " 'runfile',\n",
       " 'set',\n",
       " 'setattr',\n",
       " 'slice',\n",
       " 'sorted',\n",
       " 'staticmethod',\n",
       " 'str',\n",
       " 'sum',\n",
       " 'super',\n",
       " 'tuple',\n",
       " 'type',\n",
       " 'vars',\n",
       " 'zip']"
      ]
     },
     "execution_count": 13,
     "metadata": {},
     "output_type": "execute_result"
    }
   ],
   "source": [
    "#파이썬 내부의 모든 함수들 목록\n",
    "dir(__builtins__)"
   ]
  },
  {
   "cell_type": "code",
   "execution_count": 14,
   "id": "3fe8333f-efb4-406a-9f25-409a4bee3951",
   "metadata": {},
   "outputs": [
    {
     "data": {
      "text/plain": [
       "5"
      ]
     },
     "execution_count": 14,
     "metadata": {},
     "output_type": "execute_result"
    }
   ],
   "source": [
    "max(1, 5)"
   ]
  },
  {
   "cell_type": "code",
   "execution_count": 20,
   "id": "74f151e1-6632-4fe3-925a-5bf2f5948bde",
   "metadata": {},
   "outputs": [],
   "source": [
    "def my_max(num1, num2):\n",
    "    if num1 > num2:\n",
    "        print(f'{num1}가 더 큽니다.')\n",
    "    elif num1 == num2:\n",
    "        print('두 수가 같습니다.')\n",
    "    else:\n",
    "        print(f'{num2}가 더 큽니다.')\n",
    "        "
   ]
  },
  {
   "cell_type": "code",
   "execution_count": 25,
   "id": "b30f4b46-cdf9-4887-b2a1-a421961ea1f5",
   "metadata": {},
   "outputs": [
    {
     "name": "stdout",
     "output_type": "stream",
     "text": [
      "두 수가 같습니다.\n",
      "두 수가 같습니다.\n",
      "None\n"
     ]
    }
   ],
   "source": [
    "my_max(4,4)\n",
    "result = my_max(10,10)\n",
    "print(result)"
   ]
  },
  {
   "cell_type": "markdown",
   "id": "60384c77-2ad7-4b0f-8378-e56e495091c8",
   "metadata": {},
   "source": [
    "## 함수의 return\n",
    "\n",
    "- 함수가 return을 만나면 해당 값을 반환하고 함수 종료\n",
    "- 만약 return이 없다면 None을 자동으로 반환\n",
    "- return은 오직 하나의 객체만 반환합니다.\n"
   ]
  },
  {
   "cell_type": "code",
   "execution_count": 30,
   "id": "ce823983-50ee-41a5-9d65-1e94e7847aee",
   "metadata": {},
   "outputs": [],
   "source": [
    "def my_max2(num1, num2):\n",
    "\n",
    "    #return 'hello' #리턴을 만나는 순간 아웃풋이 생겨 밑 코드 실행하지 않음\n",
    "    \n",
    "    if num1 > num2:\n",
    "        return num1\n",
    "    elif num1 < num2:\n",
    "        return num2\n",
    "    else:\n",
    "         return 0"
   ]
  },
  {
   "cell_type": "code",
   "execution_count": 31,
   "id": "d278951e-8901-4602-a36a-79b71fff6a36",
   "metadata": {},
   "outputs": [
    {
     "name": "stdout",
     "output_type": "stream",
     "text": [
      "hello가 더 큽니다.\n"
     ]
    }
   ],
   "source": [
    "my_max2(4,4)\n",
    "result = my_max2(5,10)\n",
    "print(f'{result}가 더 큽니다.')"
   ]
  },
  {
   "cell_type": "code",
   "execution_count": 39,
   "id": "3d419523-3b8c-405b-adbf-4b6fba8c0cd2",
   "metadata": {},
   "outputs": [],
   "source": [
    "def my_list_max(list_a, list_b):\n",
    "    if sum(list_a) > sum(list_b):\n",
    "        return list_a \n",
    "    else:\n",
    "        return list_b\n",
    "    "
   ]
  },
  {
   "cell_type": "code",
   "execution_count": 40,
   "id": "3b1d3d95-61d5-4012-b529-3977495af7ef",
   "metadata": {},
   "outputs": [
    {
     "data": {
      "text/plain": [
       "[11, 12]"
      ]
     },
     "execution_count": 40,
     "metadata": {},
     "output_type": "execute_result"
    }
   ],
   "source": [
    "my_list_max([10, 11], [11, 12])"
   ]
  },
  {
   "cell_type": "markdown",
   "id": "d98aa738-7922-4fa7-8020-3318df9052c8",
   "metadata": {},
   "source": [
    "## 함수의 인수\n"
   ]
  },
  {
   "cell_type": "markdown",
   "id": "625cfb02-ce06-48c8-9d9f-b87a236c2018",
   "metadata": {},
   "source": [
    "### 위치 인수\n",
    "기본적으로 함수는 인수의 위치로 판단합니다"
   ]
  },
  {
   "cell_type": "code",
   "execution_count": 2,
   "id": "ad4ec53e-81be-4874-857c-6ef6201912a8",
   "metadata": {},
   "outputs": [
    {
     "name": "stdout",
     "output_type": "stream",
     "text": [
      "1570.0\n",
      "785.0\n"
     ]
    }
   ],
   "source": [
    "def cylinder(r, h):\n",
    "    return 3.14 * r**2 * h\n",
    "\n",
    "print(cylinder(10, 5))\n",
    "print(cylinder(5, 10)) #순서 중요함"
   ]
  },
  {
   "cell_type": "markdown",
   "id": "254b4815-32a0-4dcf-bf8d-4906b5865b45",
   "metadata": {},
   "source": [
    "### 기본값\n",
    "```python\n",
    "def func(p1=v1)\n",
    "    return v1\n",
    "```"
   ]
  },
  {
   "cell_type": "code",
   "execution_count": 9,
   "id": "2da04df2-9972-4a8b-8171-b16353820c71",
   "metadata": {},
   "outputs": [
    {
     "name": "stdout",
     "output_type": "stream",
     "text": [
      "현정님 반갑습니다.\n",
      "익명님 반갑습니다.\n"
     ]
    }
   ],
   "source": [
    "def greeting(name = '익명'):\n",
    "    return f'{name}님 반갑습니다.'\n",
    "\n",
    "print(greeting('현정'))\n",
    "print(greeting()) #기본값이 없다면 오류"
   ]
  },
  {
   "cell_type": "code",
   "execution_count": 15,
   "id": "48883a2c-f282-480c-aaef-eb96a3263a3d",
   "metadata": {},
   "outputs": [
    {
     "ename": "SyntaxError",
     "evalue": "non-default argument follows default argument (739473619.py, line 1)",
     "output_type": "error",
     "traceback": [
      "\u001b[1;36m  Cell \u001b[1;32mIn[15], line 1\u001b[1;36m\u001b[0m\n\u001b[1;33m    def greeting(name = '익명', age): # 기본값이 있으면 위치 혼동되므로 뒤로 빼기\u001b[0m\n\u001b[1;37m                              ^\u001b[0m\n\u001b[1;31mSyntaxError\u001b[0m\u001b[1;31m:\u001b[0m non-default argument follows default argument\n"
     ]
    }
   ],
   "source": [
    "def greeting(name = '익명', age): # 기본값이 있으면 위치 혼동되므로 뒤로 빼기\n",
    "    return f'{name}님은 {age}살입니다.'"
   ]
  },
  {
   "cell_type": "code",
   "execution_count": 16,
   "id": "e3060d85-dc43-4a35-862c-aa17260a8886",
   "metadata": {},
   "outputs": [],
   "source": [
    "def greeting(age, name = '익명'): \n",
    "    return f'{name}님은 {age}살입니다.'"
   ]
  },
  {
   "cell_type": "code",
   "execution_count": 18,
   "id": "9b5c1a9c-5b47-4af9-9a7d-2452c3b92694",
   "metadata": {},
   "outputs": [
    {
     "data": {
      "text/plain": [
       "'김현정님은 26살입니다.'"
      ]
     },
     "execution_count": 18,
     "metadata": {},
     "output_type": "execute_result"
    }
   ],
   "source": [
    "greeting(26, '김현정')"
   ]
  },
  {
   "cell_type": "markdown",
   "id": "b55283cc-9c8d-46ed-bc5a-54a94d98caee",
   "metadata": {},
   "source": [
    "###  키워드 인자\n",
    "\n",
    "함수를 호출(실행)할 때 내가 원하는 위치에 직접적으로 특정인자를 전달가능"
   ]
  },
  {
   "cell_type": "code",
   "execution_count": 21,
   "id": "7ae3139b-2ebb-49be-853e-a85de04e2f9c",
   "metadata": {},
   "outputs": [
    {
     "name": "stdout",
     "output_type": "stream",
     "text": [
      "김현정님은 26살입니다.\n",
      "김현정님은 26살입니다.\n"
     ]
    }
   ],
   "source": [
    "def greeting(age, name = '익명'): \n",
    "    return f'{name}님은 {age}살입니다.'\n",
    "\n",
    "print(greeting(26, '김현정'))\n",
    "print(greeting(name = '김현정', age = 26)) # 직접 할당하면 괜찮음"
   ]
  },
  {
   "cell_type": "code",
   "execution_count": 23,
   "id": "371a08b4-abfd-4883-8164-095f4996a64e",
   "metadata": {},
   "outputs": [
    {
     "name": "stdout",
     "output_type": "stream",
     "text": [
      "안녕 하세요\n",
      "안녕!하세요?"
     ]
    }
   ],
   "source": [
    "print('안녕', '하세요')\n",
    "print('안녕', '하세요', sep = '!', end = '?')"
   ]
  },
  {
   "cell_type": "markdown",
   "id": "f5cd9ae4-647e-41e0-a475-55ed594b4e73",
   "metadata": {},
   "source": [
    "### 가변 인자 리스트\n",
    "```python\n",
    "\n",
    "def func(*params):\n",
    "    pass\n",
    "```"
   ]
  },
  {
   "cell_type": "code",
   "execution_count": 24,
   "id": "657adeb9-7ddc-4d9c-ac71-2215bb401f74",
   "metadata": {},
   "outputs": [
    {
     "name": "stdout",
     "output_type": "stream",
     "text": [
      "('hi', 'hello', '안녕')\n",
      "<class 'tuple'>\n"
     ]
    }
   ],
   "source": [
    "def my_print(*words):\n",
    "    print(words)\n",
    "    print(type(words))\n",
    "\n",
    "my_print('hi','hello','안녕')"
   ]
  },
  {
   "cell_type": "code",
   "execution_count": 41,
   "id": "e1799822-92b6-48eb-a93b-d05c64b30390",
   "metadata": {},
   "outputs": [],
   "source": [
    "def my_max(*numbers):\n",
    "    result = numbers[0]\n",
    "\n",
    "    for number in numbers:\n",
    "        if result < number:\n",
    "            result = number\n",
    "            \n",
    "    return result"
   ]
  },
  {
   "cell_type": "code",
   "execution_count": 42,
   "id": "9b47e91b-37cd-42ed-ab54-280e133dba70",
   "metadata": {},
   "outputs": [
    {
     "name": "stdout",
     "output_type": "stream",
     "text": [
      "5\n",
      "-1\n"
     ]
    }
   ],
   "source": [
    "print(my_max(1, 2, 3, 4, 5))\n",
    "print(my_max(-1, -2, -3, -4, -5))"
   ]
  },
  {
   "cell_type": "code",
   "execution_count": 43,
   "id": "79068a68-fcc2-4192-92fb-eed4c4a343a2",
   "metadata": {},
   "outputs": [
    {
     "data": {
      "text/plain": [
       "5"
      ]
     },
     "execution_count": 43,
     "metadata": {},
     "output_type": "execute_result"
    }
   ],
   "source": [
    "max(1, 2, 3, 4, 5)"
   ]
  },
  {
   "cell_type": "markdown",
   "id": "22fb437a-4250-4779-a36d-56de66529cc7",
   "metadata": {},
   "source": [
    "### 정의되지 않은 키워드 인자 처리하기\n",
    "```python\n",
    "\n",
    "def func(**kwargs)\n",
    "    pass\n",
    "```"
   ]
  },
  {
   "cell_type": "code",
   "execution_count": 44,
   "id": "7fd53b7f-c8bd-45fa-9c9c-7c8d5eac4c01",
   "metadata": {},
   "outputs": [
    {
     "name": "stdout",
     "output_type": "stream",
     "text": [
      "{'name': 'hong', 'age': 20}\n"
     ]
    }
   ],
   "source": [
    "info = {\n",
    "    'name': 'hong',\n",
    "    'age': 20,\n",
    "}\n",
    "\n",
    "print(info)"
   ]
  },
  {
   "cell_type": "code",
   "execution_count": 48,
   "id": "1fea88b8-6453-4e59-8817-b37e13a4e925",
   "metadata": {},
   "outputs": [
    {
     "name": "stdout",
     "output_type": "stream",
     "text": [
      "{'name': 'hong', 'age': 20, 'asdf': 1234}\n"
     ]
    }
   ],
   "source": [
    "info = dict(name = 'hong', age =20, asdf=1234)\n",
    "print(info)"
   ]
  },
  {
   "cell_type": "code",
   "execution_count": 51,
   "id": "a751a9d8-a288-4bf7-b987-1c0a712fe5d8",
   "metadata": {},
   "outputs": [
    {
     "name": "stdout",
     "output_type": "stream",
     "text": [
      "korean는 안녕입니다.\n",
      "english는 hello입니다.\n"
     ]
    }
   ],
   "source": [
    "def fake_dict(**kwargs):\n",
    "    for key, value in kwargs.items():\n",
    "        print(f'{key}는 {value}입니다.')\n",
    "\n",
    "fake_dict(korean='안녕', english='hello')"
   ]
  },
  {
   "cell_type": "markdown",
   "id": "5ec8316f-2638-4b90-96a5-8d336688822f",
   "metadata": {},
   "source": [
    "### 딕셔너리를 인자로 넣기(unpacking)"
   ]
  },
  {
   "cell_type": "code",
   "execution_count": 52,
   "id": "f11bb2fc-9e15-4b76-95ca-858af5101cf0",
   "metadata": {},
   "outputs": [
    {
     "name": "stdout",
     "output_type": "stream",
     "text": [
      "비밀번호가 일치하지 않습니다.\n"
     ]
    }
   ],
   "source": [
    "def sign_up(username, password,password_confirmation):\n",
    "    if password == password_confirmation:\n",
    "        print(f'{username}님 회원가입이 완료되었습니다.')\n",
    "    else:\n",
    "        print(f'비밀번호가 일치하지 않습니다.')\n",
    "\n",
    "sign_up('ochannge', 'qwer1234', 'qwer12345')"
   ]
  },
  {
   "cell_type": "code",
   "execution_count": 53,
   "id": "62c46191-1d55-4cac-b8b4-9d74a1b402c7",
   "metadata": {},
   "outputs": [
    {
     "name": "stdout",
     "output_type": "stream",
     "text": [
      "asdf1234님 회원가입이 완료되었습니다.\n"
     ]
    }
   ],
   "source": [
    "my_account = {\n",
    "    'username': 'asdf1234',\n",
    "    'password': '1q2w3e4r',\n",
    "    'password_confirmation': '1q2w3e4r',\n",
    "}\n",
    "\n",
    "sign_up(**my_account)"
   ]
  },
  {
   "cell_type": "markdown",
   "id": "55b51632-7e11-4f89-8b3f-cee3b197174c",
   "metadata": {},
   "source": [
    "### lambda 표현식\n",
    "```python\n",
    "lambda parameter: expression\n",
    "```\n",
    "- 이름이 없는 함수 만들 수 있음"
   ]
  },
  {
   "cell_type": "code",
   "execution_count": 54,
   "id": "13e5c5ea-a5a8-4d30-bdf5-809a6d47c242",
   "metadata": {},
   "outputs": [
    {
     "data": {
      "text/plain": [
       "3"
      ]
     },
     "execution_count": 54,
     "metadata": {},
     "output_type": "execute_result"
    }
   ],
   "source": [
    "(lambda a, b: a + b)(1, 2)"
   ]
  },
  {
   "cell_type": "code",
   "execution_count": 56,
   "id": "fee6cdd0-8d27-4231-a9cb-bd871ba33008",
   "metadata": {},
   "outputs": [
    {
     "data": {
      "text/plain": [
       "3"
      ]
     },
     "execution_count": 56,
     "metadata": {},
     "output_type": "execute_result"
    }
   ],
   "source": [
    "#위와 같은 코드\n",
    "def my_sum(a, b):\n",
    "    return a + b\n",
    "\n",
    "my_sum(1, 2)"
   ]
  },
  {
   "cell_type": "markdown",
   "id": "dd69c717-9207-4eb9-9b9b-9713f40803f2",
   "metadata": {},
   "source": [
    "###  타입 힌트"
   ]
  },
  {
   "cell_type": "code",
   "execution_count": 65,
   "id": "231ba36f-aea0-4659-8abc-7fee919fa1a4",
   "metadata": {},
   "outputs": [
    {
     "data": {
      "text/plain": [
       "3"
      ]
     },
     "execution_count": 65,
     "metadata": {},
     "output_type": "execute_result"
    }
   ],
   "source": [
    " def my_sum(num1: int, num2: int) -> int:\n",
    "    \"\"\"\n",
    "    두수의 합을 구하는 함수입니다.\n",
    "    매개변수 num1, num2를 받아서 num1 +num2를 리턴합니다.\n",
    "    \"\"\"\n",
    "    return num1 + num2\n",
    "     \n",
    "my_sum(1,2)"
   ]
  },
  {
   "cell_type": "markdown",
   "id": "18ed07e4-5720-4e92-a4b9-66a1711cedf9",
   "metadata": {},
   "source": [
    "### 이름공간(scope)\n",
    "파이썬에서 사용되는 이름들은 이름공간(namespace)에 저장되어 있습니다.\n",
    "\n",
    "L,E,G,B 순서대로 파이썬이 인식하여 처리함\n",
    "\n",
    "- Local scope : 정의된 함수 내부\n",
    "- Enclosed scope : 상위 함수\n",
    "- Global scope : 함수 밖의 변수 혹은 import된 모듈\n",
    "- Built-in scope : 파이썬이 기본적으로 가지고 있는 함수 혹은 변수"
   ]
  },
  {
   "cell_type": "code",
   "execution_count": 62,
   "id": "08d25fe5-d974-42a1-a9a6-0d1b31cc0a1f",
   "metadata": {},
   "outputs": [],
   "source": [
    "str = '123'"
   ]
  },
  {
   "cell_type": "code",
   "execution_count": 63,
   "id": "96803378-82ca-4a3c-8e98-85f1611061b5",
   "metadata": {},
   "outputs": [
    {
     "name": "stdout",
     "output_type": "stream",
     "text": [
      "123\n"
     ]
    }
   ],
   "source": [
    "print(str)"
   ]
  },
  {
   "cell_type": "code",
   "execution_count": 64,
   "id": "b674fb8a-a56f-4be1-be42-de355205df46",
   "metadata": {},
   "outputs": [
    {
     "ename": "TypeError",
     "evalue": "'str' object is not callable",
     "output_type": "error",
     "traceback": [
      "\u001b[1;31m---------------------------------------------------------------------------\u001b[0m",
      "\u001b[1;31mTypeError\u001b[0m                                 Traceback (most recent call last)",
      "Cell \u001b[1;32mIn[64], line 1\u001b[0m\n\u001b[1;32m----> 1\u001b[0m \u001b[38;5;28;43mstr\u001b[39;49m\u001b[43m(\u001b[49m\u001b[38;5;241;43m789\u001b[39;49m\u001b[43m)\u001b[49m\n",
      "\u001b[1;31mTypeError\u001b[0m: 'str' object is not callable"
     ]
    }
   ],
   "source": [
    "str(789) #변수를 만들어버렸기때문에 함수사용 제한"
   ]
  },
  {
   "cell_type": "code",
   "execution_count": 66,
   "id": "c592a148-303e-4a4a-be41-9d2e72953924",
   "metadata": {},
   "outputs": [],
   "source": [
    "del str #변수 지우기"
   ]
  },
  {
   "cell_type": "code",
   "execution_count": 69,
   "id": "ec8c51fb-5287-48d1-8b6f-5004f283b4f0",
   "metadata": {},
   "outputs": [
    {
     "name": "stdout",
     "output_type": "stream",
     "text": [
      "5\n"
     ]
    }
   ],
   "source": [
    "a = 1 \n",
    "def localscope(a):\n",
    "    print(a)\n",
    "\n",
    "localscope(5)\n",
    "\n",
    "#함수 내부를 먼저 출력함"
   ]
  },
  {
   "cell_type": "code",
   "execution_count": 72,
   "id": "0df85726-eeda-4785-aef9-98bb708de3d9",
   "metadata": {},
   "outputs": [
    {
     "name": "stdout",
     "output_type": "stream",
     "text": [
      "20\n",
      "20\n"
     ]
    }
   ],
   "source": [
    "num = 10 \n",
    "def scope():\n",
    "    global num #이전의 데이터를 불러옴 num = 10 의미\n",
    "    num = 20 #변경\n",
    "    print(num)\n",
    "\n",
    "scope()\n",
    "print(num)"
   ]
  },
  {
   "cell_type": "markdown",
   "id": "2af5ff2e-02c1-4bd5-9818-ac70372be6ed",
   "metadata": {},
   "source": [
    "### 재귀(recursive)\n",
    "재귀 함수 내부에서 자기 자신을 호출하는 함수를 의미한다."
   ]
  },
  {
   "cell_type": "code",
   "execution_count": 1,
   "id": "3648f606-23c9-431c-acf6-d324280bba22",
   "metadata": {},
   "outputs": [
    {
     "data": {
      "text/plain": [
       "120"
      ]
     },
     "execution_count": 1,
     "metadata": {},
     "output_type": "execute_result"
    }
   ],
   "source": [
    "#팩토리얼(1*2*3*...*n = n!)\n",
    "def fact(n):\n",
    "    result = 1\n",
    "\n",
    "    while n > 1:\n",
    "        result = result * n\n",
    "        n = n-1\n",
    "\n",
    "    return result\n",
    "        \n",
    "    \n",
    "fact(5)"
   ]
  },
  {
   "cell_type": "markdown",
   "id": "6e0a2291-e501-4576-8cd1-1992b5df06b4",
   "metadata": {},
   "source": [
    "1! = 1\n",
    "2! = 1 * 2 = 1! * 2\n",
    "3! = 1 * 2 * 3 = 2! * 3\n",
    "\n",
    "fact(5)\n",
    "fact( fact(4) * 5)\n",
    "fact( fact( fact(3) * 4) * 5)"
   ]
  },
  {
   "cell_type": "code",
   "execution_count": 2,
   "id": "c8189c40-bf0f-4431-962f-0716464e187d",
   "metadata": {},
   "outputs": [
    {
     "data": {
      "text/plain": [
       "120"
      ]
     },
     "execution_count": 2,
     "metadata": {},
     "output_type": "execute_result"
    }
   ],
   "source": [
    "def factorial(n):\n",
    "    if n <= 1:\n",
    "        return 1\n",
    "    else:\n",
    "        return factorial(n-1) * n\n",
    "\n",
    "factorial(5)"
   ]
  },
  {
   "cell_type": "code",
   "execution_count": 4,
   "id": "49e98afb-c659-461c-ac9e-9df248b9d46a",
   "metadata": {},
   "outputs": [
    {
     "ename": "RecursionError",
     "evalue": "maximum recursion depth exceeded",
     "output_type": "error",
     "traceback": [
      "\u001b[1;31m---------------------------------------------------------------------------\u001b[0m",
      "\u001b[1;31mRecursionError\u001b[0m                            Traceback (most recent call last)",
      "Cell \u001b[1;32mIn[4], line 3\u001b[0m\n\u001b[0;32m      1\u001b[0m \u001b[38;5;28;01mdef\u001b[39;00m \u001b[38;5;21mtest_error\u001b[39m(n):\n\u001b[0;32m      2\u001b[0m     \u001b[38;5;28;01mreturn\u001b[39;00m test_error(n)\n\u001b[1;32m----> 3\u001b[0m \u001b[43mtest_error\u001b[49m\u001b[43m(\u001b[49m\u001b[38;5;241;43m1\u001b[39;49m\u001b[43m)\u001b[49m\n\u001b[0;32m      5\u001b[0m \u001b[38;5;66;03m#재귀가 끝나는 조건 없어서 무한히 돌아가므로 에러\u001b[39;00m\n",
      "Cell \u001b[1;32mIn[4], line 2\u001b[0m, in \u001b[0;36mtest_error\u001b[1;34m(n)\u001b[0m\n\u001b[0;32m      1\u001b[0m \u001b[38;5;28;01mdef\u001b[39;00m \u001b[38;5;21mtest_error\u001b[39m(n):\n\u001b[1;32m----> 2\u001b[0m     \u001b[38;5;28;01mreturn\u001b[39;00m \u001b[43mtest_error\u001b[49m\u001b[43m(\u001b[49m\u001b[43mn\u001b[49m\u001b[43m)\u001b[49m\n",
      "Cell \u001b[1;32mIn[4], line 2\u001b[0m, in \u001b[0;36mtest_error\u001b[1;34m(n)\u001b[0m\n\u001b[0;32m      1\u001b[0m \u001b[38;5;28;01mdef\u001b[39;00m \u001b[38;5;21mtest_error\u001b[39m(n):\n\u001b[1;32m----> 2\u001b[0m     \u001b[38;5;28;01mreturn\u001b[39;00m \u001b[43mtest_error\u001b[49m\u001b[43m(\u001b[49m\u001b[43mn\u001b[49m\u001b[43m)\u001b[49m\n",
      "    \u001b[1;31m[... skipping similar frames: test_error at line 2 (2971 times)]\u001b[0m\n",
      "Cell \u001b[1;32mIn[4], line 2\u001b[0m, in \u001b[0;36mtest_error\u001b[1;34m(n)\u001b[0m\n\u001b[0;32m      1\u001b[0m \u001b[38;5;28;01mdef\u001b[39;00m \u001b[38;5;21mtest_error\u001b[39m(n):\n\u001b[1;32m----> 2\u001b[0m     \u001b[38;5;28;01mreturn\u001b[39;00m \u001b[43mtest_error\u001b[49m\u001b[43m(\u001b[49m\u001b[43mn\u001b[49m\u001b[43m)\u001b[49m\n",
      "\u001b[1;31mRecursionError\u001b[0m: maximum recursion depth exceeded"
     ]
    }
   ],
   "source": [
    "def test_error(n):\n",
    "    return test_error(n)\n",
    "test_error(1)\n",
    "\n",
    "#재귀가 끝나는 조건 없어서 무한히 돌아가므로 에러"
   ]
  },
  {
   "cell_type": "markdown",
   "id": "7dfd80cb-7265-4344-96e0-eaff6fd71731",
   "metadata": {},
   "source": [
    "### 피보나치 수열 \n",
    "\n",
    "```\n",
    "F(0) = F(1) = 1\n",
    "F(n) = F(n-1) + f(n-2)\n",
    "```\n"
   ]
  },
  {
   "cell_type": "code",
   "execution_count": 34,
   "id": "2e9769f6-3c31-4825-88fb-e2c44199fdd7",
   "metadata": {},
   "outputs": [],
   "source": [
    "def fib_loop(n):\n",
    "    result = [1, 1]\n",
    "\n",
    "    for i in range(1, n):\n",
    "        end1 = result[-1]\n",
    "        end2 = result[len(result)-2]\n",
    "        fib_num = end1 + end2\n",
    "\n",
    "        result.append(fib_num)\n",
    "\n",
    "    return result[-1]"
   ]
  },
  {
   "cell_type": "code",
   "execution_count": 35,
   "id": "072728fc-cb1b-4a3d-975c-a823ad67c650",
   "metadata": {},
   "outputs": [
    {
     "data": {
      "text/plain": [
       "573147844013817084101"
      ]
     },
     "execution_count": 35,
     "metadata": {},
     "output_type": "execute_result"
    }
   ],
   "source": [
    "fib_loop(100)"
   ]
  },
  {
   "cell_type": "code",
   "execution_count": 36,
   "id": "8e896e53-2816-446f-afc9-a68a8b2c2301",
   "metadata": {},
   "outputs": [
    {
     "data": {
      "text/plain": [
       "13"
      ]
     },
     "execution_count": 36,
     "metadata": {},
     "output_type": "execute_result"
    }
   ],
   "source": [
    "#재귀\n",
    "def fib_rec(n):\n",
    "    if n == 0 or n == 1:\n",
    "        return 1\n",
    "    else:\n",
    "        return fib_rec(n-2) + fib_rec(n-1)\n",
    "\n",
    "fib_rec(6)"
   ]
  },
  {
   "cell_type": "code",
   "execution_count": 37,
   "id": "aa42bafb-5664-4d09-8246-e39f2f0e4d79",
   "metadata": {},
   "outputs": [
    {
     "data": {
      "text/plain": [
       "5"
      ]
     },
     "execution_count": 37,
     "metadata": {},
     "output_type": "execute_result"
    }
   ],
   "source": [
    "a = [1, 2, 3, 4, 5]\n",
    "a[-1]"
   ]
  },
  {
   "cell_type": "code",
   "execution_count": null,
   "id": "c3e2e182-3385-45a7-ad0d-33a22a81d62e",
   "metadata": {},
   "outputs": [],
   "source": []
  }
 ],
 "metadata": {
  "kernelspec": {
   "display_name": "Python 3 (ipykernel)",
   "language": "python",
   "name": "python3"
  },
  "language_info": {
   "codemirror_mode": {
    "name": "ipython",
    "version": 3
   },
   "file_extension": ".py",
   "mimetype": "text/x-python",
   "name": "python",
   "nbconvert_exporter": "python",
   "pygments_lexer": "ipython3",
   "version": "3.11.4"
  }
 },
 "nbformat": 4,
 "nbformat_minor": 5
}
