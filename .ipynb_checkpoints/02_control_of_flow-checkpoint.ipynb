{
 "cells": [
  {
   "cell_type": "markdown",
   "id": "26a5e144-b50a-46b5-a6fa-5a766a800157",
   "metadata": {},
   "source": [
    "# 제어문 "
   ]
  },
  {
   "cell_type": "markdown",
   "id": "9590d0db-7d8b-4948-af8d-0e99aaf53351",
   "metadata": {},
   "source": [
    "## 조건문 (if문)\n",
    "1. if 문은 반드시 일정한 참/거짓을 판단 할 수 있는 `조건식`과 함께 사용한다. (`if <조건식>:`)\n",
    "   \n",
    "2-1. `<조건식>`이 참인 경우 : 이후의 문장을 실행한다.\n",
    "   \n",
    "2-2. `<조건식>`이 거짓인 경우 `else` 이후의 문장을 실행한다\n",
    "\n",
    "if <조건식>:\n",
    "    print()\n",
    "else:\n",
    "    prnit()"
   ]
  },
  {
   "cell_type": "code",
   "execution_count": 2,
   "id": "536e6892-fd22-4276-a010-8862d2f46e83",
   "metadata": {},
   "outputs": [
    {
     "name": "stdin",
     "output_type": "stream",
     "text": [
      " 123\n"
     ]
    },
    {
     "name": "stdout",
     "output_type": "stream",
     "text": [
      "크리스마스가 아닙니다.\n"
     ]
    }
   ],
   "source": [
    "my_string = input()\n",
    "\n",
    "if my_string == '12/25':\n",
    "    print('크리스마스입니다.')\n",
    "else:\n",
    "    print('크리스마스가 아닙니다.')"
   ]
  },
  {
   "cell_type": "code",
   "execution_count": 11,
   "id": "b1c4d5eb-1280-446b-b72d-fd823f9060e0",
   "metadata": {},
   "outputs": [
    {
     "name": "stdin",
     "output_type": "stream",
     "text": [
      "숫자를 입력해주세요 123\n"
     ]
    }
   ],
   "source": [
    "num = input('숫자를 입력해주세요')"
   ]
  },
  {
   "cell_type": "code",
   "execution_count": 13,
   "id": "666c1e68-8b04-4851-a9ed-c2cc9cc6baba",
   "metadata": {},
   "outputs": [
    {
     "name": "stdout",
     "output_type": "stream",
     "text": [
      "홀수\n"
     ]
    }
   ],
   "source": [
    "#조건문을 사용해서 num에 들어있는 숫자가 홀수/짝수 인지 판별\n",
    "if (int(num) % 2) == 0:\n",
    "    print('짝수')\n",
    "else:\n",
    "    print('홀수')"
   ]
  },
  {
   "cell_type": "code",
   "execution_count": 16,
   "id": "3ffcefc6-beb2-449e-81cc-8be7ecd1af5a",
   "metadata": {},
   "outputs": [
    {
     "name": "stdout",
     "output_type": "stream",
     "text": [
      "홀수입니다\n"
     ]
    }
   ],
   "source": [
    "#num을 2로 나눈 나머지는 0, 1 두가지 경우가 있다.\n",
    "#if문의 조건식에 0, 1 은 자동변환되어 False, True 로 변환된다.\n",
    "if int(num) % 2:\n",
    "    print('홀수입니다')\n",
    "else:\n",
    "    print('짝수입니다')"
   ]
  },
  {
   "cell_type": "markdown",
   "id": "eccf2180-fc29-47e7-91cb-41921fc0956e",
   "metadata": {},
   "source": [
    "### elif\n",
    "\n",
    "```\n",
    "if <조건식>: \n",
    "    if 조건이 참인경우\n",
    "elif <조건식>:\n",
    "    elif 조건이 참인경우 실행\n",
    "...\n",
    "else:\n",
    "    위의 조건식에 하나도 부합하지 않는 경우 실행\n",
    "```"
   ]
  },
  {
   "cell_type": "code",
   "execution_count": 28,
   "id": "323f811f-71fd-4ca5-88b5-36b3ea5e2360",
   "metadata": {},
   "outputs": [
    {
     "name": "stdin",
     "output_type": "stream",
     "text": [
      " 92\n"
     ]
    }
   ],
   "source": [
    "score = int(input())\n"
   ]
  },
  {
   "cell_type": "code",
   "execution_count": 29,
   "id": "dd1f52f2-211e-48b0-8583-7c3678376426",
   "metadata": {},
   "outputs": [
    {
     "name": "stdout",
     "output_type": "stream",
     "text": [
      "A\n"
     ]
    }
   ],
   "source": [
    "# 90점 이상 A(95점 이상이면 '참잘했어요')\n",
    "# 80점 이상 B\n",
    "# 70점 이상 C\n",
    "# 나머지 F \n",
    "\n",
    "if score >= 90:\n",
    "    print('A')\n",
    "    if score >=95:\n",
    "        print('참잘했어요')\n",
    "elif score >= 80:\n",
    "    print('B')\n",
    "elif score >= 70:\n",
    "    print('c')\n",
    "else:\n",
    "    print('f')"
   ]
  },
  {
   "cell_type": "markdown",
   "id": "e583cde5-4ede-4ed5-af70-dce1734d3916",
   "metadata": {},
   "source": [
    "## 조건표현식\n",
    "\n",
    "```\n",
    "true_value if <조건식> else false_value\n",
    "```"
   ]
  },
  {
   "cell_type": "code",
   "execution_count": 34,
   "id": "451f1a21-56f1-4afb-9809-747cafdfcda0",
   "metadata": {},
   "outputs": [
    {
     "name": "stdout",
     "output_type": "stream",
     "text": [
      "False\n"
     ]
    }
   ],
   "source": [
    "print('True') if 1 < 0 else print('False')"
   ]
  },
  {
   "cell_type": "code",
   "execution_count": 42,
   "id": "c13a1a7d-3d4e-42a6-94a1-c464c623a797",
   "metadata": {},
   "outputs": [
    {
     "name": "stdout",
     "output_type": "stream",
     "text": [
      "True\n"
     ]
    }
   ],
   "source": [
    "if 1 > 0:\n",
    "    print('True')\n",
    "else:\n",
    "    print('False') #위와 같은 조건표현식"
   ]
  },
  {
   "cell_type": "code",
   "execution_count": 43,
   "id": "d15cd9ed-5fcb-490c-ad04-505a0d844c4d",
   "metadata": {},
   "outputs": [],
   "source": [
    "num = 5\n",
    "value = num if num >= 0 else 0 "
   ]
  },
  {
   "cell_type": "code",
   "execution_count": 44,
   "id": "8abc0ca9-68a0-4746-9eac-94625139cde8",
   "metadata": {},
   "outputs": [
    {
     "name": "stdout",
     "output_type": "stream",
     "text": [
      "0\n"
     ]
    }
   ],
   "source": [
    "num = -5\n",
    "if num >= 0:\n",
    "    value = num\n",
    "else:\n",
    "    value = 0 \n",
    "print(value)"
   ]
  },
  {
   "cell_type": "code",
   "execution_count": 45,
   "id": "6910de5d-87b6-41a3-a868-a6a64b6622e2",
   "metadata": {},
   "outputs": [
    {
     "name": "stdout",
     "output_type": "stream",
     "text": [
      "짝수\n"
     ]
    }
   ],
   "source": [
    "num = 2\n",
    "if num % 2 == 1:\n",
    "    result = '홀수'\n",
    "else:\n",
    "    result = '짝수'\n",
    "print(result)"
   ]
  },
  {
   "cell_type": "code",
   "execution_count": 48,
   "id": "e8301cd2-6db4-4f03-be09-27cedc882d6d",
   "metadata": {},
   "outputs": [
    {
     "name": "stdout",
     "output_type": "stream",
     "text": [
      "짝수\n"
     ]
    }
   ],
   "source": [
    "num = 2\n",
    "result = '홀수' if num % 2 == 1 else '짝수'\n",
    "print(result)"
   ]
  },
  {
   "cell_type": "code",
   "execution_count": null,
   "id": "d6056c78-9a8a-489f-971a-437efc65af9f",
   "metadata": {},
   "outputs": [],
   "source": []
  },
  {
   "cell_type": "code",
   "execution_count": null,
   "id": "a946713b-fcf9-42ce-84f5-be78245af92d",
   "metadata": {},
   "outputs": [],
   "source": []
  }
 ],
 "metadata": {
  "kernelspec": {
   "display_name": "Python 3 (ipykernel)",
   "language": "python",
   "name": "python3"
  },
  "language_info": {
   "codemirror_mode": {
    "name": "ipython",
    "version": 3
   },
   "file_extension": ".py",
   "mimetype": "text/x-python",
   "name": "python",
   "nbconvert_exporter": "python",
   "pygments_lexer": "ipython3",
   "version": "3.11.4"
  }
 },
 "nbformat": 4,
 "nbformat_minor": 5
}
