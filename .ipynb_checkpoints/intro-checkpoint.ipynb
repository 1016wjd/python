{
 "cells": [
  {
   "cell_type": "markdown",
   "id": "7eab64ca-699f-413d-be6e-815cc289b63b",
   "metadata": {},
   "source": [
    "# 01. intro\n",
    "\n",
    "## 단축기\n",
    "\n",
    "- ctrl + enter : 지금 셀 실행\n",
    "- shift + enter : 지금 셀 실행 & 아래로 이동\n",
    "- alt + ennter : 지금 행 실행 & 아래에 새로운 셀 추가\n",
    "\n",
    "## 주의사항  \n",
    "\n",
    "1. Apple / apple 다름 (대소문자 구분)\n",
    "2. git add . / git add. 은 다른 언어 (띄어쓰기중요)\n",
    "3. message / massage 철자 틀리지 않도록 주의\n"
   ]
  },
  {
   "cell_type": "code",
   "execution_count": null,
   "id": "5fbd0d3c-4354-423d-aae3-b3bff16eef49",
   "metadata": {},
   "outputs": [],
   "source": [
    "# 주석을 나타냅니다."
   ]
  },
  {
   "cell_type": "markdown",
   "id": "f39d3e1a-9d7f-433a-9c0d-e86e66d1ec0d",
   "metadata": {},
   "source": [
    "# 1. 변수\n",
    "\n",
    "변수이름 = 값 \n",
    "\n",
    "- 변수이름은 어떤 이름이든 상관 없음\n",
    "- 다만 영어, 숫자, _를 이용하아ㅕ 선언\n",
    "- 키워드는 사용불가"
   ]
  },
  {
   "cell_type": "code",
   "execution_count": 4,
   "id": "3d20d02a-9f41-4a9b-8668-d9f26271a096",
   "metadata": {},
   "outputs": [],
   "source": [
    "a = 10"
   ]
  },
  {
   "cell_type": "code",
   "execution_count": 5,
   "id": "54ba1392-6303-4139-ba65-9619aeb78672",
   "metadata": {},
   "outputs": [
    {
     "data": {
      "text/plain": [
       "10"
      ]
     },
     "execution_count": 5,
     "metadata": {},
     "output_type": "execute_result"
    }
   ],
   "source": [
    "a"
   ]
  },
  {
   "cell_type": "code",
   "execution_count": 6,
   "id": "94133d63-6d33-43bf-8b50-4cece7450bf2",
   "metadata": {},
   "outputs": [
    {
     "data": {
      "text/plain": [
       "['False',\n",
       " 'None',\n",
       " 'True',\n",
       " 'and',\n",
       " 'as',\n",
       " 'assert',\n",
       " 'async',\n",
       " 'await',\n",
       " 'break',\n",
       " 'class',\n",
       " 'continue',\n",
       " 'def',\n",
       " 'del',\n",
       " 'elif',\n",
       " 'else',\n",
       " 'except',\n",
       " 'finally',\n",
       " 'for',\n",
       " 'from',\n",
       " 'global',\n",
       " 'if',\n",
       " 'import',\n",
       " 'in',\n",
       " 'is',\n",
       " 'lambda',\n",
       " 'nonlocal',\n",
       " 'not',\n",
       " 'or',\n",
       " 'pass',\n",
       " 'raise',\n",
       " 'return',\n",
       " 'try',\n",
       " 'while',\n",
       " 'with',\n",
       " 'yield']"
      ]
     },
     "execution_count": 6,
     "metadata": {},
     "output_type": "execute_result"
    }
   ],
   "source": [
    "import keyword\n",
    "keyword.kwlist"
   ]
  },
  {
   "cell_type": "markdown",
   "id": "97e4cb72-3971-4b0e-a8d1-e53c1f59f02d",
   "metadata": {},
   "source": [
    "1.1 number"
   ]
  },
  {
   "cell_type": "code",
   "execution_count": 8,
   "id": "2f9aedd0-9ed1-49db-976d-ccebcff89d3c",
   "metadata": {},
   "outputs": [],
   "source": [
    "a = 10000000"
   ]
  },
  {
   "cell_type": "code",
   "execution_count": 9,
   "id": "e699939b-2574-4ddd-8e18-70adfb8bf190",
   "metadata": {},
   "outputs": [
    {
     "data": {
      "text/plain": [
       "10000000"
      ]
     },
     "execution_count": 9,
     "metadata": {},
     "output_type": "execute_result"
    }
   ],
   "source": [
    "a"
   ]
  },
  {
   "cell_type": "code",
   "execution_count": 10,
   "id": "7f5bbfa3-8327-44c1-a99a-d6699b793468",
   "metadata": {},
   "outputs": [
    {
     "data": {
      "text/plain": [
       "int"
      ]
     },
     "execution_count": 10,
     "metadata": {},
     "output_type": "execute_result"
    }
   ],
   "source": [
    "type(a)"
   ]
  },
  {
   "cell_type": "code",
   "execution_count": 11,
   "id": "3411ea0d-b9e9-470b-9312-76e00139c4d9",
   "metadata": {},
   "outputs": [
    {
     "data": {
      "text/plain": [
       "1.1"
      ]
     },
     "execution_count": 11,
     "metadata": {},
     "output_type": "execute_result"
    }
   ],
   "source": [
    "b = 1.1\n",
    "b"
   ]
  },
  {
   "cell_type": "code",
   "execution_count": 12,
   "id": "f049d2c3-b21b-4d72-9344-8f32c2bcf0b8",
   "metadata": {},
   "outputs": [
    {
     "data": {
      "text/plain": [
       "float"
      ]
     },
     "execution_count": 12,
     "metadata": {},
     "output_type": "execute_result"
    }
   ],
   "source": [
    "type(b)"
   ]
  },
  {
   "cell_type": "code",
   "execution_count": 13,
   "id": "e98d0bd1-2f95-4d04-9d77-4afbe4faa3d2",
   "metadata": {},
   "outputs": [],
   "source": [
    "c = 1 - 4j"
   ]
  },
  {
   "cell_type": "code",
   "execution_count": 14,
   "id": "8e30ee30-5228-4dca-934c-e6ee70678141",
   "metadata": {},
   "outputs": [
    {
     "data": {
      "text/plain": [
       "complex"
      ]
     },
     "execution_count": 14,
     "metadata": {},
     "output_type": "execute_result"
    }
   ],
   "source": [
    "c\n",
    "type(c) #복소수"
   ]
  },
  {
   "cell_type": "code",
   "execution_count": 15,
   "id": "50a50a1c-7dca-48e9-8ec3-9e44b43cd7a8",
   "metadata": {},
   "outputs": [
    {
     "data": {
      "text/plain": [
       "-4.0"
      ]
     },
     "execution_count": 15,
     "metadata": {},
     "output_type": "execute_result"
    }
   ],
   "source": [
    "c.imag # . 은 객체지향어 실수부"
   ]
  },
  {
   "cell_type": "code",
   "execution_count": 16,
   "id": "90e0b218-4609-45c0-887f-c1df1fa6038b",
   "metadata": {},
   "outputs": [
    {
     "data": {
      "text/plain": [
       "1.0"
      ]
     },
     "execution_count": 16,
     "metadata": {},
     "output_type": "execute_result"
    }
   ],
   "source": [
    "c.real # 허수부"
   ]
  },
  {
   "cell_type": "markdown",
   "id": "059b3c6c-2579-4cfb-9add-c98aabc73234",
   "metadata": {},
   "source": [
    "### 1.2 Booleam\n",
    "True, False로 이루어진 타입"
   ]
  },
  {
   "cell_type": "code",
   "execution_count": 17,
   "id": "a004908d-7f92-4070-a52e-a20181560ff5",
   "metadata": {},
   "outputs": [],
   "source": [
    "a = True "
   ]
  },
  {
   "cell_type": "code",
   "execution_count": 18,
   "id": "400c232d-2856-4f33-a246-a86427fb0d23",
   "metadata": {},
   "outputs": [
    {
     "data": {
      "text/plain": [
       "bool"
      ]
     },
     "execution_count": 18,
     "metadata": {},
     "output_type": "execute_result"
    }
   ],
   "source": [
    "type(a)"
   ]
  },
  {
   "cell_type": "code",
   "execution_count": 19,
   "id": "a343a619-6aa7-4c3b-b51e-835da12c25bf",
   "metadata": {},
   "outputs": [
    {
     "data": {
      "text/plain": [
       "bool"
      ]
     },
     "execution_count": 19,
     "metadata": {},
     "output_type": "execute_result"
    }
   ],
   "source": [
    "b = False\n",
    "type(b)"
   ]
  },
  {
   "cell_type": "code",
   "execution_count": 20,
   "id": "5283cf62-82b5-45ea-8d46-956d475837cf",
   "metadata": {},
   "outputs": [
    {
     "data": {
      "text/plain": [
       "False"
      ]
     },
     "execution_count": 20,
     "metadata": {},
     "output_type": "execute_result"
    }
   ],
   "source": [
    "bool(0) #true false 구분 함수"
   ]
  },
  {
   "cell_type": "markdown",
   "id": "a87db72a-c150-4309-a8d2-dea066c2d61d",
   "metadata": {},
   "source": [
    "1.3 None"
   ]
  },
  {
   "cell_type": "code",
   "execution_count": 21,
   "id": "152bce2e-0175-45ef-9965-67cc7c745bfe",
   "metadata": {},
   "outputs": [],
   "source": [
    "a = None #None은 비어있다는 의미"
   ]
  },
  {
   "cell_type": "code",
   "execution_count": 22,
   "id": "ab246f24-bb1f-4014-aca6-6e32d3020557",
   "metadata": {},
   "outputs": [
    {
     "data": {
      "text/plain": [
       "NoneType"
      ]
     },
     "execution_count": 22,
     "metadata": {},
     "output_type": "execute_result"
    }
   ],
   "source": [
    "type(a)"
   ]
  },
  {
   "cell_type": "markdown",
   "id": "a79057bb-e3fa-4742-86f4-43b4505c6935",
   "metadata": {},
   "source": [
    "### 1.4 Stirng \n",
    "\n",
    "- 문자열은 `'` `\"`를 이용하여 표현"
   ]
  },
  {
   "cell_type": "code",
   "execution_count": 24,
   "id": "a0c158f2-cdd5-4db4-8dc9-0bffc595a288",
   "metadata": {},
   "outputs": [
    {
     "data": {
      "text/plain": [
       "str"
      ]
     },
     "execution_count": 24,
     "metadata": {},
     "output_type": "execute_result"
    }
   ],
   "source": [
    "a = 'hello'\n",
    "type(a) "
   ]
  },
  {
   "cell_type": "code",
   "execution_count": 25,
   "id": "80c95de0-029f-4e97-8d7b-3fc9d0a70885",
   "metadata": {},
   "outputs": [
    {
     "data": {
      "text/plain": [
       "str"
      ]
     },
     "execution_count": 25,
     "metadata": {},
     "output_type": "execute_result"
    }
   ],
   "source": [
    "b = 'world'\n",
    "b\n",
    "type(b)"
   ]
  },
  {
   "cell_type": "code",
   "execution_count": 29,
   "id": "2c961855-7554-4bf9-a521-f65792d94034",
   "metadata": {},
   "outputs": [
    {
     "name": "stdin",
     "output_type": "stream",
     "text": [
      " 123\n"
     ]
    },
    {
     "name": "stdout",
     "output_type": "stream",
     "text": [
      "123\n",
      "<class 'str'>\n"
     ]
    }
   ],
   "source": [
    "age = input()\n",
    "print(age)\n",
    "print(type(age)) # input을 통해 입력된 123은 숫자가 아닌 문자로 들어감 "
   ]
  },
  {
   "cell_type": "code",
   "execution_count": 33,
   "id": "6fc644f0-4447-4ca5-9df0-7cf52e14f6ab",
   "metadata": {},
   "outputs": [
    {
     "ename": "SyntaxError",
     "evalue": "invalid syntax. Perhaps you forgot a comma? (247337823.py, line 1)",
     "output_type": "error",
     "traceback": [
      "\u001b[1;36m  Cell \u001b[1;32mIn[33], line 1\u001b[1;36m\u001b[0m\n\u001b[1;33m    print('안녕하세요?'김현정'입니다.')\u001b[0m\n\u001b[1;37m          ^\u001b[0m\n\u001b[1;31mSyntaxError\u001b[0m\u001b[1;31m:\u001b[0m invalid syntax. Perhaps you forgot a comma?\n"
     ]
    }
   ],
   "source": [
    "print('안녕하세요?'김현정'입니다.')"
   ]
  },
  {
   "cell_type": "code",
   "execution_count": 35,
   "id": "78c97670-9831-4d96-b6c4-aa61f8782869",
   "metadata": {},
   "outputs": [
    {
     "name": "stdout",
     "output_type": "stream",
     "text": [
      "안녕하세요?\"김현정\"입니다.\n"
     ]
    }
   ],
   "source": [
    "print('안녕하세요?' '\"김현정\"' '입니다.')"
   ]
  },
  {
   "cell_type": "code",
   "execution_count": 39,
   "id": "891c2afa-1f4c-45db-980a-af30c9eb9d9e",
   "metadata": {},
   "outputs": [
    {
     "name": "stdout",
     "output_type": "stream",
     "text": [
      "안녕하세요? '김현정' 입니다.\n"
     ]
    }
   ],
   "source": [
    "print('안녕하세요? \\'김현정\\' 입니다.') # 빽슬래쉬뒤는 문자취급"
   ]
  },
  {
   "cell_type": "code",
   "execution_count": 40,
   "id": "bf4db763-23ad-456b-84fc-9f630422c4f4",
   "metadata": {},
   "outputs": [],
   "source": [
    "a = '''\n",
    "여기는 문자열 입니다.\n",
    "엔터를 쳐서 여러줄을 작성할 수 있습니다.\n",
    "'''"
   ]
  },
  {
   "cell_type": "code",
   "execution_count": 41,
   "id": "d21ae54a-381e-4f52-8122-5c0f6730f1e3",
   "metadata": {},
   "outputs": [
    {
     "name": "stdout",
     "output_type": "stream",
     "text": [
      "\n",
      "여기는 문자열 입니다.\n",
      "엔터를 쳐서 여러줄을 작성할 수 있습니다.\n",
      "\n"
     ]
    }
   ],
   "source": [
    "print(a)"
   ]
  },
  {
   "cell_type": "code",
   "execution_count": 45,
   "id": "c67ac848-9c11-47d5-b04f-f1f734686da6",
   "metadata": {},
   "outputs": [
    {
     "name": "stdout",
     "output_type": "stream",
     "text": [
      "엔터를 입력해봐요 \n",
      "다음줄입니다. \t들여쓰기도 가능합니다.\n"
     ]
    }
   ],
   "source": [
    "print('엔터를 입력해봐요 \\n다음줄입니다. \\t들여쓰기도 가능합니다.') #\\n 줄바꿈 \\t 들여쓰기"
   ]
  },
  {
   "cell_type": "code",
   "execution_count": 47,
   "id": "fac4e7ea-ecef-4889-8e35-faff19ba861f",
   "metadata": {},
   "outputs": [
    {
     "name": "stdout",
     "output_type": "stream",
     "text": [
      "하나 둘 셋!"
     ]
    }
   ],
   "source": [
    "print('하나', '둘', '셋', end = '!')"
   ]
  },
  {
   "cell_type": "code",
   "execution_count": 50,
   "id": "109c3a45-b143-4323-a09d-a67f643e1737",
   "metadata": {},
   "outputs": [
    {
     "name": "stdout",
     "output_type": "stream",
     "text": [
      "하나/둘/셋\n"
     ]
    }
   ],
   "source": [
    "print('하나', '둘', '셋', sep='/')"
   ]
  },
  {
   "cell_type": "code",
   "execution_count": 54,
   "id": "ac6e5dd2-8c1f-4afd-ac4c-155ebbb3f38e",
   "metadata": {},
   "outputs": [
    {
     "name": "stdout",
     "output_type": "stream",
     "text": [
      "하나\t둘\t셋\n"
     ]
    }
   ],
   "source": [
    "print('하나', '둘', '셋', sep='\\t')"
   ]
  },
  {
   "cell_type": "markdown",
   "id": "c25249be-d27f-439c-9914-e35220dffc0b",
   "metadata": {},
   "source": [
    "#### string interpolation \n",
    "\n",
    "1. %-formatting\n",
    "2. str.format()\n",
    "3. f-string\n",
    "\n",
    "3번이 가장 트랜디함"
   ]
  },
  {
   "cell_type": "code",
   "execution_count": 53,
   "id": "7a62fe10-2704-4849-a765-a6740dcd5df8",
   "metadata": {},
   "outputs": [],
   "source": [
    "age = 20"
   ]
  },
  {
   "cell_type": "code",
   "execution_count": 55,
   "id": "21ddc139-af7d-4b41-8062-6883ac76840e",
   "metadata": {},
   "outputs": [
    {
     "name": "stdout",
     "output_type": "stream",
     "text": [
      "홍길동은 20살입니다.\n"
     ]
    }
   ],
   "source": [
    "print('홍길동은 %s살입니다.' % age)"
   ]
  },
  {
   "cell_type": "code",
   "execution_count": 57,
   "id": "a00ff1e7-6a94-40a4-8bb4-b726cc14b87f",
   "metadata": {},
   "outputs": [
    {
     "name": "stdout",
     "output_type": "stream",
     "text": [
      "홍길동은 20살입니다.\n"
     ]
    }
   ],
   "source": [
    "print('홍길동은 {}살입니다.'.format(age))"
   ]
  },
  {
   "cell_type": "code",
   "execution_count": 58,
   "id": "63fe5111-8ef1-4420-b9ea-62e8714da887",
   "metadata": {},
   "outputs": [
    {
     "name": "stdout",
     "output_type": "stream",
     "text": [
      "홍길동은 20살입니다.\n"
     ]
    }
   ],
   "source": [
    "print(f'홍길동은 {age}살입니다.') #f를 문장앞에 넣음"
   ]
  },
  {
   "cell_type": "markdown",
   "id": "b8e069af-0ec1-40ae-a4e0-6902b897af24",
   "metadata": {},
   "source": [
    "###2. 연산자\n",
    "\n",
    "2.1 산술연산자"
   ]
  },
  {
   "cell_type": "code",
   "execution_count": 64,
   "id": "c7cd0e87-540a-4c90-9468-fe77776eed4d",
   "metadata": {},
   "outputs": [],
   "source": [
    "a = 2\n",
    "b = 3"
   ]
  },
  {
   "cell_type": "code",
   "execution_count": 65,
   "id": "e03a6ce9-2da8-4d1d-a151-2a583f58e48f",
   "metadata": {},
   "outputs": [
    {
     "data": {
      "text/plain": [
       "5"
      ]
     },
     "execution_count": 65,
     "metadata": {},
     "output_type": "execute_result"
    }
   ],
   "source": [
    "a + b"
   ]
  },
  {
   "cell_type": "code",
   "execution_count": 66,
   "id": "58358094-ca3c-4d4a-ba95-4e71392ecdc1",
   "metadata": {},
   "outputs": [
    {
     "name": "stdout",
     "output_type": "stream",
     "text": [
      "5\n",
      "-1\n",
      "6\n",
      "0.6666666666666666\n",
      "8\n"
     ]
    }
   ],
   "source": [
    "print(a + b)\n",
    "print(a - b)\n",
    "print(a * b)\n",
    "print(a / b)\n",
    "print(a ** b)"
   ]
  },
  {
   "cell_type": "code",
   "execution_count": 69,
   "id": "5087c2aa-90f2-44ea-a9a8-ae99c300d6d4",
   "metadata": {},
   "outputs": [
    {
     "name": "stdout",
     "output_type": "stream",
     "text": [
      "0\n",
      "2\n",
      "(0, 2)\n"
     ]
    }
   ],
   "source": [
    "print(a // b) #몫 출력\n",
    "print(a % b) #나머지 출력\n",
    "print(divmod(a, b)) #몫 나머지 모두 출력"
   ]
  },
  {
   "cell_type": "markdown",
   "id": "0cd0ebd5-262e-49ee-83ac-eb695befcdeb",
   "metadata": {},
   "source": [
    "### 2. 2 비교 연산자"
   ]
  },
  {
   "cell_type": "code",
   "execution_count": 70,
   "id": "1e1e08b6-f8a9-46c5-aa69-64733946a2fe",
   "metadata": {},
   "outputs": [],
   "source": [
    "a = 5 \n",
    "b = 10"
   ]
  },
  {
   "cell_type": "code",
   "execution_count": 71,
   "id": "4cf29df7-5215-4a03-9020-f8c1467f7aa3",
   "metadata": {},
   "outputs": [
    {
     "name": "stdout",
     "output_type": "stream",
     "text": [
      "False\n",
      "True\n",
      "False\n",
      "True\n"
     ]
    }
   ],
   "source": [
    "print(a > b)\n",
    "print(a < b)\n",
    "print(a >= b)\n",
    "print(a <= b)"
   ]
  },
  {
   "cell_type": "code",
   "execution_count": 73,
   "id": "40e06d67-6794-4694-98e3-a12a61f9b914",
   "metadata": {},
   "outputs": [
    {
     "name": "stdout",
     "output_type": "stream",
     "text": [
      "False\n",
      "True\n"
     ]
    }
   ],
   "source": [
    "print(a == b) #같나요?\n",
    "print(a != b) #같지않나요?"
   ]
  },
  {
   "cell_type": "code",
   "execution_count": 75,
   "id": "c232f3f8-c650-4e93-b960-4d832c38b175",
   "metadata": {},
   "outputs": [
    {
     "name": "stdout",
     "output_type": "stream",
     "text": [
      "True\n",
      "False\n"
     ]
    }
   ],
   "source": [
    "print('hi' == 'hi')\n",
    "print('HI' == 'hi')"
   ]
  },
  {
   "cell_type": "markdown",
   "id": "38f65951-59be-40a0-8e48-5e4a6e4cc999",
   "metadata": {},
   "source": [
    "### 2. 3  논리연산자\n",
    "- and : 양쪽 모두 트루일때 True \n",
    "- or : 양쪽 중 하나만 True일 때 True \n",
    "- not\n"
   ]
  },
  {
   "cell_type": "code",
   "execution_count": 76,
   "id": "84767a5a-a0d4-486b-9dcc-4153b5f4410b",
   "metadata": {},
   "outputs": [
    {
     "name": "stdout",
     "output_type": "stream",
     "text": [
      "True\n",
      "False\n",
      "False\n",
      "False\n"
     ]
    }
   ],
   "source": [
    "print(True and True)\n",
    "print(True and False)\n",
    "print(False and True)\n",
    "print(False and False)"
   ]
  },
  {
   "cell_type": "code",
   "execution_count": 77,
   "id": "ede26ca1-066e-4361-940f-37046e1bbd29",
   "metadata": {},
   "outputs": [
    {
     "name": "stdout",
     "output_type": "stream",
     "text": [
      "True\n",
      "True\n",
      "True\n",
      "False\n"
     ]
    }
   ],
   "source": [
    "print(True or True) \n",
    "print(True or False) \n",
    "print(False or True)\n",
    "print(False or False)"
   ]
  },
  {
   "cell_type": "code",
   "execution_count": 78,
   "id": "7adee183-3929-4b42-8e49-5c6d4536e237",
   "metadata": {},
   "outputs": [
    {
     "name": "stdout",
     "output_type": "stream",
     "text": [
      "True\n",
      "False\n"
     ]
    }
   ],
   "source": [
    "print(True)\n",
    "print(not True)"
   ]
  },
  {
   "cell_type": "code",
   "execution_count": 80,
   "id": "5d82c6b0-f723-4b77-ba1c-9aa0f089b931",
   "metadata": {},
   "outputs": [
    {
     "name": "stdout",
     "output_type": "stream",
     "text": [
      "5\n",
      "0\n",
      "0\n",
      "0\n"
     ]
    }
   ],
   "source": [
    "#단축평가(and)\n",
    "print(3 and 5) #3은 True 의미이므로 앞을 출력\n",
    "print(3 and 0)\n",
    "print(0 and 5) #0은 False이므로 뒤에만 출력\n",
    "print(0 and 0)"
   ]
  },
  {
   "cell_type": "code",
   "execution_count": 81,
   "id": "39bd2f54-7ffd-4acd-8c9b-0e52e3b25aa6",
   "metadata": {},
   "outputs": [
    {
     "name": "stdout",
     "output_type": "stream",
     "text": [
      "3\n",
      "3\n",
      "5\n",
      "0\n"
     ]
    }
   ],
   "source": [
    "#단축평가(or)\n",
    "print(3 or 5) \n",
    "print(3 or 0)\n",
    "print(0 or 5) \n",
    "print(0 or 0)"
   ]
  },
  {
   "cell_type": "markdown",
   "id": "5e5d80db-a4fb-4a8a-aa50-2f1e685462ae",
   "metadata": {},
   "source": [
    "### 2.3 복합연산자"
   ]
  },
  {
   "cell_type": "code",
   "execution_count": 94,
   "id": "9d831063-77cd-4c62-a271-90ee66c59f43",
   "metadata": {},
   "outputs": [],
   "source": [
    "a = 1\n",
    "b = 2"
   ]
  },
  {
   "cell_type": "code",
   "execution_count": 95,
   "id": "346f4b12-b637-47dc-b712-d241bce97275",
   "metadata": {},
   "outputs": [],
   "source": []
  },
  {
   "cell_type": "code",
   "execution_count": null,
   "id": "5c11b9c6-07d1-4c93-84e0-54fbb2d11365",
   "metadata": {},
   "outputs": [],
   "source": []
  },
  {
   "cell_type": "code",
   "execution_count": 91,
   "id": "9de3a41d-ef77-49d7-a840-c49c4261cb09",
   "metadata": {},
   "outputs": [
    {
     "data": {
      "text/plain": [
       "2"
      ]
     },
     "execution_count": 91,
     "metadata": {},
     "output_type": "execute_result"
    }
   ],
   "source": [
    "a = a + 1 \n",
    "a"
   ]
  },
  {
   "cell_type": "code",
   "execution_count": 92,
   "id": "b8012249-3464-43dd-9819-f5a04e1d8cb0",
   "metadata": {},
   "outputs": [],
   "source": [
    "a += 1 #위와 같은 코드 "
   ]
  },
  {
   "cell_type": "code",
   "execution_count": 93,
   "id": "d9b62612-87d0-4625-988f-665fca251343",
   "metadata": {},
   "outputs": [
    {
     "data": {
      "text/plain": [
       "3"
      ]
     },
     "execution_count": 93,
     "metadata": {},
     "output_type": "execute_result"
    }
   ],
   "source": [
    "a\n"
   ]
  },
  {
   "cell_type": "code",
   "execution_count": null,
   "id": "03eb5582-011e-4685-b4db-baa56c18e148",
   "metadata": {},
   "outputs": [],
   "source": [
    "a = a + b\n",
    "a = a - b\n",
    "a = a * b\n",
    "a = a / b\n",
    "a = a// b \n",
    "a = a % b \n",
    "a = a ** b"
   ]
  },
  {
   "cell_type": "code",
   "execution_count": null,
   "id": "9bb79901-1590-4b51-9d07-201886a310a8",
   "metadata": {},
   "outputs": [],
   "source": [
    "a += b \n",
    "a -= b \n",
    "a *= b\n",
    "a /= b\n",
    "a //= b\n",
    "a %= b\n",
    "a **= b #위의 연산을 줄여서 표현 가능"
   ]
  },
  {
   "cell_type": "markdown",
   "id": "cadec528-d37c-4221-a4d1-52452883ad1d",
   "metadata": {},
   "source": [
    "### 2.4 기타연산자"
   ]
  },
  {
   "cell_type": "code",
   "execution_count": 96,
   "id": "18619bf4-d3f7-48f3-bbff-9ba6be8a7782",
   "metadata": {},
   "outputs": [],
   "source": [
    "a = 'hi'\n",
    "b = 'hello'"
   ]
  },
  {
   "cell_type": "code",
   "execution_count": 97,
   "id": "af854e8f-66b4-4c50-809a-c602ae494afd",
   "metadata": {},
   "outputs": [
    {
     "data": {
      "text/plain": [
       "'hihello'"
      ]
     },
     "execution_count": 97,
     "metadata": {},
     "output_type": "execute_result"
    }
   ],
   "source": [
    "#concatenation(연결)\n",
    "a + b #문자에선 연결"
   ]
  },
  {
   "cell_type": "code",
   "execution_count": 98,
   "id": "4588261a-b89e-4cc6-975e-5bd09dbc52e3",
   "metadata": {},
   "outputs": [],
   "source": [
    "a = [1, 2, 3]\n",
    "b = [4, 5, 6]"
   ]
  },
  {
   "cell_type": "code",
   "execution_count": 101,
   "id": "a6b9622b-61a4-4c2e-ab4e-ea610e03dd77",
   "metadata": {},
   "outputs": [
    {
     "name": "stdout",
     "output_type": "stream",
     "text": [
      "[1, 2, 3]\n",
      "[4, 5, 6]\n"
     ]
    }
   ],
   "source": [
    "print(a)\n",
    "print(b)"
   ]
  },
  {
   "cell_type": "code",
   "execution_count": 103,
   "id": "2e39c203-200e-4fe8-a73a-ba55389af0df",
   "metadata": {},
   "outputs": [
    {
     "data": {
      "text/plain": [
       "[1, 2, 3, 4, 5, 6]"
      ]
     },
     "execution_count": 103,
     "metadata": {},
     "output_type": "execute_result"
    }
   ],
   "source": [
    "#concatenation\n",
    "a + b"
   ]
  },
  {
   "cell_type": "code",
   "execution_count": 104,
   "id": "a9932414-5de0-4c1f-be41-150238e48451",
   "metadata": {},
   "outputs": [
    {
     "name": "stdout",
     "output_type": "stream",
     "text": [
      "True\n",
      "False\n"
     ]
    }
   ],
   "source": [
    "print('a' in 'apple')\n",
    "print('z' in  'apple')"
   ]
  },
  {
   "cell_type": "code",
   "execution_count": 105,
   "id": "110a6dfa-738d-4ac9-a905-598a22cd7fb4",
   "metadata": {},
   "outputs": [
    {
     "name": "stdout",
     "output_type": "stream",
     "text": [
      "True\n",
      "False\n"
     ]
    }
   ],
   "source": [
    "print(1 in [1, 2, 3])\n",
    "print(10 in [1, 2, 3])"
   ]
  },
  {
   "cell_type": "code",
   "execution_count": 108,
   "id": "4b0b4588-8276-4d3f-80cf-aaae0dc190a8",
   "metadata": {},
   "outputs": [
    {
     "name": "stdout",
     "output_type": "stream",
     "text": [
      "True\n",
      "140713663652648\n",
      "140713663652648\n"
     ]
    }
   ],
   "source": [
    "# identity\n",
    "a = 1 \n",
    "b = 1\n",
    "print(a is b) # = 기호와 비슷한 역할\n",
    "print(id(a))\n",
    "print(id(b))"
   ]
  },
  {
   "cell_type": "code",
   "execution_count": 109,
   "id": "75d62074-f2e4-497e-b0ed-7b1a96984c59",
   "metadata": {},
   "outputs": [
    {
     "name": "stdout",
     "output_type": "stream",
     "text": [
      "2853968671472\n",
      "2853968672464\n",
      "False\n"
     ]
    }
   ],
   "source": [
    "# identity\n",
    "a = 123123\n",
    "b = 123123\n",
    "print(id(a))\n",
    "print(id(b))\n",
    "print(a is b) # 값은 같지만 위치가 다름/ -5~256까지는 같은 위치"
   ]
  },
  {
   "cell_type": "markdown",
   "id": "f7fd4ab1-832a-4294-84b7-1c5f94810037",
   "metadata": {},
   "source": [
    "### 우선순위 \n",
    "\n",
    "0. ()를 통해 그룹\n",
    "1. **\n",
    "2. 산술연산자(*, /)\n",
    "3. 산술연산자(+. -)\n",
    "4. 비교연산자, in, is\n",
    "5. not\n",
    "6. and\n",
    "7. or"
   ]
  },
  {
   "cell_type": "code",
   "execution_count": 110,
   "id": "90005858-e5e7-46d0-a0c9-56da7120afc4",
   "metadata": {},
   "outputs": [
    {
     "data": {
      "text/plain": [
       "-81"
      ]
     },
     "execution_count": 110,
     "metadata": {},
     "output_type": "execute_result"
    }
   ],
   "source": [
    "-3 ** 4 "
   ]
  },
  {
   "cell_type": "code",
   "execution_count": 111,
   "id": "974b43b7-23fc-454a-9470-9713dde573c7",
   "metadata": {},
   "outputs": [
    {
     "data": {
      "text/plain": [
       "81"
      ]
     },
     "execution_count": 111,
     "metadata": {},
     "output_type": "execute_result"
    }
   ],
   "source": [
    "(-3) ** 4"
   ]
  },
  {
   "cell_type": "markdown",
   "id": "4eea6a43-c90c-4654-8058-5a2026174642",
   "metadata": {},
   "source": [
    "### 3. 형변환\n",
    "### 3. 1 암시적 형변환"
   ]
  },
  {
   "cell_type": "code",
   "execution_count": 116,
   "id": "4b05b26c-ffa2-4079-9f84-e666a4d7e22a",
   "metadata": {},
   "outputs": [],
   "source": [
    "a = True \n",
    "b = False\n",
    "c = 1"
   ]
  },
  {
   "cell_type": "code",
   "execution_count": 117,
   "id": "d24f3a20-3b58-4453-a49c-ea963baac521",
   "metadata": {},
   "outputs": [
    {
     "name": "stdout",
     "output_type": "stream",
     "text": [
      "2\n",
      "1\n"
     ]
    }
   ],
   "source": [
    "print(a + c)\n",
    "print(b + c)"
   ]
  },
  {
   "cell_type": "code",
   "execution_count": 120,
   "id": "26876967-6311-45b7-bafb-c94612cfd994",
   "metadata": {},
   "outputs": [],
   "source": [
    "int_num = 3\n",
    "float_num = 3.3\n",
    "complex_num = 1 +3j"
   ]
  },
  {
   "cell_type": "code",
   "execution_count": 121,
   "id": "7068054b-0b72-45a0-b684-4061bf3f1107",
   "metadata": {},
   "outputs": [
    {
     "name": "stdout",
     "output_type": "stream",
     "text": [
      "6.3\n",
      "(4+3j)\n"
     ]
    }
   ],
   "source": [
    "print(int_num + float_num)\n",
    "print(int_num + complex_num)"
   ]
  },
  {
   "cell_type": "markdown",
   "id": "49057ebe-9b53-4cef-85fe-4ad37f8c89d3",
   "metadata": {},
   "source": [
    "### 3. 2 명시적 형변환\n",
    "\n",
    "- int() : string, float를 int로 변환\n",
    "- float() : string, int를 float로 변환\n",
    "- str() : int, str 등을 string으로 변환\n",
    "- bool() : int, list등을 boolean으로 변환"
   ]
  },
  {
   "cell_type": "code",
   "execution_count": 123,
   "id": "2d85ca40-ca0e-450b-9a2a-8def3451dbbb",
   "metadata": {},
   "outputs": [],
   "source": [
    "a = 1 \n",
    "b = '번'"
   ]
  },
  {
   "cell_type": "code",
   "execution_count": 124,
   "id": "30035afd-257c-4897-b7c5-54ad82a8abbe",
   "metadata": {},
   "outputs": [
    {
     "ename": "TypeError",
     "evalue": "unsupported operand type(s) for +: 'int' and 'str'",
     "output_type": "error",
     "traceback": [
      "\u001b[1;31m---------------------------------------------------------------------------\u001b[0m",
      "\u001b[1;31mTypeError\u001b[0m                                 Traceback (most recent call last)",
      "Cell \u001b[1;32mIn[124], line 1\u001b[0m\n\u001b[1;32m----> 1\u001b[0m \u001b[38;5;28mprint\u001b[39m(\u001b[43ma\u001b[49m\u001b[43m \u001b[49m\u001b[38;5;241;43m+\u001b[39;49m\u001b[43m \u001b[49m\u001b[43mb\u001b[49m)\n",
      "\u001b[1;31mTypeError\u001b[0m: unsupported operand type(s) for +: 'int' and 'str'"
     ]
    }
   ],
   "source": [
    "print(a + b)"
   ]
  },
  {
   "cell_type": "code",
   "execution_count": 125,
   "id": "f2d673aa-7daa-4006-a091-4c5d7907fd9a",
   "metadata": {},
   "outputs": [
    {
     "name": "stdout",
     "output_type": "stream",
     "text": [
      "1번\n"
     ]
    }
   ],
   "source": [
    "print(str(a)+b)"
   ]
  },
  {
   "cell_type": "code",
   "execution_count": 127,
   "id": "569db054-0bf9-4e18-b8e5-2b3ac81f5925",
   "metadata": {},
   "outputs": [
    {
     "data": {
      "text/plain": [
       "int"
      ]
     },
     "execution_count": 127,
     "metadata": {},
     "output_type": "execute_result"
    }
   ],
   "source": [
    "a = '3'\n",
    "type(int(a)) #숫자형태로 변경"
   ]
  },
  {
   "cell_type": "code",
   "execution_count": 128,
   "id": "98f18def-38b4-460e-b710-1f56ca5a9fe6",
   "metadata": {},
   "outputs": [
    {
     "ename": "ValueError",
     "evalue": "invalid literal for int() with base 10: '3.3'",
     "output_type": "error",
     "traceback": [
      "\u001b[1;31m---------------------------------------------------------------------------\u001b[0m",
      "\u001b[1;31mValueError\u001b[0m                                Traceback (most recent call last)",
      "Cell \u001b[1;32mIn[128], line 2\u001b[0m\n\u001b[0;32m      1\u001b[0m a \u001b[38;5;241m=\u001b[39m \u001b[38;5;124m'\u001b[39m\u001b[38;5;124m3.3\u001b[39m\u001b[38;5;124m'\u001b[39m\n\u001b[1;32m----> 2\u001b[0m \u001b[38;5;28mtype\u001b[39m(\u001b[38;5;28;43mint\u001b[39;49m\u001b[43m(\u001b[49m\u001b[43ma\u001b[49m\u001b[43m)\u001b[49m)\n",
      "\u001b[1;31mValueError\u001b[0m: invalid literal for int() with base 10: '3.3'"
     ]
    }
   ],
   "source": [
    "a = '3.3'\n",
    "type(int(a)) #십진수(실수)의 문자만 숫자형태로 변경가능"
   ]
  },
  {
   "cell_type": "code",
   "execution_count": 131,
   "id": "ea24d6ba-42fe-4685-ae47-92cf2c93fd8a",
   "metadata": {},
   "outputs": [
    {
     "name": "stdout",
     "output_type": "stream",
     "text": [
      "<class 'str'>\n",
      "<class 'float'>\n"
     ]
    }
   ],
   "source": [
    "print(type(a))\n",
    "print(type(float(a)))"
   ]
  },
  {
   "cell_type": "code",
   "execution_count": 132,
   "id": "84059408-1633-44ef-9ad5-09ff59891e0c",
   "metadata": {},
   "outputs": [],
   "source": [
    "a = 1\n",
    "b = 0"
   ]
  },
  {
   "cell_type": "code",
   "execution_count": 133,
   "id": "90a0f5b4-5de8-41a9-9fca-537cd2453a44",
   "metadata": {},
   "outputs": [
    {
     "data": {
      "text/plain": [
       "True"
      ]
     },
     "execution_count": 133,
     "metadata": {},
     "output_type": "execute_result"
    }
   ],
   "source": [
    "bool(a)"
   ]
  },
  {
   "cell_type": "code",
   "execution_count": 134,
   "id": "3d68d8fc-6f82-41f8-85fc-e06b04471480",
   "metadata": {},
   "outputs": [
    {
     "data": {
      "text/plain": [
       "False"
      ]
     },
     "execution_count": 134,
     "metadata": {},
     "output_type": "execute_result"
    }
   ],
   "source": [
    "bool(b) # 비어있기때문"
   ]
  },
  {
   "cell_type": "code",
   "execution_count": 136,
   "id": "9cb8894d-f30d-4548-bd05-60d128e91688",
   "metadata": {},
   "outputs": [
    {
     "name": "stdout",
     "output_type": "stream",
     "text": [
      "False\n",
      "True\n"
     ]
    }
   ],
   "source": [
    "print(bool([]))\n",
    "print(bool([1, 2, 3]))"
   ]
  },
  {
   "cell_type": "markdown",
   "id": "c6fe1ec5-46b9-4995-a59e-00c76ca09928",
   "metadata": {},
   "source": [
    "## 4. 시퀀스(sequence) 자료형\n",
    "\n",
    "시퀀스는 데이터의 순서대로 나열된 자료구조. (순서대로 나열되었다는 것은 정렬된 것과는 다르다)\n",
    "\n",
    " 1. 리스트\n",
    " 2. 튜플\n",
    " 3. 레인지\n",
    " 4. 문자열"
   ]
  },
  {
   "cell_type": "markdown",
   "id": "2a827d0a-197b-497f-8d95-863b5c21e00f",
   "metadata": {},
   "source": [
    "### 4 .1 List(배열)\n",
    "\n",
    "- 선언 : 변수이름 = [value1, value2, vlaue3 ...]\n",
    "- 접근 : 변수이름[index]"
   ]
  },
  {
   "cell_type": "code",
   "execution_count": 138,
   "id": "81c105f5-e288-4dd1-827b-8f22f7fbb25a",
   "metadata": {},
   "outputs": [
    {
     "name": "stdout",
     "output_type": "stream",
     "text": [
      "[]\n",
      "<class 'list'>\n"
     ]
    }
   ],
   "source": [
    "l = []\n",
    "print(l)\n",
    "print(type(l))"
   ]
  },
  {
   "cell_type": "code",
   "execution_count": 143,
   "id": "11296ba2-d265-43a3-acf5-5102267b0a2c",
   "metadata": {},
   "outputs": [
    {
     "name": "stdout",
     "output_type": "stream",
     "text": [
      "['서울', '대구', '대전']\n",
      "서울\n",
      "['서울', '부산', '대전']\n"
     ]
    }
   ],
   "source": [
    "location = ['서울', '대구', '대전']\n",
    "print(location)\n",
    "print(location[0])\n",
    "location[1] = '부산' #리스트는 안의 데이터에 접근해서 수정가능\n",
    "print(location)"
   ]
  },
  {
   "cell_type": "code",
   "execution_count": null,
   "id": "ac9a6bb2-104f-4bb1-a65a-1665bc4033a4",
   "metadata": {},
   "outputs": [],
   "source": []
  },
  {
   "cell_type": "code",
   "execution_count": 140,
   "id": "1f545129-ae20-4e07-ab7e-efffc6b15860",
   "metadata": {},
   "outputs": [
    {
     "name": "stdout",
     "output_type": "stream",
     "text": [
      "1\n",
      "hi\n"
     ]
    }
   ],
   "source": [
    "a = 1 \n",
    "print(a)\n",
    "a = 'hi'\n",
    "print(a)"
   ]
  },
  {
   "cell_type": "markdown",
   "id": "f32e2165-e20c-456d-94f3-6d902feb40be",
   "metadata": {},
   "source": [
    "### 4.2 Tuple\n",
    "- 선언 : 변수이름 = (value1, value2, value3)\n",
    "- 접근 : 변수이름[index]\n",
    "- 리스트와 유사하지만 수정 불가능(immutable)하다."
   ]
  },
  {
   "cell_type": "code",
   "execution_count": 142,
   "id": "811a72b4-3bd9-422e-978e-71ec1f2f6d97",
   "metadata": {},
   "outputs": [
    {
     "name": "stdout",
     "output_type": "stream",
     "text": [
      "(1, 2, 3)\n",
      "<class 'tuple'>\n",
      "3\n"
     ]
    }
   ],
   "source": [
    "t = (1, 2, 3)\n",
    "print(t)\n",
    "print(type(t))\n",
    "print(t[2])"
   ]
  },
  {
   "cell_type": "code",
   "execution_count": 144,
   "id": "b31e8c92-553d-4cf0-b547-68cdd8231669",
   "metadata": {},
   "outputs": [
    {
     "ename": "TypeError",
     "evalue": "'tuple' object does not support item assignment",
     "output_type": "error",
     "traceback": [
      "\u001b[1;31m---------------------------------------------------------------------------\u001b[0m",
      "\u001b[1;31mTypeError\u001b[0m                                 Traceback (most recent call last)",
      "Cell \u001b[1;32mIn[144], line 1\u001b[0m\n\u001b[1;32m----> 1\u001b[0m \u001b[43mt\u001b[49m\u001b[43m[\u001b[49m\u001b[38;5;241;43m2\u001b[39;49m\u001b[43m]\u001b[49m \u001b[38;5;241m=\u001b[39m \u001b[38;5;241m5\u001b[39m\n",
      "\u001b[1;31mTypeError\u001b[0m: 'tuple' object does not support item assignment"
     ]
    }
   ],
   "source": [
    "t[2] = 5"
   ]
  },
  {
   "cell_type": "code",
   "execution_count": 146,
   "id": "6cd03fc3-884b-49c5-b87b-010878ad5a00",
   "metadata": {},
   "outputs": [
    {
     "name": "stdout",
     "output_type": "stream",
     "text": [
      "1 2\n",
      "2 1\n"
     ]
    }
   ],
   "source": [
    "x, y = 1, 2\n",
    "print(x,y)\n",
    "\n",
    "x, y = y, x \n",
    "print(x, y)"
   ]
  },
  {
   "cell_type": "markdown",
   "id": "aefab746-1bfb-4bc2-9ee3-b6a34d999363",
   "metadata": {},
   "source": [
    "### 4. 3 range\n",
    "\n",
    "- range(n) : 0부터 n-1까지 범위\n",
    "- range(n, m : n부터 n-1까지의 범위\n",
    "- range(n, m, s) : n부터 n-1까지의 +s만큼 증가하는 범위"
   ]
  },
  {
   "cell_type": "code",
   "execution_count": 149,
   "id": "a748df86-e173-4153-9234-b4371d6b79a1",
   "metadata": {},
   "outputs": [
    {
     "name": "stdout",
     "output_type": "stream",
     "text": [
      "range(0, 1)\n",
      "<class 'range'>\n"
     ]
    }
   ],
   "source": [
    "a = range(1)\n",
    "print(a)\n",
    "print(type(a))"
   ]
  },
  {
   "cell_type": "code",
   "execution_count": 151,
   "id": "7a45bc5f-afce-4ede-9eb2-994b6594e477",
   "metadata": {},
   "outputs": [
    {
     "name": "stdout",
     "output_type": "stream",
     "text": [
      "range(0, 10)\n",
      "[0, 1, 2, 3, 4, 5, 6, 7, 8, 9]\n"
     ]
    }
   ],
   "source": [
    "a = range(10) #범위를 나타냄\n",
    "print(a)\n",
    "print(list(a))"
   ]
  },
  {
   "cell_type": "code",
   "execution_count": 152,
   "id": "a2b6617c-fe70-4732-a685-0b39d8720371",
   "metadata": {},
   "outputs": [
    {
     "name": "stdout",
     "output_type": "stream",
     "text": [
      "[5, 6, 7, 8, 9, 10, 11, 12, 13, 14]\n"
     ]
    }
   ],
   "source": [
    "a = range(5, 15)\n",
    "print(list(a))"
   ]
  },
  {
   "cell_type": "code",
   "execution_count": 153,
   "id": "189b7c15-0a8b-463f-ba9a-87a57e95585a",
   "metadata": {},
   "outputs": [
    {
     "name": "stdout",
     "output_type": "stream",
     "text": [
      "[1, 3, 5, 7, 9]\n"
     ]
    }
   ],
   "source": [
    "a = range(1, 10, 2)\n",
    "print(list(a))"
   ]
  },
  {
   "cell_type": "code",
   "execution_count": 154,
   "id": "99f39351-cc40-43bf-b905-76774657f445",
   "metadata": {},
   "outputs": [
    {
     "name": "stdout",
     "output_type": "stream",
     "text": [
      "[-1, -2, -3, -4, -5, -6, -7, -8, -9]\n"
     ]
    }
   ],
   "source": [
    "a = range(-1,-10,-1)\n",
    "print(list(a))"
   ]
  },
  {
   "cell_type": "markdown",
   "id": "d0fa05b3-8c9c-49a6-ba93-071853613e4f",
   "metadata": {},
   "source": [
    "### 4. 4 String"
   ]
  },
  {
   "cell_type": "markdown",
   "id": "5c77fbb5-6588-4575-94b2-5d92ea963cc8",
   "metadata": {},
   "source": [
    "### 4. 시퀀스에서 활용가능한 연산/함수"
   ]
  },
  {
   "cell_type": "code",
   "execution_count": 159,
   "id": "1b4f4068-ae31-4087-8893-65f2feaea4ac",
   "metadata": {},
   "outputs": [],
   "source": [
    "my_list = [1, 2, 3, 4, 5]\n",
    "my_tuple = (1, 2, 3, 4, 5)\n",
    "my_range=range(1, 100)\n",
    "my_string = '12345'"
   ]
  },
  {
   "cell_type": "code",
   "execution_count": 160,
   "id": "80b02393-5d19-42ec-8b2d-f02ff848b9ee",
   "metadata": {},
   "outputs": [
    {
     "name": "stdout",
     "output_type": "stream",
     "text": [
      "2\n",
      "2\n",
      "2\n",
      "2\n"
     ]
    }
   ],
   "source": [
    "#indexing\n",
    "print(my_list[1])\n",
    "print(my_tuple[1])\n",
    "print(my_range[1])\n",
    "print(my_string[1])"
   ]
  },
  {
   "cell_type": "code",
   "execution_count": 161,
   "id": "6821a491-d5df-4822-863f-faeb2b2c5459",
   "metadata": {},
   "outputs": [
    {
     "name": "stdout",
     "output_type": "stream",
     "text": [
      "[2, 3]\n",
      "(2, 3)\n",
      "range(2, 4)\n",
      "23\n"
     ]
    }
   ],
   "source": [
    "#slicing\n",
    "print(my_list[1:3]) #1부터 3번째 전까지\n",
    "print(my_tuple[1:3])\n",
    "print(my_range[1:3])\n",
    "print(my_string[1:3])"
   ]
  },
  {
   "cell_type": "code",
   "execution_count": 164,
   "id": "0058e6f2-406b-4c8d-a46b-38f0006f83f3",
   "metadata": {},
   "outputs": [
    {
     "name": "stdout",
     "output_type": "stream",
     "text": [
      "range(3, 51, 2)\n",
      "[3, 5, 7, 9, 11, 13, 15, 17, 19, 21, 23, 25, 27, 29, 31, 33, 35, 37, 39, 41, 43, 45, 47, 49]\n"
     ]
    }
   ],
   "source": [
    "#slicing (k간격으로)\n",
    "print(my_range[2:50:2])\n",
    "print(list(my_range[2:50:2]))"
   ]
  },
  {
   "cell_type": "code",
   "execution_count": 166,
   "id": "493b50fa-1a41-4ab1-b1fe-d56c33c9e111",
   "metadata": {},
   "outputs": [
    {
     "name": "stdout",
     "output_type": "stream",
     "text": [
      "True\n",
      "True\n",
      "True\n",
      "True\n"
     ]
    }
   ],
   "source": [
    "print(1 in my_list)\n",
    "print(1 in my_tuple)\n",
    "print(1 in my_range)\n",
    "print('1' in my_string) #있는지체크"
   ]
  },
  {
   "cell_type": "code",
   "execution_count": 167,
   "id": "a75102e4-e217-41eb-bbf1-3a2ccc455778",
   "metadata": {},
   "outputs": [
    {
     "name": "stdout",
     "output_type": "stream",
     "text": [
      "False\n",
      "False\n",
      "False\n",
      "False\n"
     ]
    }
   ],
   "source": [
    "print(1 not in my_list)\n",
    "print(1 not in my_tuple)\n",
    "print(1 not in my_range)\n",
    "print('1' not in my_string)  #없는지 체크"
   ]
  },
  {
   "cell_type": "code",
   "execution_count": 168,
   "id": "604e132d-c1fd-4904-b6c2-ba34c9ab5c5d",
   "metadata": {},
   "outputs": [
    {
     "name": "stdout",
     "output_type": "stream",
     "text": [
      "[1, 2, 3, 4, 5, 1, 2, 3]\n"
     ]
    }
   ],
   "source": [
    "#conatenation\n",
    "print(my_list + [1, 2, 3])"
   ]
  },
  {
   "cell_type": "code",
   "execution_count": 170,
   "id": "79683da2-6a59-4d4d-aec1-5bce267999ff",
   "metadata": {},
   "outputs": [
    {
     "name": "stdout",
     "output_type": "stream",
     "text": [
      "[0, 0, 0, 0, 0, 0, 0, 0, 0, 0]\n",
      "[[0, 0, 0, 0, 0, 0, 0, 0, 0, 0], [0, 0, 0, 0, 0, 0, 0, 0, 0, 0], [0, 0, 0, 0, 0, 0, 0, 0, 0, 0], [0, 0, 0, 0, 0, 0, 0, 0, 0, 0], [0, 0, 0, 0, 0, 0, 0, 0, 0, 0], [0, 0, 0, 0, 0, 0, 0, 0, 0, 0], [0, 0, 0, 0, 0, 0, 0, 0, 0, 0], [0, 0, 0, 0, 0, 0, 0, 0, 0, 0], [0, 0, 0, 0, 0, 0, 0, 0, 0, 0], [0, 0, 0, 0, 0, 0, 0, 0, 0, 0]]\n"
     ]
    }
   ],
   "source": [
    "# * \n",
    "print([0] * 10)\n",
    "print([[0] * 10] * 10)"
   ]
  },
  {
   "cell_type": "code",
   "execution_count": 172,
   "id": "d7e10e75-3308-4d21-9dfc-4f3fc3ca23a8",
   "metadata": {},
   "outputs": [
    {
     "name": "stdout",
     "output_type": "stream",
     "text": [
      "5\n"
     ]
    }
   ],
   "source": [
    "print(len(my_list)) #len 길이출력"
   ]
  },
  {
   "cell_type": "code",
   "execution_count": 173,
   "id": "725b496d-7b14-42f0-9d06-57284db7a554",
   "metadata": {},
   "outputs": [
    {
     "name": "stdout",
     "output_type": "stream",
     "text": [
      "1\n"
     ]
    }
   ],
   "source": [
    "print(min(my_list))"
   ]
  },
  {
   "cell_type": "code",
   "execution_count": 174,
   "id": "8d638fb3-d714-4d30-a4cf-83df4fce63a5",
   "metadata": {},
   "outputs": [
    {
     "name": "stdout",
     "output_type": "stream",
     "text": [
      "5\n"
     ]
    }
   ],
   "source": [
    "print(max(my_list))"
   ]
  },
  {
   "cell_type": "code",
   "execution_count": 175,
   "id": "fab784cd-0d2c-4999-846f-0b387a36e5f7",
   "metadata": {},
   "outputs": [
    {
     "data": {
      "text/plain": [
       "1"
      ]
     },
     "execution_count": 175,
     "metadata": {},
     "output_type": "execute_result"
    }
   ],
   "source": [
    "my_list.count(1)"
   ]
  },
  {
   "cell_type": "markdown",
   "id": "479b37ac-8899-40bd-b102-82fc21da8576",
   "metadata": {},
   "source": [
    "## 5. 시퀀스데이터가 아닌 자료구조\n",
    "### 5. set\n",
    "\n",
    "수학에서 사용하는 집합과 동일하게 처리 (중복된 값이 없음)\n",
    "\n",
    "- 선언 : 변수이름 = {value1, value2, value3 ...}"
   ]
  },
  {
   "cell_type": "code",
   "execution_count": 176,
   "id": "e4c2885c-2c83-4dca-95d9-6420f4e265b2",
   "metadata": {},
   "outputs": [],
   "source": [
    "my_set_a = {1, 2, 3, 4, 5}\n",
    "my_set_b = {3, 4, 5, 6, 7}"
   ]
  },
  {
   "cell_type": "code",
   "execution_count": 180,
   "id": "699db50c-18e0-425e-b34c-6ef38e247a3a",
   "metadata": {},
   "outputs": [
    {
     "name": "stdout",
     "output_type": "stream",
     "text": [
      "{1, 2}\n",
      "{1, 2, 3, 4, 5, 6, 7}\n",
      "{3, 4, 5}\n"
     ]
    }
   ],
   "source": [
    "print(my_set_a - my_set_b) #차집합\n",
    "print(my_set_a | my_set_b) #합집합 중복된 데이터 한번씩\n",
    "print(my_set_a & my_set_b) #교집합"
   ]
  },
  {
   "cell_type": "code",
   "execution_count": 182,
   "id": "6560a876-4c3e-46cf-b9bf-4a82b22a65ef",
   "metadata": {},
   "outputs": [
    {
     "name": "stdout",
     "output_type": "stream",
     "text": [
      "{1, 2, 3, 4, 5, 6, 7}\n"
     ]
    }
   ],
   "source": [
    "my_list = [1, 1, 1, 1, 1, 1, 1 ,1 ,2, 3, 4 ,5, 6, 7]\n",
    "#set을 이용하여 중복된 데이터 지우기\n",
    "print(set(my_list))"
   ]
  },
  {
   "cell_type": "markdown",
   "id": "49a77ecf-1384-43e6-9ccf-b16f145504c7",
   "metadata": {},
   "source": [
    "### 5. 2 Dictionary"
   ]
  },
  {
   "cell_type": "markdown",
   "id": "c8f79b58-b6cd-41e6-865c-e371f4d941ff",
   "metadata": {},
   "source": [
    "- 선언 : 변수이름 = (key1: value1, key2: value2 ... ) # 띄어쓰기 주의\n",
    "- 접근 : 변수이름[key]\n",
    "\n",
    "- dictionary는 key와 value가 쌍으로 이루어져있다.\n",
    "- key에는 immutable한 모든 것을 사용가능 (불변값: string, integer)\n",
    "- value에는 모든데이터 가능(list, dictionary도 가능)"
   ]
  },
  {
   "cell_type": "code",
   "execution_count": 183,
   "id": "cc9e7e01-8805-476d-828c-230f8879a3e4",
   "metadata": {},
   "outputs": [],
   "source": [
    "my_dict = {'서울': '02', '경기': '031'}"
   ]
  },
  {
   "cell_type": "code",
   "execution_count": 185,
   "id": "2ee9e2ac-0511-4147-b3fe-bf2a7fe99b15",
   "metadata": {},
   "outputs": [
    {
     "name": "stdout",
     "output_type": "stream",
     "text": [
      "{'서울': '02', '경기': '031'}\n",
      "02\n"
     ]
    }
   ],
   "source": [
    "print(my_dict)\n",
    "print(my_dict['서울'])"
   ]
  },
  {
   "cell_type": "code",
   "execution_count": 192,
   "id": "a8eba76a-55b9-457f-90e0-01dd40d0dc56",
   "metadata": {},
   "outputs": [],
   "source": [
    "dict_a = {\n",
    "    'name': 'hyunjung',\n",
    "    'location':  'seoul',\n",
    "    'location': 'seoul2',\n",
    "}"
   ]
  },
  {
   "cell_type": "code",
   "execution_count": 193,
   "id": "4ced4e7c-6b76-49a5-94d3-57f552e1a836",
   "metadata": {},
   "outputs": [
    {
     "name": "stdout",
     "output_type": "stream",
     "text": [
      "{'name': 'hyunjung', 'location': 'seoul2'}\n"
     ]
    }
   ],
   "source": [
    "print(dict_a)"
   ]
  },
  {
   "cell_type": "code",
   "execution_count": 195,
   "id": "e474ebd1-febe-4231-bd59-7c1ce78bd7e0",
   "metadata": {},
   "outputs": [
    {
     "data": {
      "text/plain": [
       "dict_keys(['name', 'location'])"
      ]
     },
     "execution_count": 195,
     "metadata": {},
     "output_type": "execute_result"
    }
   ],
   "source": [
    "dict_a.keys()"
   ]
  },
  {
   "cell_type": "code",
   "execution_count": 196,
   "id": "3abbeacd-9d75-4753-a31b-87241f5b669d",
   "metadata": {},
   "outputs": [
    {
     "data": {
      "text/plain": [
       "dict_values(['hyunjung', 'seoul2'])"
      ]
     },
     "execution_count": 196,
     "metadata": {},
     "output_type": "execute_result"
    }
   ],
   "source": [
    "dict_a.values()"
   ]
  },
  {
   "cell_type": "markdown",
   "id": "3f790541-9ba5-4777-8c8c-7f62106e74c8",
   "metadata": {},
   "source": [
    "# 데이터 타입 \n",
    "\n",
    "1. Number\n",
    "2. Boolean\n",
    "3. string\n",
    "\n",
    "# 자료구조\n",
    "- 시퀀스 자료형\n",
    "1. [List] :  mutable(수정가능)\n",
    "2. (Tuple) :  immutable\n",
    "3. range() :  immutable\n",
    "4. 'Striong' :  immutable\n",
    "\n",
    "- 시퀀스가 아닌 자료형\n",
    "  1. {set} :  mutable\n",
    "  2. {Dict: ionary} : mutable"
   ]
  }
 ],
 "metadata": {
  "kernelspec": {
   "display_name": "Python 3 (ipykernel)",
   "language": "python",
   "name": "python3"
  },
  "language_info": {
   "codemirror_mode": {
    "name": "ipython",
    "version": 3
   },
   "file_extension": ".py",
   "mimetype": "text/x-python",
   "name": "python",
   "nbconvert_exporter": "python",
   "pygments_lexer": "ipython3",
   "version": "3.11.4"
  }
 },
 "nbformat": 4,
 "nbformat_minor": 5
}
