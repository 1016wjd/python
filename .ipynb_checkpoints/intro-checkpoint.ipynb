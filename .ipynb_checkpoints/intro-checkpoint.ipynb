{
 "cells": [
  {
   "cell_type": "markdown",
   "id": "7eab64ca-699f-413d-be6e-815cc289b63b",
   "metadata": {},
   "source": [
    "# 01. intro\n",
    "\n",
    "## 단축기\n",
    "\n",
    "- ctrl + enter : 지금 셀 실행\n",
    "- shift + enter : 지금 셀 실행 & 아래로 이동\n",
    "- alt + ennter : 지금 행 실행 & 아래에 새로운 셀 추가\n",
    "\n",
    "## 주의사항  \n",
    "\n",
    "1. Apple / apple 다름 (대소문자 구분)\n",
    "2. git add . / git add. 은 다른 언어 (띄어쓰기중요)\n",
    "3. message / massage 철자 틀리지 않도록 주의\n"
   ]
  },
  {
   "cell_type": "code",
   "execution_count": null,
   "id": "5fbd0d3c-4354-423d-aae3-b3bff16eef49",
   "metadata": {},
   "outputs": [],
   "source": [
    "# 주석을 나타냅니다."
   ]
  },
  {
   "cell_type": "markdown",
   "id": "f39d3e1a-9d7f-433a-9c0d-e86e66d1ec0d",
   "metadata": {},
   "source": [
    "# 1. 변수\n",
    "\n",
    "변수이름 = 값 \n",
    "\n",
    "- 변수이름은 어떤 이름이든 상관 없음\n",
    "- 다만 영어, 숫자, _를 이용하아ㅕ 선언\n",
    "- 키워드는 사용불가"
   ]
  },
  {
   "cell_type": "code",
   "execution_count": 4,
   "id": "3d20d02a-9f41-4a9b-8668-d9f26271a096",
   "metadata": {},
   "outputs": [],
   "source": [
    "a = 10"
   ]
  },
  {
   "cell_type": "code",
   "execution_count": 5,
   "id": "54ba1392-6303-4139-ba65-9619aeb78672",
   "metadata": {},
   "outputs": [
    {
     "data": {
      "text/plain": [
       "10"
      ]
     },
     "execution_count": 5,
     "metadata": {},
     "output_type": "execute_result"
    }
   ],
   "source": [
    "a"
   ]
  },
  {
   "cell_type": "code",
   "execution_count": 6,
   "id": "94133d63-6d33-43bf-8b50-4cece7450bf2",
   "metadata": {},
   "outputs": [
    {
     "data": {
      "text/plain": [
       "['False',\n",
       " 'None',\n",
       " 'True',\n",
       " 'and',\n",
       " 'as',\n",
       " 'assert',\n",
       " 'async',\n",
       " 'await',\n",
       " 'break',\n",
       " 'class',\n",
       " 'continue',\n",
       " 'def',\n",
       " 'del',\n",
       " 'elif',\n",
       " 'else',\n",
       " 'except',\n",
       " 'finally',\n",
       " 'for',\n",
       " 'from',\n",
       " 'global',\n",
       " 'if',\n",
       " 'import',\n",
       " 'in',\n",
       " 'is',\n",
       " 'lambda',\n",
       " 'nonlocal',\n",
       " 'not',\n",
       " 'or',\n",
       " 'pass',\n",
       " 'raise',\n",
       " 'return',\n",
       " 'try',\n",
       " 'while',\n",
       " 'with',\n",
       " 'yield']"
      ]
     },
     "execution_count": 6,
     "metadata": {},
     "output_type": "execute_result"
    }
   ],
   "source": [
    "import keyword\n",
    "keyword.kwlist"
   ]
  },
  {
   "cell_type": "markdown",
   "id": "97e4cb72-3971-4b0e-a8d1-e53c1f59f02d",
   "metadata": {},
   "source": [
    "1.1 number"
   ]
  },
  {
   "cell_type": "code",
   "execution_count": 8,
   "id": "2f9aedd0-9ed1-49db-976d-ccebcff89d3c",
   "metadata": {},
   "outputs": [],
   "source": [
    "a = 10000000"
   ]
  },
  {
   "cell_type": "code",
   "execution_count": 9,
   "id": "e699939b-2574-4ddd-8e18-70adfb8bf190",
   "metadata": {},
   "outputs": [
    {
     "data": {
      "text/plain": [
       "10000000"
      ]
     },
     "execution_count": 9,
     "metadata": {},
     "output_type": "execute_result"
    }
   ],
   "source": [
    "a"
   ]
  },
  {
   "cell_type": "code",
   "execution_count": 10,
   "id": "7f5bbfa3-8327-44c1-a99a-d6699b793468",
   "metadata": {},
   "outputs": [
    {
     "data": {
      "text/plain": [
       "int"
      ]
     },
     "execution_count": 10,
     "metadata": {},
     "output_type": "execute_result"
    }
   ],
   "source": [
    "type(a)"
   ]
  },
  {
   "cell_type": "code",
   "execution_count": 11,
   "id": "3411ea0d-b9e9-470b-9312-76e00139c4d9",
   "metadata": {},
   "outputs": [
    {
     "data": {
      "text/plain": [
       "1.1"
      ]
     },
     "execution_count": 11,
     "metadata": {},
     "output_type": "execute_result"
    }
   ],
   "source": [
    "b = 1.1\n",
    "b"
   ]
  },
  {
   "cell_type": "code",
   "execution_count": 12,
   "id": "f049d2c3-b21b-4d72-9344-8f32c2bcf0b8",
   "metadata": {},
   "outputs": [
    {
     "data": {
      "text/plain": [
       "float"
      ]
     },
     "execution_count": 12,
     "metadata": {},
     "output_type": "execute_result"
    }
   ],
   "source": [
    "type(b)"
   ]
  },
  {
   "cell_type": "code",
   "execution_count": 13,
   "id": "e98d0bd1-2f95-4d04-9d77-4afbe4faa3d2",
   "metadata": {},
   "outputs": [],
   "source": [
    "c = 1 - 4j"
   ]
  },
  {
   "cell_type": "code",
   "execution_count": 14,
   "id": "8e30ee30-5228-4dca-934c-e6ee70678141",
   "metadata": {},
   "outputs": [
    {
     "data": {
      "text/plain": [
       "complex"
      ]
     },
     "execution_count": 14,
     "metadata": {},
     "output_type": "execute_result"
    }
   ],
   "source": [
    "c\n",
    "type(c) #복소수"
   ]
  },
  {
   "cell_type": "code",
   "execution_count": 15,
   "id": "50a50a1c-7dca-48e9-8ec3-9e44b43cd7a8",
   "metadata": {},
   "outputs": [
    {
     "data": {
      "text/plain": [
       "-4.0"
      ]
     },
     "execution_count": 15,
     "metadata": {},
     "output_type": "execute_result"
    }
   ],
   "source": [
    "c.imag # . 은 객체지향어 실수부"
   ]
  },
  {
   "cell_type": "code",
   "execution_count": 16,
   "id": "90e0b218-4609-45c0-887f-c1df1fa6038b",
   "metadata": {},
   "outputs": [
    {
     "data": {
      "text/plain": [
       "1.0"
      ]
     },
     "execution_count": 16,
     "metadata": {},
     "output_type": "execute_result"
    }
   ],
   "source": [
    "c.real # 허수부"
   ]
  },
  {
   "cell_type": "markdown",
   "id": "059b3c6c-2579-4cfb-9add-c98aabc73234",
   "metadata": {},
   "source": [
    "### 1.2 Booleam\n",
    "True, False로 이루어진 타입"
   ]
  },
  {
   "cell_type": "code",
   "execution_count": 17,
   "id": "a004908d-7f92-4070-a52e-a20181560ff5",
   "metadata": {},
   "outputs": [],
   "source": [
    "a = True "
   ]
  },
  {
   "cell_type": "code",
   "execution_count": 18,
   "id": "400c232d-2856-4f33-a246-a86427fb0d23",
   "metadata": {},
   "outputs": [
    {
     "data": {
      "text/plain": [
       "bool"
      ]
     },
     "execution_count": 18,
     "metadata": {},
     "output_type": "execute_result"
    }
   ],
   "source": [
    "type(a)"
   ]
  },
  {
   "cell_type": "code",
   "execution_count": 19,
   "id": "a343a619-6aa7-4c3b-b51e-835da12c25bf",
   "metadata": {},
   "outputs": [
    {
     "data": {
      "text/plain": [
       "bool"
      ]
     },
     "execution_count": 19,
     "metadata": {},
     "output_type": "execute_result"
    }
   ],
   "source": [
    "b = False\n",
    "type(b)"
   ]
  },
  {
   "cell_type": "code",
   "execution_count": 20,
   "id": "5283cf62-82b5-45ea-8d46-956d475837cf",
   "metadata": {},
   "outputs": [
    {
     "data": {
      "text/plain": [
       "False"
      ]
     },
     "execution_count": 20,
     "metadata": {},
     "output_type": "execute_result"
    }
   ],
   "source": [
    "bool(0) #true false 구분 함수"
   ]
  },
  {
   "cell_type": "markdown",
   "id": "a87db72a-c150-4309-a8d2-dea066c2d61d",
   "metadata": {},
   "source": [
    "1.3 None"
   ]
  },
  {
   "cell_type": "code",
   "execution_count": 21,
   "id": "152bce2e-0175-45ef-9965-67cc7c745bfe",
   "metadata": {},
   "outputs": [],
   "source": [
    "a = None #None은 비어있다는 의미"
   ]
  },
  {
   "cell_type": "code",
   "execution_count": 22,
   "id": "ab246f24-bb1f-4014-aca6-6e32d3020557",
   "metadata": {},
   "outputs": [
    {
     "data": {
      "text/plain": [
       "NoneType"
      ]
     },
     "execution_count": 22,
     "metadata": {},
     "output_type": "execute_result"
    }
   ],
   "source": [
    "type(a)"
   ]
  },
  {
   "cell_type": "markdown",
   "id": "a79057bb-e3fa-4742-86f4-43b4505c6935",
   "metadata": {},
   "source": [
    "### 1.4 Stirng \n",
    "\n",
    "- 문자열은 `'` `\"`를 이용하여 표현"
   ]
  },
  {
   "cell_type": "code",
   "execution_count": 24,
   "id": "a0c158f2-cdd5-4db4-8dc9-0bffc595a288",
   "metadata": {},
   "outputs": [
    {
     "data": {
      "text/plain": [
       "str"
      ]
     },
     "execution_count": 24,
     "metadata": {},
     "output_type": "execute_result"
    }
   ],
   "source": [
    "a = 'hello'\n",
    "type(a) "
   ]
  },
  {
   "cell_type": "code",
   "execution_count": 25,
   "id": "80c95de0-029f-4e97-8d7b-3fc9d0a70885",
   "metadata": {},
   "outputs": [
    {
     "data": {
      "text/plain": [
       "str"
      ]
     },
     "execution_count": 25,
     "metadata": {},
     "output_type": "execute_result"
    }
   ],
   "source": [
    "b = 'world'\n",
    "b\n",
    "type(b)"
   ]
  },
  {
   "cell_type": "code",
   "execution_count": 29,
   "id": "2c961855-7554-4bf9-a521-f65792d94034",
   "metadata": {},
   "outputs": [
    {
     "name": "stdin",
     "output_type": "stream",
     "text": [
      " 123\n"
     ]
    },
    {
     "name": "stdout",
     "output_type": "stream",
     "text": [
      "123\n",
      "<class 'str'>\n"
     ]
    }
   ],
   "source": [
    "age = input()\n",
    "print(age)\n",
    "print(type(age)) # input을 통해 입력된 123은 숫자가 아닌 문자로 들어감 "
   ]
  },
  {
   "cell_type": "code",
   "execution_count": 33,
   "id": "6fc644f0-4447-4ca5-9df0-7cf52e14f6ab",
   "metadata": {},
   "outputs": [
    {
     "ename": "SyntaxError",
     "evalue": "invalid syntax. Perhaps you forgot a comma? (247337823.py, line 1)",
     "output_type": "error",
     "traceback": [
      "\u001b[1;36m  Cell \u001b[1;32mIn[33], line 1\u001b[1;36m\u001b[0m\n\u001b[1;33m    print('안녕하세요?'김현정'입니다.')\u001b[0m\n\u001b[1;37m          ^\u001b[0m\n\u001b[1;31mSyntaxError\u001b[0m\u001b[1;31m:\u001b[0m invalid syntax. Perhaps you forgot a comma?\n"
     ]
    }
   ],
   "source": [
    "print('안녕하세요?'김현정'입니다.')"
   ]
  },
  {
   "cell_type": "code",
   "execution_count": 35,
   "id": "78c97670-9831-4d96-b6c4-aa61f8782869",
   "metadata": {},
   "outputs": [
    {
     "name": "stdout",
     "output_type": "stream",
     "text": [
      "안녕하세요?\"김현정\"입니다.\n"
     ]
    }
   ],
   "source": [
    "print('안녕하세요?' '\"김현정\"' '입니다.')"
   ]
  },
  {
   "cell_type": "code",
   "execution_count": 39,
   "id": "891c2afa-1f4c-45db-980a-af30c9eb9d9e",
   "metadata": {},
   "outputs": [
    {
     "name": "stdout",
     "output_type": "stream",
     "text": [
      "안녕하세요? '김현정' 입니다.\n"
     ]
    }
   ],
   "source": [
    "print('안녕하세요? \\'김현정\\' 입니다.') # 빽슬래쉬뒤는 문자취급"
   ]
  },
  {
   "cell_type": "code",
   "execution_count": 40,
   "id": "bf4db763-23ad-456b-84fc-9f630422c4f4",
   "metadata": {},
   "outputs": [],
   "source": [
    "a = '''\n",
    "여기는 문자열 입니다.\n",
    "엔터를 쳐서 여러줄을 작성할 수 있습니다.\n",
    "'''"
   ]
  },
  {
   "cell_type": "code",
   "execution_count": 41,
   "id": "d21ae54a-381e-4f52-8122-5c0f6730f1e3",
   "metadata": {},
   "outputs": [
    {
     "name": "stdout",
     "output_type": "stream",
     "text": [
      "\n",
      "여기는 문자열 입니다.\n",
      "엔터를 쳐서 여러줄을 작성할 수 있습니다.\n",
      "\n"
     ]
    }
   ],
   "source": [
    "print(a)"
   ]
  },
  {
   "cell_type": "code",
   "execution_count": 45,
   "id": "c67ac848-9c11-47d5-b04f-f1f734686da6",
   "metadata": {},
   "outputs": [
    {
     "name": "stdout",
     "output_type": "stream",
     "text": [
      "엔터를 입력해봐요 \n",
      "다음줄입니다. \t들여쓰기도 가능합니다.\n"
     ]
    }
   ],
   "source": [
    "print('엔터를 입력해봐요 \\n다음줄입니다. \\t들여쓰기도 가능합니다.') #\\n 줄바꿈 \\t 들여쓰기"
   ]
  },
  {
   "cell_type": "code",
   "execution_count": 47,
   "id": "fac4e7ea-ecef-4889-8e35-faff19ba861f",
   "metadata": {},
   "outputs": [
    {
     "name": "stdout",
     "output_type": "stream",
     "text": [
      "하나 둘 셋!"
     ]
    }
   ],
   "source": [
    "print('하나', '둘', '셋', end = '!')"
   ]
  },
  {
   "cell_type": "code",
   "execution_count": 50,
   "id": "109c3a45-b143-4323-a09d-a67f643e1737",
   "metadata": {},
   "outputs": [
    {
     "name": "stdout",
     "output_type": "stream",
     "text": [
      "하나/둘/셋\n"
     ]
    }
   ],
   "source": [
    "print('하나', '둘', '셋', sep='/')"
   ]
  },
  {
   "cell_type": "code",
   "execution_count": 54,
   "id": "ac6e5dd2-8c1f-4afd-ac4c-155ebbb3f38e",
   "metadata": {},
   "outputs": [
    {
     "name": "stdout",
     "output_type": "stream",
     "text": [
      "하나\t둘\t셋\n"
     ]
    }
   ],
   "source": [
    "print('하나', '둘', '셋', sep='\\t')"
   ]
  },
  {
   "cell_type": "markdown",
   "id": "c25249be-d27f-439c-9914-e35220dffc0b",
   "metadata": {},
   "source": [
    "#### string interpolation \n",
    "\n",
    "1. %-formatting\n",
    "2. str.format()\n",
    "3. f-string\n",
    "\n",
    "3번이 가장 트랜디함"
   ]
  },
  {
   "cell_type": "code",
   "execution_count": 53,
   "id": "7a62fe10-2704-4849-a765-a6740dcd5df8",
   "metadata": {},
   "outputs": [],
   "source": [
    "age = 20"
   ]
  },
  {
   "cell_type": "code",
   "execution_count": 55,
   "id": "21ddc139-af7d-4b41-8062-6883ac76840e",
   "metadata": {},
   "outputs": [
    {
     "name": "stdout",
     "output_type": "stream",
     "text": [
      "홍길동은 20살입니다.\n"
     ]
    }
   ],
   "source": [
    "print('홍길동은 %s살입니다.' % age)"
   ]
  },
  {
   "cell_type": "code",
   "execution_count": 57,
   "id": "a00ff1e7-6a94-40a4-8bb4-b726cc14b87f",
   "metadata": {},
   "outputs": [
    {
     "name": "stdout",
     "output_type": "stream",
     "text": [
      "홍길동은 20살입니다.\n"
     ]
    }
   ],
   "source": [
    "print('홍길동은 {}살입니다.'.format(age))"
   ]
  },
  {
   "cell_type": "code",
   "execution_count": 58,
   "id": "63fe5111-8ef1-4420-b9ea-62e8714da887",
   "metadata": {},
   "outputs": [
    {
     "name": "stdout",
     "output_type": "stream",
     "text": [
      "홍길동은 20살입니다.\n"
     ]
    }
   ],
   "source": [
    "print(f'홍길동은 {age}살입니다.') #f를 문장앞에 넣음"
   ]
  },
  {
   "cell_type": "code",
   "execution_count": null,
   "id": "2f600e2c-bb37-4de6-b569-92aef8827c72",
   "metadata": {},
   "outputs": [],
   "source": []
  },
  {
   "cell_type": "code",
   "execution_count": null,
   "id": "5087c2aa-90f2-44ea-a9a8-ae99c300d6d4",
   "metadata": {},
   "outputs": [],
   "source": []
  },
  {
   "cell_type": "code",
   "execution_count": null,
   "id": "8443197e-d4d3-4896-ba1b-27b6d756bbaf",
   "metadata": {},
   "outputs": [],
   "source": []
  },
  {
   "cell_type": "code",
   "execution_count": null,
   "id": "99b6e9e5-a987-4734-bc5b-21dc53757e00",
   "metadata": {},
   "outputs": [],
   "source": []
  },
  {
   "cell_type": "code",
   "execution_count": null,
   "id": "ff7df1b8-518f-4d1f-a28a-931f3955647d",
   "metadata": {},
   "outputs": [],
   "source": []
  }
 ],
 "metadata": {
  "kernelspec": {
   "display_name": "Python 3 (ipykernel)",
   "language": "python",
   "name": "python3"
  },
  "language_info": {
   "codemirror_mode": {
    "name": "ipython",
    "version": 3
   },
   "file_extension": ".py",
   "mimetype": "text/x-python",
   "name": "python",
   "nbconvert_exporter": "python",
   "pygments_lexer": "ipython3",
   "version": "3.11.4"
  }
 },
 "nbformat": 4,
 "nbformat_minor": 5
}
