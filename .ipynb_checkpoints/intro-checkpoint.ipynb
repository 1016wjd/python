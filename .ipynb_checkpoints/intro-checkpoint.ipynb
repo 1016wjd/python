{
 "cells": [
  {
   "cell_type": "markdown",
   "id": "7eab64ca-699f-413d-be6e-815cc289b63b",
   "metadata": {},
   "source": [
    "# 01. intro\n",
    "\n",
    "## 단축기\n",
    "\n",
    "- ctrl + enter : 지금 셀 실행\n",
    "- shift + enter : 지금 셀 실행 & 아래로 이동\n",
    "- alt + ennter : 지금 행 실행 & 아래에 새로운 셀 추가\n",
    "\n",
    "## 주의사항  \n",
    "\n",
    "1. Apple / apple 다름 (대소문자 구분)\n",
    "2. git add . / git add. 은 다른 언어 (띄어쓰기중요)\n",
    "3. message / massage 철자 틀리지 않도록 주의\n"
   ]
  },
  {
   "cell_type": "code",
   "execution_count": null,
   "id": "5fbd0d3c-4354-423d-aae3-b3bff16eef49",
   "metadata": {},
   "outputs": [],
   "source": [
    "# 주석을 나타냅니다."
   ]
  },
  {
   "cell_type": "markdown",
   "id": "f39d3e1a-9d7f-433a-9c0d-e86e66d1ec0d",
   "metadata": {},
   "source": [
    "# 1. 변수\n",
    "\n",
    "변수이름 = 값 \n",
    "\n",
    "- 변수이름은 어떤 이름이든 상관 없음\n",
    "- 다만 영어, 숫자, _를 이용하아ㅕ 선언\n",
    "- 키워드는 사용불가"
   ]
  },
  {
   "cell_type": "code",
   "execution_count": 4,
   "id": "3d20d02a-9f41-4a9b-8668-d9f26271a096",
   "metadata": {},
   "outputs": [],
   "source": [
    "a = 10"
   ]
  },
  {
   "cell_type": "code",
   "execution_count": 5,
   "id": "54ba1392-6303-4139-ba65-9619aeb78672",
   "metadata": {},
   "outputs": [
    {
     "data": {
      "text/plain": [
       "10"
      ]
     },
     "execution_count": 5,
     "metadata": {},
     "output_type": "execute_result"
    }
   ],
   "source": [
    "a"
   ]
  },
  {
   "cell_type": "code",
   "execution_count": 6,
   "id": "94133d63-6d33-43bf-8b50-4cece7450bf2",
   "metadata": {},
   "outputs": [
    {
     "data": {
      "text/plain": [
       "['False',\n",
       " 'None',\n",
       " 'True',\n",
       " 'and',\n",
       " 'as',\n",
       " 'assert',\n",
       " 'async',\n",
       " 'await',\n",
       " 'break',\n",
       " 'class',\n",
       " 'continue',\n",
       " 'def',\n",
       " 'del',\n",
       " 'elif',\n",
       " 'else',\n",
       " 'except',\n",
       " 'finally',\n",
       " 'for',\n",
       " 'from',\n",
       " 'global',\n",
       " 'if',\n",
       " 'import',\n",
       " 'in',\n",
       " 'is',\n",
       " 'lambda',\n",
       " 'nonlocal',\n",
       " 'not',\n",
       " 'or',\n",
       " 'pass',\n",
       " 'raise',\n",
       " 'return',\n",
       " 'try',\n",
       " 'while',\n",
       " 'with',\n",
       " 'yield']"
      ]
     },
     "execution_count": 6,
     "metadata": {},
     "output_type": "execute_result"
    }
   ],
   "source": [
    "import keyword\n",
    "keyword.kwlist"
   ]
  },
  {
   "cell_type": "markdown",
   "id": "97e4cb72-3971-4b0e-a8d1-e53c1f59f02d",
   "metadata": {},
   "source": [
    "1.1 number"
   ]
  },
  {
   "cell_type": "code",
   "execution_count": 8,
   "id": "2f9aedd0-9ed1-49db-976d-ccebcff89d3c",
   "metadata": {},
   "outputs": [],
   "source": [
    "a = 10000000"
   ]
  },
  {
   "cell_type": "code",
   "execution_count": 9,
   "id": "e699939b-2574-4ddd-8e18-70adfb8bf190",
   "metadata": {},
   "outputs": [
    {
     "data": {
      "text/plain": [
       "10000000"
      ]
     },
     "execution_count": 9,
     "metadata": {},
     "output_type": "execute_result"
    }
   ],
   "source": [
    "a"
   ]
  },
  {
   "cell_type": "code",
   "execution_count": 10,
   "id": "7f5bbfa3-8327-44c1-a99a-d6699b793468",
   "metadata": {},
   "outputs": [
    {
     "data": {
      "text/plain": [
       "int"
      ]
     },
     "execution_count": 10,
     "metadata": {},
     "output_type": "execute_result"
    }
   ],
   "source": [
    "type(a)"
   ]
  },
  {
   "cell_type": "code",
   "execution_count": 11,
   "id": "3411ea0d-b9e9-470b-9312-76e00139c4d9",
   "metadata": {},
   "outputs": [
    {
     "data": {
      "text/plain": [
       "1.1"
      ]
     },
     "execution_count": 11,
     "metadata": {},
     "output_type": "execute_result"
    }
   ],
   "source": [
    "b = 1.1\n",
    "b"
   ]
  },
  {
   "cell_type": "code",
   "execution_count": 12,
   "id": "f049d2c3-b21b-4d72-9344-8f32c2bcf0b8",
   "metadata": {},
   "outputs": [
    {
     "data": {
      "text/plain": [
       "float"
      ]
     },
     "execution_count": 12,
     "metadata": {},
     "output_type": "execute_result"
    }
   ],
   "source": [
    "type(b)"
   ]
  },
  {
   "cell_type": "code",
   "execution_count": 13,
   "id": "e98d0bd1-2f95-4d04-9d77-4afbe4faa3d2",
   "metadata": {},
   "outputs": [],
   "source": [
    "c = 1 - 4j"
   ]
  },
  {
   "cell_type": "code",
   "execution_count": 14,
   "id": "8e30ee30-5228-4dca-934c-e6ee70678141",
   "metadata": {},
   "outputs": [
    {
     "data": {
      "text/plain": [
       "complex"
      ]
     },
     "execution_count": 14,
     "metadata": {},
     "output_type": "execute_result"
    }
   ],
   "source": [
    "c\n",
    "type(c) #복소수"
   ]
  },
  {
   "cell_type": "code",
   "execution_count": 15,
   "id": "50a50a1c-7dca-48e9-8ec3-9e44b43cd7a8",
   "metadata": {},
   "outputs": [
    {
     "data": {
      "text/plain": [
       "-4.0"
      ]
     },
     "execution_count": 15,
     "metadata": {},
     "output_type": "execute_result"
    }
   ],
   "source": [
    "c.imag # . 은 객체지향어 실수부"
   ]
  },
  {
   "cell_type": "code",
   "execution_count": 16,
   "id": "90e0b218-4609-45c0-887f-c1df1fa6038b",
   "metadata": {},
   "outputs": [
    {
     "data": {
      "text/plain": [
       "1.0"
      ]
     },
     "execution_count": 16,
     "metadata": {},
     "output_type": "execute_result"
    }
   ],
   "source": [
    "c.real # 허수부"
   ]
  },
  {
   "cell_type": "markdown",
   "id": "059b3c6c-2579-4cfb-9add-c98aabc73234",
   "metadata": {},
   "source": [
    "### 1.2 Booleam\n",
    "True, False로 이루어진 타입"
   ]
  },
  {
   "cell_type": "code",
   "execution_count": 17,
   "id": "a004908d-7f92-4070-a52e-a20181560ff5",
   "metadata": {},
   "outputs": [],
   "source": [
    "a = True "
   ]
  },
  {
   "cell_type": "code",
   "execution_count": 18,
   "id": "400c232d-2856-4f33-a246-a86427fb0d23",
   "metadata": {},
   "outputs": [
    {
     "data": {
      "text/plain": [
       "bool"
      ]
     },
     "execution_count": 18,
     "metadata": {},
     "output_type": "execute_result"
    }
   ],
   "source": [
    "type(a)"
   ]
  },
  {
   "cell_type": "code",
   "execution_count": 19,
   "id": "a343a619-6aa7-4c3b-b51e-835da12c25bf",
   "metadata": {},
   "outputs": [
    {
     "data": {
      "text/plain": [
       "bool"
      ]
     },
     "execution_count": 19,
     "metadata": {},
     "output_type": "execute_result"
    }
   ],
   "source": [
    "b = False\n",
    "type(b)"
   ]
  },
  {
   "cell_type": "code",
   "execution_count": 20,
   "id": "5283cf62-82b5-45ea-8d46-956d475837cf",
   "metadata": {},
   "outputs": [
    {
     "data": {
      "text/plain": [
       "False"
      ]
     },
     "execution_count": 20,
     "metadata": {},
     "output_type": "execute_result"
    }
   ],
   "source": [
    "bool(0) #true false 구분 함수"
   ]
  },
  {
   "cell_type": "markdown",
   "id": "a87db72a-c150-4309-a8d2-dea066c2d61d",
   "metadata": {},
   "source": [
    "1.3 None"
   ]
  },
  {
   "cell_type": "code",
   "execution_count": 21,
   "id": "152bce2e-0175-45ef-9965-67cc7c745bfe",
   "metadata": {},
   "outputs": [],
   "source": [
    "a = None #None은 비어있다는 의미"
   ]
  },
  {
   "cell_type": "code",
   "execution_count": 22,
   "id": "ab246f24-bb1f-4014-aca6-6e32d3020557",
   "metadata": {},
   "outputs": [
    {
     "data": {
      "text/plain": [
       "NoneType"
      ]
     },
     "execution_count": 22,
     "metadata": {},
     "output_type": "execute_result"
    }
   ],
   "source": [
    "type(a)"
   ]
  },
  {
   "cell_type": "markdown",
   "id": "a79057bb-e3fa-4742-86f4-43b4505c6935",
   "metadata": {},
   "source": [
    "### 1.4 Stirng \n",
    "\n",
    "- 문자열은 `'` `\"`를 이용하여 표현"
   ]
  },
  {
   "cell_type": "code",
   "execution_count": 24,
   "id": "a0c158f2-cdd5-4db4-8dc9-0bffc595a288",
   "metadata": {},
   "outputs": [
    {
     "data": {
      "text/plain": [
       "str"
      ]
     },
     "execution_count": 24,
     "metadata": {},
     "output_type": "execute_result"
    }
   ],
   "source": [
    "a = 'hello'\n",
    "type(a) "
   ]
  },
  {
   "cell_type": "code",
   "execution_count": 25,
   "id": "80c95de0-029f-4e97-8d7b-3fc9d0a70885",
   "metadata": {},
   "outputs": [
    {
     "data": {
      "text/plain": [
       "str"
      ]
     },
     "execution_count": 25,
     "metadata": {},
     "output_type": "execute_result"
    }
   ],
   "source": [
    "b = 'world'\n",
    "b\n",
    "type(b)"
   ]
  },
  {
   "cell_type": "code",
   "execution_count": 29,
   "id": "2c961855-7554-4bf9-a521-f65792d94034",
   "metadata": {},
   "outputs": [
    {
     "name": "stdin",
     "output_type": "stream",
     "text": [
      " 123\n"
     ]
    },
    {
     "name": "stdout",
     "output_type": "stream",
     "text": [
      "123\n",
      "<class 'str'>\n"
     ]
    }
   ],
   "source": [
    "age = input()\n",
    "print(age)\n",
    "print(type(age)) # input을 통해 입력된 123은 숫자가 아닌 문자로 들어감 "
   ]
  },
  {
   "cell_type": "code",
   "execution_count": 33,
   "id": "6fc644f0-4447-4ca5-9df0-7cf52e14f6ab",
   "metadata": {},
   "outputs": [
    {
     "ename": "SyntaxError",
     "evalue": "invalid syntax. Perhaps you forgot a comma? (247337823.py, line 1)",
     "output_type": "error",
     "traceback": [
      "\u001b[1;36m  Cell \u001b[1;32mIn[33], line 1\u001b[1;36m\u001b[0m\n\u001b[1;33m    print('안녕하세요?'김현정'입니다.')\u001b[0m\n\u001b[1;37m          ^\u001b[0m\n\u001b[1;31mSyntaxError\u001b[0m\u001b[1;31m:\u001b[0m invalid syntax. Perhaps you forgot a comma?\n"
     ]
    }
   ],
   "source": [
    "print('안녕하세요?'김현정'입니다.')"
   ]
  },
  {
   "cell_type": "code",
   "execution_count": 35,
   "id": "78c97670-9831-4d96-b6c4-aa61f8782869",
   "metadata": {},
   "outputs": [
    {
     "name": "stdout",
     "output_type": "stream",
     "text": [
      "안녕하세요?\"김현정\"입니다.\n"
     ]
    }
   ],
   "source": [
    "print('안녕하세요?' '\"김현정\"' '입니다.')"
   ]
  },
  {
   "cell_type": "code",
   "execution_count": 39,
   "id": "891c2afa-1f4c-45db-980a-af30c9eb9d9e",
   "metadata": {},
   "outputs": [
    {
     "name": "stdout",
     "output_type": "stream",
     "text": [
      "안녕하세요? '김현정' 입니다.\n"
     ]
    }
   ],
   "source": [
    "print('안녕하세요? \\'김현정\\' 입니다.') # 빽슬래쉬뒤는 문자취급"
   ]
  },
  {
   "cell_type": "code",
   "execution_count": 40,
   "id": "bf4db763-23ad-456b-84fc-9f630422c4f4",
   "metadata": {},
   "outputs": [],
   "source": [
    "a = '''\n",
    "여기는 문자열 입니다.\n",
    "엔터를 쳐서 여러줄을 작성할 수 있습니다.\n",
    "'''"
   ]
  },
  {
   "cell_type": "code",
   "execution_count": 41,
   "id": "d21ae54a-381e-4f52-8122-5c0f6730f1e3",
   "metadata": {},
   "outputs": [
    {
     "name": "stdout",
     "output_type": "stream",
     "text": [
      "\n",
      "여기는 문자열 입니다.\n",
      "엔터를 쳐서 여러줄을 작성할 수 있습니다.\n",
      "\n"
     ]
    }
   ],
   "source": [
    "print(a)"
   ]
  },
  {
   "cell_type": "code",
   "execution_count": 45,
   "id": "c67ac848-9c11-47d5-b04f-f1f734686da6",
   "metadata": {},
   "outputs": [
    {
     "name": "stdout",
     "output_type": "stream",
     "text": [
      "엔터를 입력해봐요 \n",
      "다음줄입니다. \t들여쓰기도 가능합니다.\n"
     ]
    }
   ],
   "source": [
    "print('엔터를 입력해봐요 \\n다음줄입니다. \\t들여쓰기도 가능합니다.') #\\n 줄바꿈 \\t 들여쓰기"
   ]
  },
  {
   "cell_type": "code",
   "execution_count": 47,
   "id": "fac4e7ea-ecef-4889-8e35-faff19ba861f",
   "metadata": {},
   "outputs": [
    {
     "name": "stdout",
     "output_type": "stream",
     "text": [
      "하나 둘 셋!"
     ]
    }
   ],
   "source": [
    "print('하나', '둘', '셋', end = '!')"
   ]
  },
  {
   "cell_type": "code",
   "execution_count": 50,
   "id": "109c3a45-b143-4323-a09d-a67f643e1737",
   "metadata": {},
   "outputs": [
    {
     "name": "stdout",
     "output_type": "stream",
     "text": [
      "하나/둘/셋\n"
     ]
    }
   ],
   "source": [
    "print('하나', '둘', '셋', sep='/')"
   ]
  },
  {
   "cell_type": "code",
   "execution_count": 54,
   "id": "ac6e5dd2-8c1f-4afd-ac4c-155ebbb3f38e",
   "metadata": {},
   "outputs": [
    {
     "name": "stdout",
     "output_type": "stream",
     "text": [
      "하나\t둘\t셋\n"
     ]
    }
   ],
   "source": [
    "print('하나', '둘', '셋', sep='\\t')"
   ]
  },
  {
   "cell_type": "markdown",
   "id": "c25249be-d27f-439c-9914-e35220dffc0b",
   "metadata": {},
   "source": [
    "#### string interpolation \n",
    "\n",
    "1. %-formatting\n",
    "2. str.format()\n",
    "3. f-string\n",
    "\n",
    "3번이 가장 트랜디함"
   ]
  },
  {
   "cell_type": "code",
   "execution_count": 53,
   "id": "7a62fe10-2704-4849-a765-a6740dcd5df8",
   "metadata": {},
   "outputs": [],
   "source": [
    "age = 20"
   ]
  },
  {
   "cell_type": "code",
   "execution_count": 55,
   "id": "21ddc139-af7d-4b41-8062-6883ac76840e",
   "metadata": {},
   "outputs": [
    {
     "name": "stdout",
     "output_type": "stream",
     "text": [
      "홍길동은 20살입니다.\n"
     ]
    }
   ],
   "source": [
    "print('홍길동은 %s살입니다.' % age)"
   ]
  },
  {
   "cell_type": "code",
   "execution_count": 57,
   "id": "a00ff1e7-6a94-40a4-8bb4-b726cc14b87f",
   "metadata": {},
   "outputs": [
    {
     "name": "stdout",
     "output_type": "stream",
     "text": [
      "홍길동은 20살입니다.\n"
     ]
    }
   ],
   "source": [
    "print('홍길동은 {}살입니다.'.format(age))"
   ]
  },
  {
   "cell_type": "code",
   "execution_count": 58,
   "id": "63fe5111-8ef1-4420-b9ea-62e8714da887",
   "metadata": {},
   "outputs": [
    {
     "name": "stdout",
     "output_type": "stream",
     "text": [
      "홍길동은 20살입니다.\n"
     ]
    }
   ],
   "source": [
    "print(f'홍길동은 {age}살입니다.') #f를 문장앞에 넣음"
   ]
  },
  {
   "cell_type": "markdown",
   "id": "b8e069af-0ec1-40ae-a4e0-6902b897af24",
   "metadata": {},
   "source": [
    "###2. 연산자\n",
    "\n",
    "2.1 산술연산자"
   ]
  },
  {
   "cell_type": "code",
   "execution_count": 64,
   "id": "c7cd0e87-540a-4c90-9468-fe77776eed4d",
   "metadata": {},
   "outputs": [],
   "source": [
    "a = 2\n",
    "b = 3"
   ]
  },
  {
   "cell_type": "code",
   "execution_count": 65,
   "id": "e03a6ce9-2da8-4d1d-a151-2a583f58e48f",
   "metadata": {},
   "outputs": [
    {
     "data": {
      "text/plain": [
       "5"
      ]
     },
     "execution_count": 65,
     "metadata": {},
     "output_type": "execute_result"
    }
   ],
   "source": [
    "a + b"
   ]
  },
  {
   "cell_type": "code",
   "execution_count": 66,
   "id": "58358094-ca3c-4d4a-ba95-4e71392ecdc1",
   "metadata": {},
   "outputs": [
    {
     "name": "stdout",
     "output_type": "stream",
     "text": [
      "5\n",
      "-1\n",
      "6\n",
      "0.6666666666666666\n",
      "8\n"
     ]
    }
   ],
   "source": [
    "print(a + b)\n",
    "print(a - b)\n",
    "print(a * b)\n",
    "print(a / b)\n",
    "print(a ** b)"
   ]
  },
  {
   "cell_type": "code",
   "execution_count": 69,
   "id": "5087c2aa-90f2-44ea-a9a8-ae99c300d6d4",
   "metadata": {},
   "outputs": [
    {
     "name": "stdout",
     "output_type": "stream",
     "text": [
      "0\n",
      "2\n",
      "(0, 2)\n"
     ]
    }
   ],
   "source": [
    "print(a // b) #몫 출력\n",
    "print(a % b) #나머지 출력\n",
    "print(divmod(a, b)) #몫 나머지 모두 출력"
   ]
  },
  {
   "cell_type": "markdown",
   "id": "0cd0ebd5-262e-49ee-83ac-eb695befcdeb",
   "metadata": {},
   "source": [
    "### 2. 2 비교 연산자"
   ]
  },
  {
   "cell_type": "code",
   "execution_count": 70,
   "id": "1e1e08b6-f8a9-46c5-aa69-64733946a2fe",
   "metadata": {},
   "outputs": [],
   "source": [
    "a = 5 \n",
    "b = 10"
   ]
  },
  {
   "cell_type": "code",
   "execution_count": 71,
   "id": "4cf29df7-5215-4a03-9020-f8c1467f7aa3",
   "metadata": {},
   "outputs": [
    {
     "name": "stdout",
     "output_type": "stream",
     "text": [
      "False\n",
      "True\n",
      "False\n",
      "True\n"
     ]
    }
   ],
   "source": [
    "print(a > b)\n",
    "print(a < b)\n",
    "print(a >= b)\n",
    "print(a <= b)"
   ]
  },
  {
   "cell_type": "code",
   "execution_count": 73,
   "id": "40e06d67-6794-4694-98e3-a12a61f9b914",
   "metadata": {},
   "outputs": [
    {
     "name": "stdout",
     "output_type": "stream",
     "text": [
      "False\n",
      "True\n"
     ]
    }
   ],
   "source": [
    "print(a == b) #같나요?\n",
    "print(a != b) #같지않나요?"
   ]
  },
  {
   "cell_type": "code",
   "execution_count": 75,
   "id": "c232f3f8-c650-4e93-b960-4d832c38b175",
   "metadata": {},
   "outputs": [
    {
     "name": "stdout",
     "output_type": "stream",
     "text": [
      "True\n",
      "False\n"
     ]
    }
   ],
   "source": [
    "print('hi' == 'hi')\n",
    "print('HI' == 'hi')"
   ]
  },
  {
   "cell_type": "markdown",
   "id": "38f65951-59be-40a0-8e48-5e4a6e4cc999",
   "metadata": {},
   "source": [
    "### 2. 3  논리연산자\n",
    "- and : 양쪽 모두 트루일때 True \n",
    "- or : 양쪽 중 하나만 True일 때 True \n",
    "- not\n"
   ]
  },
  {
   "cell_type": "code",
   "execution_count": 76,
   "id": "84767a5a-a0d4-486b-9dcc-4153b5f4410b",
   "metadata": {},
   "outputs": [
    {
     "name": "stdout",
     "output_type": "stream",
     "text": [
      "True\n",
      "False\n",
      "False\n",
      "False\n"
     ]
    }
   ],
   "source": [
    "print(True and True)\n",
    "print(True and False)\n",
    "print(False and True)\n",
    "print(False and False)"
   ]
  },
  {
   "cell_type": "code",
   "execution_count": 77,
   "id": "ede26ca1-066e-4361-940f-37046e1bbd29",
   "metadata": {},
   "outputs": [
    {
     "name": "stdout",
     "output_type": "stream",
     "text": [
      "True\n",
      "True\n",
      "True\n",
      "False\n"
     ]
    }
   ],
   "source": [
    "print(True or True) \n",
    "print(True or False) \n",
    "print(False or True)\n",
    "print(False or False)"
   ]
  },
  {
   "cell_type": "code",
   "execution_count": 78,
   "id": "7adee183-3929-4b42-8e49-5c6d4536e237",
   "metadata": {},
   "outputs": [
    {
     "name": "stdout",
     "output_type": "stream",
     "text": [
      "True\n",
      "False\n"
     ]
    }
   ],
   "source": [
    "print(True)\n",
    "print(not True)"
   ]
  },
  {
   "cell_type": "code",
   "execution_count": 80,
   "id": "5d82c6b0-f723-4b77-ba1c-9aa0f089b931",
   "metadata": {},
   "outputs": [
    {
     "name": "stdout",
     "output_type": "stream",
     "text": [
      "5\n",
      "0\n",
      "0\n",
      "0\n"
     ]
    }
   ],
   "source": [
    "#단축평가(and)\n",
    "print(3 and 5) #3은 True 의미이므로 앞을 출력\n",
    "print(3 and 0)\n",
    "print(0 and 5) #0은 False이므로 뒤에만 출력\n",
    "print(0 and 0)"
   ]
  },
  {
   "cell_type": "code",
   "execution_count": 81,
   "id": "39bd2f54-7ffd-4acd-8c9b-0e52e3b25aa6",
   "metadata": {},
   "outputs": [
    {
     "name": "stdout",
     "output_type": "stream",
     "text": [
      "3\n",
      "3\n",
      "5\n",
      "0\n"
     ]
    }
   ],
   "source": [
    "#단축평가(or)\n",
    "print(3 or 5) \n",
    "print(3 or 0)\n",
    "print(0 or 5) \n",
    "print(0 or 0)"
   ]
  },
  {
   "cell_type": "markdown",
   "id": "5e5d80db-a4fb-4a8a-aa50-2f1e685462ae",
   "metadata": {},
   "source": [
    "### 2.3 복합연산자"
   ]
  },
  {
   "cell_type": "code",
   "execution_count": 94,
   "id": "9d831063-77cd-4c62-a271-90ee66c59f43",
   "metadata": {},
   "outputs": [],
   "source": [
    "a = 1\n",
    "b = 2"
   ]
  },
  {
   "cell_type": "code",
   "execution_count": 95,
   "id": "346f4b12-b637-47dc-b712-d241bce97275",
   "metadata": {},
   "outputs": [],
   "source": []
  },
  {
   "cell_type": "code",
   "execution_count": null,
   "id": "5c11b9c6-07d1-4c93-84e0-54fbb2d11365",
   "metadata": {},
   "outputs": [],
   "source": []
  },
  {
   "cell_type": "code",
   "execution_count": 91,
   "id": "9de3a41d-ef77-49d7-a840-c49c4261cb09",
   "metadata": {},
   "outputs": [
    {
     "data": {
      "text/plain": [
       "2"
      ]
     },
     "execution_count": 91,
     "metadata": {},
     "output_type": "execute_result"
    }
   ],
   "source": [
    "a = a + 1 \n",
    "a"
   ]
  },
  {
   "cell_type": "code",
   "execution_count": 92,
   "id": "b8012249-3464-43dd-9819-f5a04e1d8cb0",
   "metadata": {},
   "outputs": [],
   "source": [
    "a += 1 #위와 같은 코드 "
   ]
  },
  {
   "cell_type": "code",
   "execution_count": 93,
   "id": "d9b62612-87d0-4625-988f-665fca251343",
   "metadata": {},
   "outputs": [
    {
     "data": {
      "text/plain": [
       "3"
      ]
     },
     "execution_count": 93,
     "metadata": {},
     "output_type": "execute_result"
    }
   ],
   "source": [
    "a\n"
   ]
  },
  {
   "cell_type": "code",
   "execution_count": null,
   "id": "03eb5582-011e-4685-b4db-baa56c18e148",
   "metadata": {},
   "outputs": [],
   "source": [
    "a = a + b\n",
    "a = a - b\n",
    "a = a * b\n",
    "a = a / b\n",
    "a = a// b \n",
    "a = a % b \n",
    "a = a ** b"
   ]
  },
  {
   "cell_type": "code",
   "execution_count": null,
   "id": "9bb79901-1590-4b51-9d07-201886a310a8",
   "metadata": {},
   "outputs": [],
   "source": [
    "a += b \n",
    "a -= b \n",
    "a *= b\n",
    "a /= b\n",
    "a //= b\n",
    "a %= b\n",
    "a **= b #위의 연산을 줄여서 표현 가능"
   ]
  },
  {
   "cell_type": "markdown",
   "id": "cadec528-d37c-4221-a4d1-52452883ad1d",
   "metadata": {},
   "source": [
    "### 2.4 기타연산자"
   ]
  },
  {
   "cell_type": "code",
   "execution_count": 96,
   "id": "18619bf4-d3f7-48f3-bbff-9ba6be8a7782",
   "metadata": {},
   "outputs": [],
   "source": [
    "a = 'hi'\n",
    "b = 'hello'"
   ]
  },
  {
   "cell_type": "code",
   "execution_count": 97,
   "id": "af854e8f-66b4-4c50-809a-c602ae494afd",
   "metadata": {},
   "outputs": [
    {
     "data": {
      "text/plain": [
       "'hihello'"
      ]
     },
     "execution_count": 97,
     "metadata": {},
     "output_type": "execute_result"
    }
   ],
   "source": [
    "#concatenation(연결)\n",
    "a + b #문자에선 연결"
   ]
  },
  {
   "cell_type": "code",
   "execution_count": 98,
   "id": "4588261a-b89e-4cc6-975e-5bd09dbc52e3",
   "metadata": {},
   "outputs": [],
   "source": [
    "a = [1, 2, 3]\n",
    "b = [4, 5, 6]"
   ]
  },
  {
   "cell_type": "code",
   "execution_count": 101,
   "id": "a6b9622b-61a4-4c2e-ab4e-ea610e03dd77",
   "metadata": {},
   "outputs": [
    {
     "name": "stdout",
     "output_type": "stream",
     "text": [
      "[1, 2, 3]\n",
      "[4, 5, 6]\n"
     ]
    }
   ],
   "source": [
    "print(a)\n",
    "print(b)"
   ]
  },
  {
   "cell_type": "code",
   "execution_count": 103,
   "id": "2e39c203-200e-4fe8-a73a-ba55389af0df",
   "metadata": {},
   "outputs": [
    {
     "data": {
      "text/plain": [
       "[1, 2, 3, 4, 5, 6]"
      ]
     },
     "execution_count": 103,
     "metadata": {},
     "output_type": "execute_result"
    }
   ],
   "source": [
    "#concatenation\n",
    "a + b"
   ]
  },
  {
   "cell_type": "code",
   "execution_count": 104,
   "id": "a9932414-5de0-4c1f-be41-150238e48451",
   "metadata": {},
   "outputs": [
    {
     "name": "stdout",
     "output_type": "stream",
     "text": [
      "True\n",
      "False\n"
     ]
    }
   ],
   "source": [
    "print('a' in 'apple')\n",
    "print('z' in  'apple')"
   ]
  },
  {
   "cell_type": "code",
   "execution_count": 105,
   "id": "110a6dfa-738d-4ac9-a905-598a22cd7fb4",
   "metadata": {},
   "outputs": [
    {
     "name": "stdout",
     "output_type": "stream",
     "text": [
      "True\n",
      "False\n"
     ]
    }
   ],
   "source": [
    "print(1 in [1, 2, 3])\n",
    "print(10 in [1, 2, 3])"
   ]
  },
  {
   "cell_type": "code",
   "execution_count": 108,
   "id": "4b0b4588-8276-4d3f-80cf-aaae0dc190a8",
   "metadata": {},
   "outputs": [
    {
     "name": "stdout",
     "output_type": "stream",
     "text": [
      "True\n",
      "140713663652648\n",
      "140713663652648\n"
     ]
    }
   ],
   "source": [
    "# identity\n",
    "a = 1 \n",
    "b = 1\n",
    "print(a is b) # = 기호와 비슷한 역할\n",
    "print(id(a))\n",
    "print(id(b))"
   ]
  },
  {
   "cell_type": "code",
   "execution_count": 109,
   "id": "75d62074-f2e4-497e-b0ed-7b1a96984c59",
   "metadata": {},
   "outputs": [
    {
     "name": "stdout",
     "output_type": "stream",
     "text": [
      "2853968671472\n",
      "2853968672464\n",
      "False\n"
     ]
    }
   ],
   "source": [
    "# identity\n",
    "a = 123123\n",
    "b = 123123\n",
    "print(id(a))\n",
    "print(id(b))\n",
    "print(a is b) # 값은 같지만 위치가 다름/ -5~256까지는 같은 위치"
   ]
  },
  {
   "cell_type": "code",
   "execution_count": null,
   "id": "bfaa82e8-b83c-46dc-b5ee-0977682498bd",
   "metadata": {},
   "outputs": [],
   "source": []
  }
 ],
 "metadata": {
  "kernelspec": {
   "display_name": "Python 3 (ipykernel)",
   "language": "python",
   "name": "python3"
  },
  "language_info": {
   "codemirror_mode": {
    "name": "ipython",
    "version": 3
   },
   "file_extension": ".py",
   "mimetype": "text/x-python",
   "name": "python",
   "nbconvert_exporter": "python",
   "pygments_lexer": "ipython3",
   "version": "3.11.4"
  }
 },
 "nbformat": 4,
 "nbformat_minor": 5
}
