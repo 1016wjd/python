{
 "cells": [
  {
   "cell_type": "markdown",
   "id": "26a5e144-b50a-46b5-a6fa-5a766a800157",
   "metadata": {},
   "source": [
    "# 제어문 "
   ]
  },
  {
   "cell_type": "markdown",
   "id": "9590d0db-7d8b-4948-af8d-0e99aaf53351",
   "metadata": {},
   "source": [
    "## 조건문 (if문)\n",
    "1. if 문은 반드시 일정한 참/거짓을 판단 할 수 있는 `조건식`과 함께 사용한다. (`if <조건식>:`)\n",
    "   \n",
    "2-1. `<조건식>`이 참인 경우 : 이후의 문장을 실행한다.\n",
    "   \n",
    "2-2. `<조건식>`이 거짓인 경우 `else` 이후의 문장을 실행한다\n",
    "\n",
    "if <조건식>:\n",
    "    print()\n",
    "else:\n",
    "    prnit()"
   ]
  },
  {
   "cell_type": "code",
   "execution_count": 2,
   "id": "536e6892-fd22-4276-a010-8862d2f46e83",
   "metadata": {},
   "outputs": [
    {
     "name": "stdin",
     "output_type": "stream",
     "text": [
      " 123\n"
     ]
    },
    {
     "name": "stdout",
     "output_type": "stream",
     "text": [
      "크리스마스가 아닙니다.\n"
     ]
    }
   ],
   "source": [
    "my_string = input()\n",
    "\n",
    "if my_string == '12/25':\n",
    "    print('크리스마스입니다.')\n",
    "else:\n",
    "    print('크리스마스가 아닙니다.')"
   ]
  },
  {
   "cell_type": "code",
   "execution_count": 11,
   "id": "b1c4d5eb-1280-446b-b72d-fd823f9060e0",
   "metadata": {},
   "outputs": [
    {
     "name": "stdin",
     "output_type": "stream",
     "text": [
      "숫자를 입력해주세요 123\n"
     ]
    }
   ],
   "source": [
    "num = input('숫자를 입력해주세요')"
   ]
  },
  {
   "cell_type": "code",
   "execution_count": 13,
   "id": "666c1e68-8b04-4851-a9ed-c2cc9cc6baba",
   "metadata": {},
   "outputs": [
    {
     "name": "stdout",
     "output_type": "stream",
     "text": [
      "홀수\n"
     ]
    }
   ],
   "source": [
    "#조건문을 사용해서 num에 들어있는 숫자가 홀수/짝수 인지 판별\n",
    "if (int(num) % 2) == 0:\n",
    "    print('짝수')\n",
    "else:\n",
    "    print('홀수')"
   ]
  },
  {
   "cell_type": "code",
   "execution_count": 16,
   "id": "3ffcefc6-beb2-449e-81cc-8be7ecd1af5a",
   "metadata": {},
   "outputs": [
    {
     "name": "stdout",
     "output_type": "stream",
     "text": [
      "홀수입니다\n"
     ]
    }
   ],
   "source": [
    "#num을 2로 나눈 나머지는 0, 1 두가지 경우가 있다.\n",
    "#if문의 조건식에 0, 1 은 자동변환되어 False, True 로 변환된다.\n",
    "if int(num) % 2:\n",
    "    print('홀수입니다')\n",
    "else:\n",
    "    print('짝수입니다')"
   ]
  },
  {
   "cell_type": "markdown",
   "id": "eccf2180-fc29-47e7-91cb-41921fc0956e",
   "metadata": {},
   "source": [
    "### elif\n",
    "\n",
    "```\n",
    "if <조건식>: \n",
    "    if 조건이 참인경우\n",
    "elif <조건식>:\n",
    "    elif 조건이 참인경우 실행\n",
    "...\n",
    "else:\n",
    "    위의 조건식에 하나도 부합하지 않는 경우 실행\n",
    "```"
   ]
  },
  {
   "cell_type": "code",
   "execution_count": 28,
   "id": "323f811f-71fd-4ca5-88b5-36b3ea5e2360",
   "metadata": {},
   "outputs": [
    {
     "name": "stdin",
     "output_type": "stream",
     "text": [
      " 92\n"
     ]
    }
   ],
   "source": [
    "score = int(input())\n"
   ]
  },
  {
   "cell_type": "code",
   "execution_count": 29,
   "id": "dd1f52f2-211e-48b0-8583-7c3678376426",
   "metadata": {},
   "outputs": [
    {
     "name": "stdout",
     "output_type": "stream",
     "text": [
      "A\n"
     ]
    }
   ],
   "source": [
    "# 90점 이상 A(95점 이상이면 '참잘했어요')\n",
    "# 80점 이상 B\n",
    "# 70점 이상 C\n",
    "# 나머지 F \n",
    "\n",
    "if score >= 90:\n",
    "    print('A')\n",
    "    if score >=95:\n",
    "        print('참잘했어요')\n",
    "elif score >= 80:\n",
    "    print('B')\n",
    "elif score >= 70:\n",
    "    print('c')\n",
    "else:\n",
    "    print('f')"
   ]
  },
  {
   "cell_type": "markdown",
   "id": "e583cde5-4ede-4ed5-af70-dce1734d3916",
   "metadata": {},
   "source": [
    "## 조건표현식\n",
    "\n",
    "```\n",
    "true_value if <조건식> else false_value\n",
    "```"
   ]
  },
  {
   "cell_type": "code",
   "execution_count": 34,
   "id": "451f1a21-56f1-4afb-9809-747cafdfcda0",
   "metadata": {},
   "outputs": [
    {
     "name": "stdout",
     "output_type": "stream",
     "text": [
      "False\n"
     ]
    }
   ],
   "source": [
    "print('True') if 1 < 0 else print('False')"
   ]
  },
  {
   "cell_type": "code",
   "execution_count": 42,
   "id": "c13a1a7d-3d4e-42a6-94a1-c464c623a797",
   "metadata": {},
   "outputs": [
    {
     "name": "stdout",
     "output_type": "stream",
     "text": [
      "True\n"
     ]
    }
   ],
   "source": [
    "if 1 > 0:\n",
    "    print('True')\n",
    "else:\n",
    "    print('False') #위와 같은 조건표현식"
   ]
  },
  {
   "cell_type": "code",
   "execution_count": 43,
   "id": "d15cd9ed-5fcb-490c-ad04-505a0d844c4d",
   "metadata": {},
   "outputs": [],
   "source": [
    "num = 5\n",
    "value = num if num >= 0 else 0 "
   ]
  },
  {
   "cell_type": "code",
   "execution_count": 44,
   "id": "8abc0ca9-68a0-4746-9eac-94625139cde8",
   "metadata": {},
   "outputs": [
    {
     "name": "stdout",
     "output_type": "stream",
     "text": [
      "0\n"
     ]
    }
   ],
   "source": [
    "num = -5\n",
    "if num >= 0:\n",
    "    value = num\n",
    "else:\n",
    "    value = 0 \n",
    "print(value)"
   ]
  },
  {
   "cell_type": "code",
   "execution_count": 45,
   "id": "6910de5d-87b6-41a3-a868-a6a64b6622e2",
   "metadata": {},
   "outputs": [
    {
     "name": "stdout",
     "output_type": "stream",
     "text": [
      "짝수\n"
     ]
    }
   ],
   "source": [
    "num = 2\n",
    "if num % 2 == 1:\n",
    "    result = '홀수'\n",
    "else:\n",
    "    result = '짝수'\n",
    "print(result)"
   ]
  },
  {
   "cell_type": "code",
   "execution_count": 48,
   "id": "e8301cd2-6db4-4f03-be09-27cedc882d6d",
   "metadata": {},
   "outputs": [
    {
     "name": "stdout",
     "output_type": "stream",
     "text": [
      "짝수\n"
     ]
    }
   ],
   "source": [
    "num = 2\n",
    "result = '홀수' if num % 2 == 1 else '짝수'\n",
    "print(result)"
   ]
  },
  {
   "cell_type": "markdown",
   "id": "28115278-191d-4377-af0e-f2ac99aeb68d",
   "metadata": {},
   "source": [
    "# 반복문\n",
    "\n",
    "## while 문 \n",
    "\n",
    "```\n",
    "while <조건식>:\n",
    "    실행할 코드\n",
    "```"
   ]
  },
  {
   "cell_type": "code",
   "execution_count": 1,
   "id": "cfbf9706-baa4-4575-9470-f43f67f1df0a",
   "metadata": {},
   "outputs": [
    {
     "name": "stdout",
     "output_type": "stream",
     "text": [
      "0\n",
      "1\n",
      "2\n",
      "3\n",
      "4\n"
     ]
    }
   ],
   "source": [
    "a = 0 \n",
    "\n",
    "while a < 5:\n",
    "    print(a)\n",
    "    a += 1\n",
    "    #a = a + 1"
   ]
  },
  {
   "cell_type": "code",
   "execution_count": 3,
   "id": "132bc9be-5f00-4d44-bc65-8a35e0a987b6",
   "metadata": {},
   "outputs": [
    {
     "name": "stdin",
     "output_type": "stream",
     "text": [
      "안녕이라고해줘 :  안녕\n"
     ]
    }
   ],
   "source": [
    "# 사용자가 '안녕'이라고 할때까지 계속 요청받는 코드\n",
    "greeting = '' #초기화함\n",
    "\n",
    "while greeting !='안녕':\n",
    "    greeting = input('안녕이라고해줘 : ')"
   ]
  },
  {
   "cell_type": "markdown",
   "id": "5d739ecd-6e4a-4638-b2e3-dcbe6cf9e805",
   "metadata": {},
   "source": [
    "## for\n",
    "정해진 범위 내의 반복\n",
    "```\n",
    "for variable in sequence: \n",
    "    code\n",
    "```"
   ]
  },
  {
   "cell_type": "code",
   "execution_count": 4,
   "id": "5cdb6b48-5518-43cd-8a64-aeb606dc0304",
   "metadata": {},
   "outputs": [
    {
     "name": "stdout",
     "output_type": "stream",
     "text": [
      "1\n",
      "2\n",
      "3\n",
      "4\n",
      "5\n"
     ]
    }
   ],
   "source": [
    "numbers = [1, 2, 3, 4, 5]\n",
    "\n",
    "for number in numbers:\n",
    "    print(number)"
   ]
  },
  {
   "cell_type": "code",
   "execution_count": 11,
   "id": "1277bc56-6bad-4c84-b3ff-2aec77f5b866",
   "metadata": {},
   "outputs": [
    {
     "name": "stdin",
     "output_type": "stream",
     "text": [
      "단어를 입력해주세요:  apple\n"
     ]
    },
    {
     "name": "stdout",
     "output_type": "stream",
     "text": [
      "a\n",
      "p\n",
      "p\n",
      "l\n",
      "e\n"
     ]
    }
   ],
   "source": [
    "# for 문을 사용해서 사용자가 입력한 데이터를 한글자씩 출력하는 코드\n",
    "word = input('단어를 입력해주세요: ')\n",
    "\n",
    "for char in word:\n",
    "    print(char)\n"
   ]
  },
  {
   "cell_type": "code",
   "execution_count": 14,
   "id": "b489ccce-818a-4eef-b14d-080bc4b22e5d",
   "metadata": {},
   "outputs": [
    {
     "name": "stdout",
     "output_type": "stream",
     "text": [
      "0\n",
      "1\n",
      "2\n",
      "3\n",
      "4\n"
     ]
    }
   ],
   "source": [
    "for i in range(5): \n",
    "    print(i)"
   ]
  },
  {
   "cell_type": "code",
   "execution_count": 16,
   "id": "fb7aab52-d28d-46e1-96e7-4968fbdb6d26",
   "metadata": {},
   "outputs": [
    {
     "name": "stdout",
     "output_type": "stream",
     "text": [
      "1\n",
      "2\n",
      "3\n",
      "4\n",
      "5\n"
     ]
    }
   ],
   "source": [
    "for i in (1, 2, 3, 4, 5):\n",
    "    print(i)"
   ]
  },
  {
   "cell_type": "code",
   "execution_count": 27,
   "id": "19053317-940a-4452-b5cd-e54ac3c0ccd9",
   "metadata": {},
   "outputs": [
    {
     "name": "stdout",
     "output_type": "stream",
     "text": [
      "1\n",
      "3\n",
      "5\n",
      "7\n",
      "9\n",
      "11\n",
      "13\n",
      "15\n",
      "17\n",
      "19\n",
      "21\n",
      "23\n",
      "25\n",
      "27\n",
      "29\n"
     ]
    },
    {
     "data": {
      "text/plain": [
       "'\\nfor i in range(1,30, 2):\\n    print(i)\\n'"
      ]
     },
     "execution_count": 27,
     "metadata": {},
     "output_type": "execute_result"
    }
   ],
   "source": [
    "# 1. 1~30까지 숫자 중에서 홀수 출력\n",
    "\n",
    "numbers = range(31)\n",
    "\n",
    "for number in numbers:\n",
    "    if number % 2 == 1:\n",
    "        print(number)\n",
    "\n",
    "\"\"\"\n",
    "for i in range(1,30, 2):\n",
    "    print(i)\n",
    "\"\"\""
   ]
  },
  {
   "cell_type": "code",
   "execution_count": 30,
   "id": "0e72a555-c3ad-4726-8c17-5ff9a3200697",
   "metadata": {},
   "outputs": [
    {
     "name": "stdout",
     "output_type": "stream",
     "text": [
      "[1, 3, 5, 7, 9, 11, 13, 15, 17, 19, 21, 23, 25, 27, 29]\n"
     ]
    }
   ],
   "source": [
    "# 2. 1~30까지 숫자 중에서 홀수만 담긴 리스트로 출력\n",
    "\n",
    "numbers = range(31)\n",
    "result = []\n",
    "\n",
    "for number in numbers:\n",
    "    if number % 2 == 1:\n",
    "        result.append(number)\n",
    "\n",
    "print(result)"
   ]
  },
  {
   "cell_type": "code",
   "execution_count": 38,
   "id": "b67e978d-3272-4007-a759-a5ee9853cb55",
   "metadata": {},
   "outputs": [
    {
     "name": "stdout",
     "output_type": "stream",
     "text": [
      "0\n",
      "돈까스\n",
      "1\n",
      "초밥\n",
      "2\n",
      "냉면\n"
     ]
    }
   ],
   "source": [
    "menus = ['돈까스', '초밥', '냉면']\n",
    "\n",
    "for menu in enumerate(menus): \n",
    "    #print(menu)\n",
    "    print(menu[0])\n",
    "    print(menu[1])\n",
    "   "
   ]
  },
  {
   "cell_type": "code",
   "execution_count": 39,
   "id": "d1d9dd78-2b0e-4160-83c8-1bc7f371abde",
   "metadata": {},
   "outputs": [
    {
     "data": {
      "text/plain": [
       "<enumerate at 0x1891147cae0>"
      ]
     },
     "execution_count": 39,
     "metadata": {},
     "output_type": "execute_result"
    }
   ],
   "source": [
    "enumerate(menus) #위처럼 (인덱스,데이터)와 같이 튜플로 감싸져서 나옴 "
   ]
  },
  {
   "cell_type": "code",
   "execution_count": 40,
   "id": "8f6b4470-1846-4e48-b7ce-929a40be7c69",
   "metadata": {},
   "outputs": [
    {
     "name": "stdout",
     "output_type": "stream",
     "text": [
      "0\n",
      "돈까스\n",
      "1\n",
      "초밥\n",
      "2\n",
      "냉면\n"
     ]
    }
   ],
   "source": [
    "menus = ['돈까스', '초밥', '냉면']\n",
    "\n",
    "for idx,menu in enumerate(menus): \n",
    "    print(idx)\n",
    "    print(menu)"
   ]
  },
  {
   "cell_type": "markdown",
   "id": "d332bf9b-80a1-4b30-9869-47e5258ad1e5",
   "metadata": {},
   "source": [
    "## dictionary 반복\n",
    "\n",
    "1. for key in dict:\n",
    "2. for key in dict.keys():\n",
    "3. for value in dictvalues():\n",
    "4. for key "
   ]
  },
  {
   "cell_type": "code",
   "execution_count": 41,
   "id": "90ef6bb5-86aa-412e-b8db-0184349223ab",
   "metadata": {},
   "outputs": [],
   "source": [
    "info = {\n",
    "    'name' : 'hyunjung',\n",
    "    'location' : 'seoul',\n",
    "    'phone' : '010-1234-1234'\n",
    "}"
   ]
  },
  {
   "cell_type": "code",
   "execution_count": 44,
   "id": "bed3880b-cc81-4a7a-a040-d8c7238af0c6",
   "metadata": {},
   "outputs": [
    {
     "name": "stdout",
     "output_type": "stream",
     "text": [
      "name\n",
      "hyunjung\n",
      "location\n",
      "seoul\n",
      "phone\n",
      "010-1234-1234\n"
     ]
    }
   ],
   "source": [
    "for i in info:\n",
    "    print(i) #키가 출력\n",
    "    print(info[i])"
   ]
  },
  {
   "cell_type": "code",
   "execution_count": 45,
   "id": "83e79696-05a2-4634-9304-7cace85b4572",
   "metadata": {},
   "outputs": [],
   "source": [
    "blood_type = {\n",
    "    'A': 5,\n",
    "    'B': 4,\n",
    "    'C': 2,\n",
    "    'AB': 3,\n",
    "}"
   ]
  },
  {
   "cell_type": "code",
   "execution_count": 47,
   "id": "b3ef3d81-003c-46f8-8eeb-a42173e67d47",
   "metadata": {},
   "outputs": [
    {
     "name": "stdout",
     "output_type": "stream",
     "text": [
      "혈액형 목록은 다음과 같습니다.\n",
      "A\n",
      "B\n",
      "C\n",
      "AB\n"
     ]
    }
   ],
   "source": [
    "print('혈액형 목록은 다음과 같습니다.')\n",
    "for key in blood_type:\n",
    "    print(key)"
   ]
  },
  {
   "cell_type": "code",
   "execution_count": 48,
   "id": "ef999b51-dec2-4819-ac71-1f57e4175566",
   "metadata": {},
   "outputs": [
    {
     "name": "stdout",
     "output_type": "stream",
     "text": [
      "혈액형 목록은 다음과 같습니다.\n",
      "A\n",
      "B\n",
      "C\n",
      "AB\n"
     ]
    }
   ],
   "source": [
    "print('혈액형 목록은 다음과 같습니다.')\n",
    "for key in blood_type.keys():\n",
    "    print(key)"
   ]
  },
  {
   "cell_type": "code",
   "execution_count": 49,
   "id": "c52b357a-7257-4db1-a628-344f1c767461",
   "metadata": {},
   "outputs": [
    {
     "name": "stdout",
     "output_type": "stream",
     "text": [
      "5\n",
      "4\n",
      "2\n",
      "3\n"
     ]
    }
   ],
   "source": [
    "for value in blood_type.values():\n",
    "    print(value)"
   ]
  },
  {
   "cell_type": "code",
   "execution_count": 53,
   "id": "d15fa9c2-9f11-4fea-ae98-93452538efc6",
   "metadata": {},
   "outputs": [
    {
     "name": "stdout",
     "output_type": "stream",
     "text": [
      "총인원은 14명입니다.\n"
     ]
    }
   ],
   "source": [
    "result = 0\n",
    "\n",
    "for value in blood_type.values():\n",
    "    result = result + value\n",
    "print(f'총인원은 {result}명입니다.')"
   ]
  },
  {
   "cell_type": "code",
   "execution_count": 57,
   "id": "21d214de-0537-4a90-9b5b-c54f84889f70",
   "metadata": {},
   "outputs": [
    {
     "name": "stdout",
     "output_type": "stream",
     "text": [
      "A 5\n",
      "A형은 5명 입니다\n",
      "B 4\n",
      "B형은 4명 입니다\n",
      "C 2\n",
      "C형은 2명 입니다\n",
      "AB 3\n",
      "AB형은 3명 입니다\n"
     ]
    }
   ],
   "source": [
    "for key, value in blood_type.items():\n",
    "    print(key, value)\n",
    "\n",
    "#    print(f'{key}형은 {value}명 입니다')\n",
    "\n",
    "# for item in blood_type.items():\n",
    "#    print(item)"
   ]
  },
  {
   "cell_type": "code",
   "execution_count": 56,
   "id": "91876bc9-5bb2-45f7-ab3f-c5832b76a07c",
   "metadata": {},
   "outputs": [
    {
     "data": {
      "text/plain": [
       "dict_items([('A', 5), ('B', 4), ('C', 2), ('AB', 3)])"
      ]
     },
     "execution_count": 56,
     "metadata": {},
     "output_type": "execute_result"
    }
   ],
   "source": [
    "blood_type.items()"
   ]
  },
  {
   "cell_type": "markdown",
   "id": "2412c9d8-1502-4edb-baf7-135c29509d28",
   "metadata": {},
   "source": [
    "### break\n",
    "반복문을 종료시키는 키워드"
   ]
  },
  {
   "cell_type": "code",
   "execution_count": 60,
   "id": "5135792e-edb3-4c7f-9648-e1b5eac00f4d",
   "metadata": {},
   "outputs": [
    {
     "name": "stdout",
     "output_type": "stream",
     "text": [
      "0\n",
      "1\n",
      "2\n",
      "3\n",
      "4\n",
      "5\n",
      "6\n",
      "7\n",
      "8\n",
      "9\n",
      "10\n",
      "10넘었어\n"
     ]
    }
   ],
   "source": [
    "for i in range(100):\n",
    "    if i > 10:\n",
    "        print('10넘었어')\n",
    "        break\n",
    "    print(i)"
   ]
  },
  {
   "cell_type": "code",
   "execution_count": 87,
   "id": "c35e5c2c-917b-4a27-85d9-c89b9b176cf0",
   "metadata": {},
   "outputs": [],
   "source": [
    "rice = ['보리', '보리', '보리', '쌀', '보리','보리']"
   ]
  },
  {
   "cell_type": "code",
   "execution_count": 93,
   "id": "087a416d-8b59-4296-ab3a-5be16ce53b8c",
   "metadata": {},
   "outputs": [
    {
     "name": "stdout",
     "output_type": "stream",
     "text": [
      "보리\n",
      "보리\n",
      "보리\n",
      "쌀\n",
      "잡았다!\n"
     ]
    }
   ],
   "source": [
    "for i in rice:\n",
    "     print (i)\n",
    "     if i == '쌀':\n",
    "        print('잡았다!')\n",
    "        break"
   ]
  },
  {
   "cell_type": "markdown",
   "id": "5f333e8a-b3f4-4534-9c8c-07a3d9a79309",
   "metadata": {},
   "source": [
    "### continue\n",
    "\n",
    "continue  이후의 코드를 실행하지 않고 다음 반복을 진행"
   ]
  },
  {
   "cell_type": "code",
   "execution_count": 76,
   "id": "dd272448-7d5a-40f4-86fe-4daed7a4fd8d",
   "metadata": {},
   "outputs": [
    {
     "name": "stdout",
     "output_type": "stream",
     "text": [
      "0\n",
      "2\n",
      "4\n",
      "6\n",
      "8\n"
     ]
    }
   ],
   "source": [
    "for i in range(10):\n",
    "    if i % 2:\n",
    "        continue #홀수이면 if 문 통과하여 다시 for 문으로 돌아감\n",
    "    print(i)"
   ]
  },
  {
   "cell_type": "code",
   "execution_count": 86,
   "id": "9bf27437-5be8-474c-ac02-7ef7dd6c1957",
   "metadata": {},
   "outputs": [
    {
     "name": "stdout",
     "output_type": "stream",
     "text": [
      "35살은 성인입니다.\n",
      "20살은 성인입니다.\n",
      "40살은 성인입니다.\n"
     ]
    }
   ],
   "source": [
    "age = [10, 35, 20, 18, 9, 40]\n",
    "\n",
    "\n",
    "for a in age:\n",
    "    if a<20:\n",
    "        continue\n",
    "    print(f'{a}살은 성인입니다.')\n",
    "        "
   ]
  },
  {
   "cell_type": "markdown",
   "id": "ee9f345f-71dc-40dc-94ac-e1d3ab96ce56",
   "metadata": {},
   "source": [
    "### else\n",
    "else문은 끝까지 반복이 진행된 후 실행됩니다."
   ]
  },
  {
   "cell_type": "code",
   "execution_count": 96,
   "id": "41f514dc-ed84-454f-b713-2e18a971bc76",
   "metadata": {},
   "outputs": [
    {
     "name": "stdout",
     "output_type": "stream",
     "text": [
      "0\n",
      "1\n",
      "2\n",
      "3\n",
      "4\n",
      "5\n",
      "6\n",
      "7\n",
      "8\n",
      "9\n",
      "break 못만남\n"
     ]
    }
   ],
   "source": [
    "for i in range(10):\n",
    "    if i > 100:\n",
    "        break\n",
    "    print(i)\n",
    "else: #브레이크를 만나지 못하고 for문이 모두 돈 경우 출력\n",
    "    print('break 못만남')"
   ]
  },
  {
   "cell_type": "code",
   "execution_count": 97,
   "id": "23f23197-aab7-4ec8-ac0c-0fa00c9d7f3a",
   "metadata": {},
   "outputs": [
    {
     "name": "stdout",
     "output_type": "stream",
     "text": [
      "0\n",
      "1\n",
      "2\n",
      "3\n",
      "4\n",
      "5\n"
     ]
    }
   ],
   "source": [
    "for i in range(10):\n",
    "    if i > 5:\n",
    "        break\n",
    "    print(i)\n",
    "else: \n",
    "    print('break 못만남')"
   ]
  },
  {
   "cell_type": "code",
   "execution_count": 99,
   "id": "637dfdec-30b8-424f-9fa8-427b958592d9",
   "metadata": {},
   "outputs": [
    {
     "name": "stdout",
     "output_type": "stream",
     "text": [
      "True\n",
      "False\n"
     ]
    }
   ],
   "source": [
    "numbers = [1,3,5,7,9]\n",
    "print(3 in numbers) #3이 들어있는지 확인\n",
    "print(2 in numbers)"
   ]
  },
  {
   "cell_type": "code",
   "execution_count": 105,
   "id": "3227b3e4-9bad-4e6f-a335-2a2a3d4f6ddb",
   "metadata": {},
   "outputs": [
    {
     "name": "stdout",
     "output_type": "stream",
     "text": [
      "True\n"
     ]
    }
   ],
   "source": [
    "numbers = [1, 3, 5, 7, 9]\n",
    "target = 5\n",
    "\n",
    "for number in numbers:\n",
    "    if number == target:\n",
    "        print(True)\n",
    "        break\n",
    "else:\n",
    "    print(False)"
   ]
  },
  {
   "cell_type": "markdown",
   "id": "40a2f252-8f4b-46a6-ae75-f6294ba9dc3d",
   "metadata": {},
   "source": [
    "### pass"
   ]
  },
  {
   "cell_type": "code",
   "execution_count": 106,
   "id": "9ef6c097-610b-4da1-ad46-35ab5c46e68e",
   "metadata": {},
   "outputs": [],
   "source": [
    "if True :\n",
    "    pass"
   ]
  },
  {
   "cell_type": "markdown",
   "id": "7101c052-08eb-4d63-ab56-ae24c0ce46bc",
   "metadata": {},
   "source": [
    "### match\n",
    "\n",
    "```\n",
    "match value:\n",
    "    case 조건:\n",
    "        code\n",
    "    case 조건:\n",
    "        code\n",
    "    case _:\n",
    "        code\n",
    "```"
   ]
  },
  {
   "cell_type": "code",
   "execution_count": 110,
   "id": "31fb9698-fb1c-45c7-8241-1c55f4bbc765",
   "metadata": {},
   "outputs": [
    {
     "name": "stdout",
     "output_type": "stream",
     "text": [
      "someting is wrong\n"
     ]
    }
   ],
   "source": [
    "status = 100\n",
    "#status = 404\n",
    "match status:\n",
    "    case 400:\n",
    "        print('Bad request')\n",
    "    case 404:\n",
    "        print('not found')\n",
    "    case _:\n",
    "        print('someting is wrong')"
   ]
  },
  {
   "cell_type": "code",
   "execution_count": null,
   "id": "9a6de38e-93ac-4cf8-8db6-13d407105855",
   "metadata": {},
   "outputs": [],
   "source": []
  }
 ],
 "metadata": {
  "kernelspec": {
   "display_name": "Python 3 (ipykernel)",
   "language": "python",
   "name": "python3"
  },
  "language_info": {
   "codemirror_mode": {
    "name": "ipython",
    "version": 3
   },
   "file_extension": ".py",
   "mimetype": "text/x-python",
   "name": "python",
   "nbconvert_exporter": "python",
   "pygments_lexer": "ipython3",
   "version": "3.11.4"
  }
 },
 "nbformat": 4,
 "nbformat_minor": 5
}
