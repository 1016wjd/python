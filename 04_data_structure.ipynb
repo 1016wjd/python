{
 "cells": [
  {
   "cell_type": "code",
   "execution_count": 1,
   "id": "efc1ce26-5f59-487f-b52d-5351b3374181",
   "metadata": {},
   "outputs": [
    {
     "name": "stdout",
     "output_type": "stream",
     "text": [
      "hello\n"
     ]
    }
   ],
   "source": [
    "print('hello')"
   ]
  },
  {
   "cell_type": "code",
   "execution_count": 2,
   "id": "851c4af4-8905-4f30-bcf0-4f86be986b1c",
   "metadata": {},
   "outputs": [
    {
     "data": {
      "text/plain": [
       "'123'"
      ]
     },
     "execution_count": 2,
     "metadata": {},
     "output_type": "execute_result"
    }
   ],
   "source": [
    "''.join(['1','2','3'])"
   ]
  },
  {
   "cell_type": "code",
   "execution_count": 5,
   "id": "96149e4a-66b3-44e1-9cfe-c28d53f807c8",
   "metadata": {},
   "outputs": [
    {
     "data": {
      "text/plain": [
       "['__add__',\n",
       " '__class__',\n",
       " '__contains__',\n",
       " '__delattr__',\n",
       " '__dir__',\n",
       " '__doc__',\n",
       " '__eq__',\n",
       " '__format__',\n",
       " '__ge__',\n",
       " '__getattribute__',\n",
       " '__getitem__',\n",
       " '__getnewargs__',\n",
       " '__getstate__',\n",
       " '__gt__',\n",
       " '__hash__',\n",
       " '__init__',\n",
       " '__init_subclass__',\n",
       " '__iter__',\n",
       " '__le__',\n",
       " '__len__',\n",
       " '__lt__',\n",
       " '__mod__',\n",
       " '__mul__',\n",
       " '__ne__',\n",
       " '__new__',\n",
       " '__reduce__',\n",
       " '__reduce_ex__',\n",
       " '__repr__',\n",
       " '__rmod__',\n",
       " '__rmul__',\n",
       " '__setattr__',\n",
       " '__sizeof__',\n",
       " '__str__',\n",
       " '__subclasshook__',\n",
       " 'capitalize',\n",
       " 'casefold',\n",
       " 'center',\n",
       " 'count',\n",
       " 'encode',\n",
       " 'endswith',\n",
       " 'expandtabs',\n",
       " 'find',\n",
       " 'format',\n",
       " 'format_map',\n",
       " 'index',\n",
       " 'isalnum',\n",
       " 'isalpha',\n",
       " 'isascii',\n",
       " 'isdecimal',\n",
       " 'isdigit',\n",
       " 'isidentifier',\n",
       " 'islower',\n",
       " 'isnumeric',\n",
       " 'isprintable',\n",
       " 'isspace',\n",
       " 'istitle',\n",
       " 'isupper',\n",
       " 'join',\n",
       " 'ljust',\n",
       " 'lower',\n",
       " 'lstrip',\n",
       " 'maketrans',\n",
       " 'partition',\n",
       " 'removeprefix',\n",
       " 'removesuffix',\n",
       " 'replace',\n",
       " 'rfind',\n",
       " 'rindex',\n",
       " 'rjust',\n",
       " 'rpartition',\n",
       " 'rsplit',\n",
       " 'rstrip',\n",
       " 'split',\n",
       " 'splitlines',\n",
       " 'startswith',\n",
       " 'strip',\n",
       " 'swapcase',\n",
       " 'title',\n",
       " 'translate',\n",
       " 'upper',\n",
       " 'zfill']"
      ]
     },
     "execution_count": 5,
     "metadata": {},
     "output_type": "execute_result"
    }
   ],
   "source": [
    "dir('hello')"
   ]
  },
  {
   "cell_type": "markdown",
   "id": "78f39840-9f9d-46c2-a81e-8467aff38a85",
   "metadata": {},
   "source": [
    "# 1.  문자열 메소드"
   ]
  },
  {
   "cell_type": "code",
   "execution_count": 19,
   "id": "76c0b5e4-194a-43d3-99f1-645e5e052147",
   "metadata": {},
   "outputs": [],
   "source": [
    "a = 'hello my name is hyunjung'"
   ]
  },
  {
   "cell_type": "code",
   "execution_count": 20,
   "id": "dfd23787-eb6d-42e8-a6c2-90df39ade136",
   "metadata": {},
   "outputs": [
    {
     "ename": "TypeError",
     "evalue": "'str' object does not support item assignment",
     "output_type": "error",
     "traceback": [
      "\u001b[1;31m---------------------------------------------------------------------------\u001b[0m",
      "\u001b[1;31mTypeError\u001b[0m                                 Traceback (most recent call last)",
      "Cell \u001b[1;32mIn[20], line 1\u001b[0m\n\u001b[1;32m----> 1\u001b[0m \u001b[43ma\u001b[49m\u001b[43m[\u001b[49m\u001b[38;5;241;43m0\u001b[39;49m\u001b[43m]\u001b[49m \u001b[38;5;241m=\u001b[39m \u001b[38;5;124m'\u001b[39m\u001b[38;5;124mH\u001b[39m\u001b[38;5;124m'\u001b[39m\n",
      "\u001b[1;31mTypeError\u001b[0m: 'str' object does not support item assignment"
     ]
    }
   ],
   "source": [
    "a[0] = 'H'"
   ]
  },
  {
   "cell_type": "code",
   "execution_count": 21,
   "id": "651ca2dc-c140-4898-98f3-33c91e65c004",
   "metadata": {},
   "outputs": [
    {
     "name": "stdout",
     "output_type": "stream",
     "text": [
      "hello my name is hyunjung\n"
     ]
    }
   ],
   "source": [
    "print(a)"
   ]
  },
  {
   "cell_type": "code",
   "execution_count": 22,
   "id": "ac4226ed-471e-4de8-9d62-e488436ccffc",
   "metadata": {},
   "outputs": [
    {
     "data": {
      "text/plain": [
       "'Hello my name is hyunjung'"
      ]
     },
     "execution_count": 22,
     "metadata": {},
     "output_type": "execute_result"
    }
   ],
   "source": [
    "a.capitalize() #첫 문자 대문자/ 원본자체 수정 안함"
   ]
  },
  {
   "cell_type": "code",
   "execution_count": 23,
   "id": "acdf31c9-c760-42ce-b76b-db16e59d284d",
   "metadata": {},
   "outputs": [
    {
     "name": "stdout",
     "output_type": "stream",
     "text": [
      "hello my name is hyunjung\n"
     ]
    }
   ],
   "source": [
    "print(a) "
   ]
  },
  {
   "cell_type": "code",
   "execution_count": 24,
   "id": "7a3ee846-f3e0-48d6-be23-52afd5af5a54",
   "metadata": {},
   "outputs": [],
   "source": [
    "a = a.capitalize()"
   ]
  },
  {
   "cell_type": "code",
   "execution_count": 25,
   "id": "4a81afcd-ae7b-47f1-b717-7e498332ff21",
   "metadata": {},
   "outputs": [
    {
     "name": "stdout",
     "output_type": "stream",
     "text": [
      "Hello my name is hyunjung\n"
     ]
    }
   ],
   "source": [
    "print(a)"
   ]
  },
  {
   "cell_type": "code",
   "execution_count": 26,
   "id": "47e436ca-3940-48b5-a613-70c35ca38e99",
   "metadata": {},
   "outputs": [
    {
     "data": {
      "text/plain": [
       "'Hello My Name Is Hyunjung'"
      ]
     },
     "execution_count": 26,
     "metadata": {},
     "output_type": "execute_result"
    }
   ],
   "source": [
    "a.title() #모든 단어의 첫글자 대문자"
   ]
  },
  {
   "cell_type": "code",
   "execution_count": 28,
   "id": "b0ed05ab-7814-49ea-b498-5aea8c997cf1",
   "metadata": {},
   "outputs": [
    {
     "data": {
      "text/plain": [
       "'HELLO MY NAME IS HYUNJUNG'"
      ]
     },
     "execution_count": 28,
     "metadata": {},
     "output_type": "execute_result"
    }
   ],
   "source": [
    "a.upper()"
   ]
  },
  {
   "cell_type": "code",
   "execution_count": 29,
   "id": "2f649c03-1b9d-4eba-97f2-8b3f488f3213",
   "metadata": {},
   "outputs": [
    {
     "data": {
      "text/plain": [
       "'hello my name is hyunjung'"
      ]
     },
     "execution_count": 29,
     "metadata": {},
     "output_type": "execute_result"
    }
   ],
   "source": [
    "a.lower()"
   ]
  },
  {
   "cell_type": "code",
   "execution_count": 33,
   "id": "f03cebe9-9bb9-41fc-a636-448cf52874bd",
   "metadata": {},
   "outputs": [
    {
     "name": "stdout",
     "output_type": "stream",
     "text": [
      "himyname\n",
      "hi/my/name\n"
     ]
    }
   ],
   "source": [
    "# ''.join(iterable)\n",
    "my_list = ['hi', 'my', 'name']\n",
    "print(''.join(my_list))\n",
    "print('/'.join(my_list))"
   ]
  },
  {
   "cell_type": "code",
   "execution_count": 36,
   "id": "f1e648d7-01b3-4056-a226-d918e8fbf0a4",
   "metadata": {},
   "outputs": [
    {
     "data": {
      "text/plain": [
       "'w!!!!!!!!!!w'"
      ]
     },
     "execution_count": 36,
     "metadata": {},
     "output_type": "execute_result"
    }
   ],
   "source": [
    "#.replace(old,new[,count])\n",
    "'woooooooooow'.replace('o','!')"
   ]
  },
  {
   "cell_type": "code",
   "execution_count": 46,
   "id": "ed52f59e-252a-47be-afc4-dada3c701c48",
   "metadata": {},
   "outputs": [
    {
     "name": "stdout",
     "output_type": "stream",
     "text": [
      "           hello\n",
      "\n",
      "hello\n",
      "ello\n",
      "ellohihihihihihi\n",
      "hihihihihihihihihello\n"
     ]
    }
   ],
   "source": [
    "#.strip 공백제거\n",
    "my_string = '           hello\\n'\n",
    "print(my_string)\n",
    "print(my_string.strip())\n",
    "\n",
    "my_string2 = 'hihihihihihihihihellohihihihihihi'\n",
    "print(my_string2.strip('hi'))\n",
    "print(my_string2.lstrip('hi')) # 왼쪽만 \n",
    "print(my_string2.rstrip('hi')) # 오른쪽만"
   ]
  },
  {
   "cell_type": "code",
   "execution_count": 53,
   "id": "930e92ff-c1da-4cdd-89e9-738ec99fd620",
   "metadata": {},
   "outputs": [
    {
     "name": "stdout",
     "output_type": "stream",
     "text": [
      "0\n",
      "1\n",
      "-1\n",
      "1\n",
      "2\n"
     ]
    }
   ],
   "source": [
    "#.find(x)\n",
    "a = 'apple'\n",
    "print(a.find('a'))\n",
    "print(a.find('p'))\n",
    "print(a.find('z')) #없으면 -1\n",
    "\n",
    "# for i in range(len(a)):\n",
    "#     if 'p' == a[i]:\n",
    "#         print(i) 한번 더 확인 "
   ]
  },
  {
   "cell_type": "code",
   "execution_count": 51,
   "id": "d1b8bc08-3eb9-4cfc-9ef2-21da57e17b53",
   "metadata": {},
   "outputs": [
    {
     "ename": "ValueError",
     "evalue": "substring not found",
     "output_type": "error",
     "traceback": [
      "\u001b[1;31m---------------------------------------------------------------------------\u001b[0m",
      "\u001b[1;31mValueError\u001b[0m                                Traceback (most recent call last)",
      "Cell \u001b[1;32mIn[51], line 4\u001b[0m\n\u001b[0;32m      2\u001b[0m a \u001b[38;5;241m=\u001b[39m \u001b[38;5;124m'\u001b[39m\u001b[38;5;124mapple\u001b[39m\u001b[38;5;124m'\u001b[39m\n\u001b[0;32m      3\u001b[0m a\u001b[38;5;241m.\u001b[39mindex(\u001b[38;5;124m'\u001b[39m\u001b[38;5;124mp\u001b[39m\u001b[38;5;124m'\u001b[39m)\n\u001b[1;32m----> 4\u001b[0m \u001b[43ma\u001b[49m\u001b[38;5;241;43m.\u001b[39;49m\u001b[43mindex\u001b[49m\u001b[43m(\u001b[49m\u001b[38;5;124;43m'\u001b[39;49m\u001b[38;5;124;43mz\u001b[39;49m\u001b[38;5;124;43m'\u001b[39;49m\u001b[43m)\u001b[49m\n",
      "\u001b[1;31mValueError\u001b[0m: substring not found"
     ]
    }
   ],
   "source": [
    "#.index(x)\n",
    "a = 'apple'\n",
    "a.index('p')\n",
    "a.index('z') #없으면 에러"
   ]
  },
  {
   "cell_type": "code",
   "execution_count": 56,
   "id": "0be65193-bf1c-445c-9b4c-b20425b71139",
   "metadata": {},
   "outputs": [
    {
     "data": {
      "text/plain": [
       "['my', 'name', 'is', 'hyun']"
      ]
     },
     "execution_count": 56,
     "metadata": {},
     "output_type": "execute_result"
    }
   ],
   "source": [
    "#.split(x) 문자열을 나눌 때 사용\n",
    "a = 'my_name_is_hyun'\n",
    "a.split('_') #디폴트는 공백"
   ]
  },
  {
   "cell_type": "code",
   "execution_count": 57,
   "id": "bec04e71-a8f5-4a32-b4be-5ea05a3cd230",
   "metadata": {},
   "outputs": [
    {
     "data": {
      "text/plain": [
       "6"
      ]
     },
     "execution_count": 57,
     "metadata": {},
     "output_type": "execute_result"
    }
   ],
   "source": [
    "#.count()\n",
    "'woooooow'.count('o')"
   ]
  },
  {
   "cell_type": "markdown",
   "id": "88fcaa10-d781-4cc9-af39-9d455ea97b24",
   "metadata": {},
   "source": [
    "# 2. 리스트 메소드"
   ]
  },
  {
   "cell_type": "code",
   "execution_count": 83,
   "id": "d2b5d8b3-fef6-4d92-a4b9-e36ce02e7f48",
   "metadata": {},
   "outputs": [],
   "source": [
    "numbers = [1, 2, 2, 5, 2, 1, 6, 2, 4, 4]"
   ]
  },
  {
   "cell_type": "code",
   "execution_count": 72,
   "id": "24cca6b2-5f4d-4938-be2b-f7a71489e8f6",
   "metadata": {},
   "outputs": [
    {
     "name": "stdout",
     "output_type": "stream",
     "text": [
      "[1, 2, 2, 5, 2, 1, 6, 2, 4, 4, 10]\n"
     ]
    }
   ],
   "source": [
    "#.append(x) 데이터추가/ 원본자체추가\n",
    "numbers.append(10)\n",
    "print(numbers)"
   ]
  },
  {
   "cell_type": "code",
   "execution_count": 73,
   "id": "41e78861-13f2-403f-bf7e-5e45e33365d4",
   "metadata": {},
   "outputs": [
    {
     "name": "stdout",
     "output_type": "stream",
     "text": [
      "[1, 2, 2, 5, 2, 1, 6, 2, 4, 4, 10, 99, 100]\n",
      "[1, 2, 2, 5, 2, 1, 6, 2, 4, 4, 10, 99, 100, 99, 100]\n"
     ]
    }
   ],
   "source": [
    "#.extend(iterable) 확장/ 두개의 리스트 합치기\n",
    "a = [99, 100]\n",
    "numbers.extend(a)\n",
    "print(numbers)\n",
    "print(numbers + a)"
   ]
  },
  {
   "cell_type": "code",
   "execution_count": 74,
   "id": "11166328-3f88-4207-b86b-0394fe92bf58",
   "metadata": {},
   "outputs": [
    {
     "name": "stdout",
     "output_type": "stream",
     "text": [
      "[1, 2, 2, 3.5, 5, 2, 1, 6, 2, 4, 4, 10, 99, 100]\n"
     ]
    }
   ],
   "source": [
    "#insert(idx,x) 원하는 위치에 데이터 추가\n",
    "numbers.insert(3, 3.5)\n",
    "print(numbers)"
   ]
  },
  {
   "cell_type": "code",
   "execution_count": 75,
   "id": "5da51ac0-21a9-43f5-a582-6fc427f2c993",
   "metadata": {},
   "outputs": [
    {
     "name": "stdout",
     "output_type": "stream",
     "text": [
      "[1, 2, 2, 5, 2, 1, 6, 2, 4, 4, 10, 99, 100]\n"
     ]
    }
   ],
   "source": [
    "#.remove 삭제\n",
    "numbers.remove(3.5)\n",
    "print(numbers)"
   ]
  },
  {
   "cell_type": "code",
   "execution_count": 77,
   "id": "e955ddd6-bb2a-4e3d-a58c-fd1c06e1d669",
   "metadata": {},
   "outputs": [
    {
     "name": "stdout",
     "output_type": "stream",
     "text": [
      "[1, 2, 2, 5, 2, 1, 6, 2, 4, 4, 10]\n"
     ]
    }
   ],
   "source": [
    "#.pop([idx]) #디폴트는 맨뒤(-1)의 데이터 사라짐\n",
    "numbers.pop() \n",
    "print(numbers)"
   ]
  },
  {
   "cell_type": "code",
   "execution_count": 80,
   "id": "173ec0d7-4d61-4bc6-81ef-9fbf88abdb07",
   "metadata": {},
   "outputs": [
    {
     "name": "stdout",
     "output_type": "stream",
     "text": [
      "[1, 1, 2, 2, 2, 2, 4, 4, 5, 6, 10]\n",
      "[10, 6, 5, 4, 4, 2, 2, 2, 2, 1, 1]\n"
     ]
    }
   ],
   "source": [
    "#.sort()\n",
    "numbers.sort() # 오름차순\n",
    "print(numbers)\n",
    "numbers.sort(reverse=True) # 내림차순 \n",
    "print(numbers)"
   ]
  },
  {
   "cell_type": "code",
   "execution_count": 86,
   "id": "9097b9e0-4248-4495-820c-34f63fa6ebf9",
   "metadata": {},
   "outputs": [
    {
     "name": "stdout",
     "output_type": "stream",
     "text": [
      "[4, 4, 2, 6, 1, 2, 5, 2, 2, 1]\n",
      "[1, 2, 2, 5, 2, 1, 6, 2, 4, 4]\n",
      "[4, 4, 2, 6, 1, 2, 5, 2, 2, 1]\n"
     ]
    }
   ],
   "source": [
    "#.reverse() 데이터 역순으로 \n",
    "print(numbers)\n",
    "numbers.reverse()\n",
    "print(numbers)\n",
    "numbers = numbers[ : :-1] #역순으로 만드는 것과 같음 \n",
    "print(numbers)"
   ]
  },
  {
   "cell_type": "markdown",
   "id": "a898fde1-8c0f-4bbb-8446-61e27db4546a",
   "metadata": {},
   "source": [
    "## 2.1 list copy "
   ]
  },
  {
   "cell_type": "code",
   "execution_count": 87,
   "id": "15bd7370-ac94-423a-a659-0fddccbbe7c6",
   "metadata": {},
   "outputs": [],
   "source": [
    "origin_list = [1, 2, 3]\n",
    "copy_list = origin_list"
   ]
  },
  {
   "cell_type": "code",
   "execution_count": 88,
   "id": "2f0e06dd-bc19-4234-8b84-b789f3537896",
   "metadata": {},
   "outputs": [
    {
     "name": "stdout",
     "output_type": "stream",
     "text": [
      "[1, 2, 3]\n",
      "[1, 2, 3]\n"
     ]
    }
   ],
   "source": [
    "print(origin_list)\n",
    "print(copy_list)"
   ]
  },
  {
   "cell_type": "code",
   "execution_count": 89,
   "id": "d9935817-b967-4ab1-83d4-b3b05653c762",
   "metadata": {},
   "outputs": [],
   "source": [
    "copy_list[0] = 100"
   ]
  },
  {
   "cell_type": "code",
   "execution_count": 91,
   "id": "3dad04eb-2e87-4b9f-bc7b-df2ed8bf8bc8",
   "metadata": {},
   "outputs": [
    {
     "name": "stdout",
     "output_type": "stream",
     "text": [
      "[100, 2, 3]\n",
      "[100, 2, 3]\n"
     ]
    }
   ],
   "source": [
    "print(origin_list) #오리진데이터도 변경됨\n",
    "print(copy_list)"
   ]
  },
  {
   "cell_type": "code",
   "execution_count": 96,
   "id": "5f156a13-56cf-4c78-b45b-d4df76782f3f",
   "metadata": {},
   "outputs": [
    {
     "name": "stdout",
     "output_type": "stream",
     "text": [
      "[1, 2, 3]\n",
      "[100, 2, 3]\n"
     ]
    }
   ],
   "source": [
    "a = [1, 2, 3]\n",
    "b = a[:] #슬라이싱 이용\n",
    "\n",
    "b[0] = 100\n",
    "\n",
    "print(a)\n",
    "print(b)"
   ]
  },
  {
   "cell_type": "code",
   "execution_count": 102,
   "id": "ced44639-46d1-4cab-a8f1-da61913b68b5",
   "metadata": {},
   "outputs": [
    {
     "name": "stdout",
     "output_type": "stream",
     "text": [
      "[1, 2, [100, 4]]\n",
      "[1, 2, [100, 4]]\n"
     ]
    }
   ],
   "source": [
    "a = [1, 2, [3, 4]]\n",
    "b = a[:]\n",
    "\n",
    "b[2][0] = 100\n",
    "\n",
    "print(a)\n",
    "print(b)\n",
    "\n",
    "#2차원 데이터 참조시 혼동"
   ]
  },
  {
   "cell_type": "code",
   "execution_count": 101,
   "id": "37eb2b2c-3911-401c-957f-986cf77fbbb3",
   "metadata": {},
   "outputs": [
    {
     "name": "stdout",
     "output_type": "stream",
     "text": [
      "[1, 2, [3, 4]]\n",
      "[1, 2, [100, 4]]\n"
     ]
    }
   ],
   "source": [
    "import copy \n",
    "a = [1, 2, [3, 4]]\n",
    "b = copy.deepcopy(a)\n",
    "\n",
    "b[2][0] = 100\n",
    "\n",
    "\n",
    "print(a)\n",
    "print(b)"
   ]
  },
  {
   "cell_type": "markdown",
   "id": "7be29181-ee88-4e18-90d3-b20e5d806d0f",
   "metadata": {},
   "source": [
    "## 2.2 list comprehension"
   ]
  },
  {
   "cell_type": "code",
   "execution_count": 105,
   "id": "2cb0a969-8fe0-4f54-8d72-a67d8974912a",
   "metadata": {},
   "outputs": [
    {
     "name": "stdout",
     "output_type": "stream",
     "text": [
      "[1, 2, 3, 4, 5, 6, 7, 8, 9, 10]\n"
     ]
    }
   ],
   "source": [
    "numbers = list(range(1,11))\n",
    "print(numbers)"
   ]
  },
  {
   "cell_type": "code",
   "execution_count": 111,
   "id": "ac80412c-152f-4afc-8cb5-9229a6591ad2",
   "metadata": {},
   "outputs": [
    {
     "name": "stdout",
     "output_type": "stream",
     "text": [
      "[1, 8, 27, 64, 125, 216, 343, 512, 729, 1000]\n"
     ]
    }
   ],
   "source": [
    "#[1, 8, 27 ,1000]\n",
    "result= []\n",
    "for number in numbers:\n",
    "    result.append(number ** 3)\n",
    "\n",
    "print(result)"
   ]
  },
  {
   "cell_type": "code",
   "execution_count": 112,
   "id": "7f9b4823-0850-42f8-b91b-e665963080ee",
   "metadata": {},
   "outputs": [
    {
     "name": "stdout",
     "output_type": "stream",
     "text": [
      "[1, 8, 27, 64, 125, 216, 343, 512, 729, 1000]\n"
     ]
    }
   ],
   "source": [
    "result2 = [number ** 3 for number in numbers] #리스트 안의  for 문 / 지양하는 편\n",
    "print(result2)"
   ]
  },
  {
   "cell_type": "code",
   "execution_count": 114,
   "id": "0e2f4cd4-6500-422b-937e-2a943a995afb",
   "metadata": {},
   "outputs": [
    {
     "name": "stdout",
     "output_type": "stream",
     "text": [
      "[2, 4, 6, 8, 10]\n"
     ]
    }
   ],
   "source": [
    "# 짝수만 고르기\n",
    "even_list= []\n",
    "for i in numbers:\n",
    "    if i % 2 == 0 :\n",
    "        even_list.append(i)\n",
    "\n",
    "print(even_list)"
   ]
  },
  {
   "cell_type": "code",
   "execution_count": 116,
   "id": "4131e464-f242-41f2-bd34-1a1adc28bf13",
   "metadata": {},
   "outputs": [
    {
     "name": "stdout",
     "output_type": "stream",
     "text": [
      "[2, 4, 6, 8, 10]\n"
     ]
    }
   ],
   "source": [
    "even_list2 = [i for i in numbers if i % 2 == 0]\n",
    "print(even_list2)"
   ]
  },
  {
   "cell_type": "code",
   "execution_count": 124,
   "id": "d3aa5b48-8507-4bbb-9a54-d3bae65ae9a7",
   "metadata": {},
   "outputs": [],
   "source": [
    "words = 'my name is hyujung'\n",
    "vowels = 'aeiou'\n",
    "\n",
    "# 모음제거 "
   ]
  },
  {
   "cell_type": "code",
   "execution_count": 138,
   "id": "d374dcae-c17e-43ea-b8b4-c4c5e5344a74",
   "metadata": {},
   "outputs": [
    {
     "name": "stdout",
     "output_type": "stream",
     "text": [
      "['m', 'y', ' ', 'n', 'm', ' ', 's', ' ', 'h', 'y', 'j', 'n', 'g']\n",
      "my nm s hyjng\n"
     ]
    }
   ],
   "source": [
    "#1. for 문 버전\n",
    "result = []\n",
    "for char in words:\n",
    "    if char not in vowels:\n",
    "       result.append(char)\n",
    "\n",
    "print(result)\n",
    "print(''.join(result))"
   ]
  },
  {
   "cell_type": "code",
   "execution_count": 141,
   "id": "ffdf700a-aa70-4d5a-9be5-411b9b59ba97",
   "metadata": {},
   "outputs": [
    {
     "name": "stdout",
     "output_type": "stream",
     "text": [
      "['M', 'Y', ' ', 'N', 'M', ' ', 'S', ' ', 'H', 'Y', 'J', 'N', 'G']\n",
      "MY NM S HYJNG\n"
     ]
    }
   ],
   "source": [
    "#2. list comprehesion\n",
    "result2 = [char.upper() for char in words if char not in vowels]\n",
    "print(result2)\n",
    "print(''.join(result2))"
   ]
  },
  {
   "cell_type": "markdown",
   "id": "f1378ea5-4b3b-4058-9428-25969e1d3274",
   "metadata": {},
   "source": [
    "## 3. 딕셔너리 메소드"
   ]
  },
  {
   "cell_type": "code",
   "execution_count": 160,
   "id": "f1216605-66d6-401a-9570-5bafb1873bd2",
   "metadata": {},
   "outputs": [],
   "source": [
    "info = {\n",
    "    'name' : 'hyunjung',\n",
    "    'location' : 'seoul',\n",
    "}"
   ]
  },
  {
   "cell_type": "code",
   "execution_count": 161,
   "id": "f4bcbcb4-3713-4766-80c5-fb9c36e48bba",
   "metadata": {},
   "outputs": [
    {
     "name": "stdout",
     "output_type": "stream",
     "text": [
      "{'name': 'kim', 'location': 'seoul'}\n"
     ]
    }
   ],
   "source": [
    "info['name'] = 'kim'\n",
    "print(info)"
   ]
  },
  {
   "cell_type": "code",
   "execution_count": 163,
   "id": "980094ea-10f4-4452-8178-62f70312c948",
   "metadata": {},
   "outputs": [
    {
     "name": "stdout",
     "output_type": "stream",
     "text": [
      "None\n",
      "{'name': 'kim'}\n"
     ]
    }
   ],
   "source": [
    "#.pop(, default[t]) # 데이터삭제\n",
    "print(info.pop('location',None))\n",
    "print(info)"
   ]
  },
  {
   "cell_type": "code",
   "execution_count": 164,
   "id": "cb8078aa-2a90-4bcd-a80b-2b50cecf5602",
   "metadata": {},
   "outputs": [
    {
     "name": "stdout",
     "output_type": "stream",
     "text": [
      "{'name': 'hyunjung'}\n"
     ]
    }
   ],
   "source": [
    "#.update(key=value)\n",
    "info.update(name='hyunjung')\n",
    "print(info)"
   ]
  },
  {
   "cell_type": "code",
   "execution_count": 169,
   "id": "d8ec61f0-f5dd-4c55-8e43-beb2a71866f9",
   "metadata": {},
   "outputs": [
    {
     "name": "stdout",
     "output_type": "stream",
     "text": [
      "hyunjung\n",
      "123\n"
     ]
    }
   ],
   "source": [
    "#.get(key,default[t])\n",
    "\n",
    "print(info.get('name'))\n",
    "print(info.get('school','123')) #없으면 에러가 아닌 None\n",
    "#print(info['schcool'])"
   ]
  },
  {
   "cell_type": "markdown",
   "id": "422a7b70-f756-4c45-9066-fa4484cdbc81",
   "metadata": {},
   "source": [
    "### 3.1 dict comprehension"
   ]
  },
  {
   "cell_type": "code",
   "execution_count": null,
   "id": "922bbf52-13ed-467a-af8b-7c627c329e62",
   "metadata": {},
   "outputs": [],
   "source": [
    "# {1: 1, 2: 8, 3: 27}"
   ]
  },
  {
   "cell_type": "code",
   "execution_count": 170,
   "id": "3a8c8c82-745b-49fd-9cc2-de784de0e8b1",
   "metadata": {},
   "outputs": [
    {
     "name": "stdout",
     "output_type": "stream",
     "text": [
      "{1: 1, 2: 8, 3: 27}\n"
     ]
    }
   ],
   "source": [
    "# for\n",
    "cube_dict = {}\n",
    "for i in range(1, 4):\n",
    "    cube_dict[i] = i ** 3\n",
    "\n",
    "print(cube_dict)"
   ]
  },
  {
   "cell_type": "code",
   "execution_count": 173,
   "id": "a38d762b-aa76-4db2-87df-2e0810b9964d",
   "metadata": {},
   "outputs": [
    {
     "name": "stdout",
     "output_type": "stream",
     "text": [
      "{1: 1, 2: 8, 3: 27}\n"
     ]
    }
   ],
   "source": [
    "#.comp\n",
    "cube_dict2 = {i : i**3 for i in range(1, 4)}\n",
    "print(cube_dict2)"
   ]
  },
  {
   "cell_type": "code",
   "execution_count": 183,
   "id": "add0661b-73f2-46f5-bd3d-8fb35f31c27d",
   "metadata": {},
   "outputs": [
    {
     "name": "stdout",
     "output_type": "stream",
     "text": [
      "dict_values([100, 30, 10, 80, 50])\n"
     ]
    }
   ],
   "source": [
    "# 50  이상인 지역만 뽑기\n",
    "dust = {\n",
    "    '서울': 100,\n",
    "    '대구': 30,\n",
    "    '대전': 10,\n",
    "    '부산': 80,\n",
    "    '광주': 50,\n",
    "}\n",
    "print(dust.values())"
   ]
  },
  {
   "cell_type": "code",
   "execution_count": 184,
   "id": "0dc0f0ba-abed-43df-85ff-80d570103b33",
   "metadata": {},
   "outputs": [
    {
     "name": "stdout",
     "output_type": "stream",
     "text": [
      "{'서울': 100, '부산': 80, '광주': 50}\n"
     ]
    }
   ],
   "source": [
    "# 1. for \n",
    "result = {}\n",
    "for k, v in dust.items():\n",
    "    if v >= 50:\n",
    "        result[k] = v\n",
    "\n",
    "print(result)"
   ]
  },
  {
   "cell_type": "code",
   "execution_count": 186,
   "id": "2674e009-2773-4c3a-b2e6-6383e78c097b",
   "metadata": {},
   "outputs": [
    {
     "name": "stdout",
     "output_type": "stream",
     "text": [
      "{'서울': '나쁨', '부산': '나쁨', '광주': '나쁨'}\n"
     ]
    }
   ],
   "source": [
    "#2. comp\n",
    "result2 = {k: '나쁨' for k, v in dust.items() if v >= 50 }\n",
    "print(result2)"
   ]
  },
  {
   "cell_type": "markdown",
   "id": "dc40b6ef-2153-4b39-ab39-46ace03ed70d",
   "metadata": {},
   "source": [
    "## 4. 세트 메소드"
   ]
  },
  {
   "cell_type": "code",
   "execution_count": 187,
   "id": "81847a6b-c899-485a-ab94-be0ca8481052",
   "metadata": {},
   "outputs": [],
   "source": [
    "fruits = {'apple', 'banana', 'melon'} "
   ]
  },
  {
   "cell_type": "code",
   "execution_count": 190,
   "id": "6d1c5776-c7cc-4a4c-a36f-6784bfe9d93b",
   "metadata": {},
   "outputs": [
    {
     "name": "stdout",
     "output_type": "stream",
     "text": [
      "{'melon', 'watermelon', 'apple', 'banana'}\n",
      "{'melon', 'watermelon', 'apple', 'banana'}\n"
     ]
    }
   ],
   "source": [
    "#.add(x) #하나추가\n",
    "fruits.add('watermelon') #순서 일정하지 않음\n",
    "print(fruits)\n",
    "fruits.add('watermelon') # 중복 불가\n",
    "print(fruits)"
   ]
  },
  {
   "cell_type": "code",
   "execution_count": 193,
   "id": "3f4ad23b-4cdd-448b-9694-8c1a98fc9fc4",
   "metadata": {},
   "outputs": [
    {
     "name": "stdout",
     "output_type": "stream",
     "text": [
      "{'banana', 'e', 'melon', 'g', 'r', 'a', 'p', 'watermelon', 'apple'}\n",
      "{'pear', 'banana', 'e', 'melon', 'g', 'r', 'a', 'orange', 'p', 'watermelon', 'apple'}\n"
     ]
    }
   ],
   "source": [
    "#.update() #여러개추가\n",
    "fruits.update('grape') #나눠서 들어감 \n",
    "print(fruits)\n",
    "fruits.update({'orange', 'pear'})\n",
    "print(fruits)"
   ]
  },
  {
   "cell_type": "code",
   "execution_count": 194,
   "id": "d8464170-eebb-4b15-b2c6-bfcedef1fff3",
   "metadata": {},
   "outputs": [
    {
     "name": "stdout",
     "output_type": "stream",
     "text": [
      "{'pear', 'banana', 'e', 'melon', 'g', 'r', 'a', 'p', 'watermelon', 'apple'}\n"
     ]
    }
   ],
   "source": [
    "#.remove()\n",
    "fruits.remove('orange')\n",
    "print(fruits)"
   ]
  },
  {
   "cell_type": "code",
   "execution_count": 196,
   "id": "0e7ff05c-11a5-45cc-b03d-6c0ac64fd5d2",
   "metadata": {},
   "outputs": [
    {
     "name": "stdout",
     "output_type": "stream",
     "text": [
      "{'e', 'melon', 'g', 'r', 'a', 'p', 'watermelon', 'apple'}\n"
     ]
    }
   ],
   "source": [
    "#.pop()\n",
    "fruits.pop()\n",
    "print(fruits) #무작위 순서이므로 랜덤하게 뺀다고 생각하면 된당! "
   ]
  },
  {
   "cell_type": "markdown",
   "id": "422266d3-31b5-42f8-bb8e-1a053ae4d0e0",
   "metadata": {},
   "source": [
    "# 5. map(), zip(), filter()"
   ]
  },
  {
   "cell_type": "markdown",
   "id": "3ecf7652-e35a-4c1f-b3fb-ff6b6fa7dc87",
   "metadata": {},
   "source": [
    "## 5.1 map()\n",
    "```\n",
    "map(function, interable) 모든함수 적용하고싶을 때\n",
    "\n",
    "\n",
    "```"
   ]
  },
  {
   "cell_type": "code",
   "execution_count": 200,
   "id": "bd63e32e-eb02-437f-a4d0-d4bf1935a09c",
   "metadata": {},
   "outputs": [
    {
     "name": "stdout",
     "output_type": "stream",
     "text": [
      "<map object at 0x000001CF19532CB0>\n",
      "['1', '2', '3']\n"
     ]
    }
   ],
   "source": [
    "a = [1, 2, 3]\n",
    "\n",
    "number_str = map(str, a) #객체만 만든 형태 \n",
    "print(number_str)\n",
    "print(list(number_str)) #리스트로 감싸야 비로소 연산이 출력 된다! "
   ]
  },
  {
   "cell_type": "code",
   "execution_count": 201,
   "id": "09b42d6c-0a06-4fda-8ca1-60224750b594",
   "metadata": {},
   "outputs": [],
   "source": [
    "def cube(x):\n",
    "    return x ** 3"
   ]
  },
  {
   "cell_type": "code",
   "execution_count": 202,
   "id": "85aab500-7f50-4e2d-8d0b-90cc3a811be2",
   "metadata": {},
   "outputs": [
    {
     "name": "stdout",
     "output_type": "stream",
     "text": [
      "[1, 8, 27]\n"
     ]
    }
   ],
   "source": [
    "# for문을 활용하여 모든 item에 cube함수를 실행\n",
    "result = []\n",
    "for i in a:\n",
    "    result.append(cube(i))\n",
    "print(result)"
   ]
  },
  {
   "cell_type": "code",
   "execution_count": 204,
   "id": "7094cd8d-3549-4c75-93ac-03e1efb40f59",
   "metadata": {},
   "outputs": [
    {
     "name": "stdout",
     "output_type": "stream",
     "text": [
      "[1, 8, 27]\n"
     ]
    }
   ],
   "source": [
    "result2 = map(cube, a)\n",
    "print(list(result2))"
   ]
  },
  {
   "cell_type": "code",
   "execution_count": 209,
   "id": "e5dcbb43-fa77-4fed-bd49-452c6b6d6b64",
   "metadata": {},
   "outputs": [
    {
     "name": "stdin",
     "output_type": "stream",
     "text": [
      " 1 2 3 4 5\n"
     ]
    },
    {
     "name": "stdout",
     "output_type": "stream",
     "text": [
      "[1, 2, 3, 4, 5]\n"
     ]
    }
   ],
   "source": [
    "numbers =list( map(int, input().split()))\n",
    "print(numbers)"
   ]
  },
  {
   "cell_type": "code",
   "execution_count": null,
   "id": "57014f17-216a-4801-bf48-1efcaf8e575f",
   "metadata": {},
   "outputs": [],
   "source": []
  },
  {
   "cell_type": "markdown",
   "id": "8c063393-0178-4dde-855c-2b9d65f8ec67",
   "metadata": {},
   "source": [
    "# 5.2 zip"
   ]
  },
  {
   "cell_type": "code",
   "execution_count": 210,
   "id": "f64d6e12-6633-4970-b14c-8f20e8974cf3",
   "metadata": {},
   "outputs": [],
   "source": [
    "a = [1, 2, 3]\n",
    "b = [100, 200, 300]"
   ]
  },
  {
   "cell_type": "code",
   "execution_count": 213,
   "id": "67894a10-3d9c-463b-9685-6f6d7492282c",
   "metadata": {},
   "outputs": [
    {
     "name": "stdout",
     "output_type": "stream",
     "text": [
      "<zip object at 0x000001CF193BE640>\n",
      "[(1, 100), (2, 200), (3, 300)]\n"
     ]
    }
   ],
   "source": [
    "result = zip(a, b)\n",
    "print(result)\n",
    "print(list(result))"
   ]
  },
  {
   "cell_type": "markdown",
   "id": "559a2e76-b38c-4557-a693-3d4e58b8e721",
   "metadata": {},
   "source": [
    "## 5.3 filter\n",
    "```python\n",
    "filter(function, iterable)\n",
    "```\n",
    "filter에 들어가는 함수는 T/F를 반환해야함."
   ]
  },
  {
   "cell_type": "code",
   "execution_count": 214,
   "id": "ad401dbb-5d76-4158-8800-bc018fbdca2c",
   "metadata": {},
   "outputs": [],
   "source": [
    "def is_odd(x):\n",
    "    # if x % 2 == 1:\n",
    "    #     return True\n",
    "    # else:\n",
    "    #     return False\n",
    "    return bool(x % 2) # 1>T, 0>F"
   ]
  },
  {
   "cell_type": "code",
   "execution_count": 215,
   "id": "51ed4373-a797-4b3a-bd20-3d78bc70659b",
   "metadata": {},
   "outputs": [
    {
     "name": "stdout",
     "output_type": "stream",
     "text": [
      "<filter object at 0x000001CF19533700>\n",
      "[1, 3, 5]\n"
     ]
    }
   ],
   "source": [
    "numbers = [1, 2, 3, 4, 5]\n",
    "result = filter(is_odd, numbers)\n",
    "print(result)\n",
    "print(list(result))"
   ]
  },
  {
   "cell_type": "code",
   "execution_count": null,
   "id": "d0e858ad-99ad-459d-9662-b87c3dc5dc20",
   "metadata": {},
   "outputs": [],
   "source": []
  },
  {
   "cell_type": "code",
   "execution_count": null,
   "id": "dd9dbb94-7bac-4b38-85b9-1c36c31f7baf",
   "metadata": {},
   "outputs": [],
   "source": []
  }
 ],
 "metadata": {
  "kernelspec": {
   "display_name": "Python 3 (ipykernel)",
   "language": "python",
   "name": "python3"
  },
  "language_info": {
   "codemirror_mode": {
    "name": "ipython",
    "version": 3
   },
   "file_extension": ".py",
   "mimetype": "text/x-python",
   "name": "python",
   "nbconvert_exporter": "python",
   "pygments_lexer": "ipython3",
   "version": "3.11.4"
  }
 },
 "nbformat": 4,
 "nbformat_minor": 5
}
